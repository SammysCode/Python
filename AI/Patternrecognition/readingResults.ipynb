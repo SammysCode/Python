{
 "cells": [
  {
   "cell_type": "markdown",
   "id": "3fb46ff1",
   "metadata": {},
   "source": [
    "# Reading the results of predictions"
   ]
  },
  {
   "cell_type": "code",
   "execution_count": 1,
   "id": "36b35c9d",
   "metadata": {},
   "outputs": [],
   "source": [
    "import pandas as pd\n"
   ]
  },
  {
   "cell_type": "code",
   "execution_count": 2,
   "id": "f3d64d32",
   "metadata": {},
   "outputs": [
    {
     "data": {
      "text/html": [
       "<div>\n",
       "<style scoped>\n",
       "    .dataframe tbody tr th:only-of-type {\n",
       "        vertical-align: middle;\n",
       "    }\n",
       "\n",
       "    .dataframe tbody tr th {\n",
       "        vertical-align: top;\n",
       "    }\n",
       "\n",
       "    .dataframe thead th {\n",
       "        text-align: right;\n",
       "    }\n",
       "</style>\n",
       "<table border=\"1\" class=\"dataframe\">\n",
       "  <thead>\n",
       "    <tr style=\"text-align: right;\">\n",
       "      <th></th>\n",
       "      <th>Unnamed: 0</th>\n",
       "      <th>Prediction</th>\n",
       "      <th>Accuracy</th>\n",
       "    </tr>\n",
       "  </thead>\n",
       "  <tbody>\n",
       "    <tr>\n",
       "      <th>0</th>\n",
       "      <td>0</td>\n",
       "      <td>collie</td>\n",
       "      <td>71.147239</td>\n",
       "    </tr>\n",
       "    <tr>\n",
       "      <th>1</th>\n",
       "      <td>1</td>\n",
       "      <td>television</td>\n",
       "      <td>15.101729</td>\n",
       "    </tr>\n",
       "    <tr>\n",
       "      <th>2</th>\n",
       "      <td>2</td>\n",
       "      <td>Chihuahua</td>\n",
       "      <td>48.090509</td>\n",
       "    </tr>\n",
       "    <tr>\n",
       "      <th>3</th>\n",
       "      <td>3</td>\n",
       "      <td>Pembroke</td>\n",
       "      <td>85.047215</td>\n",
       "    </tr>\n",
       "    <tr>\n",
       "      <th>4</th>\n",
       "      <td>4</td>\n",
       "      <td>Pembroke</td>\n",
       "      <td>64.092809</td>\n",
       "    </tr>\n",
       "  </tbody>\n",
       "</table>\n",
       "</div>"
      ],
      "text/plain": [
       "   Unnamed: 0  Prediction   Accuracy\n",
       "0           0      collie  71.147239\n",
       "1           1  television  15.101729\n",
       "2           2   Chihuahua  48.090509\n",
       "3           3    Pembroke  85.047215\n",
       "4           4    Pembroke  64.092809"
      ]
     },
     "execution_count": 2,
     "metadata": {},
     "output_type": "execute_result"
    }
   ],
   "source": [
    "res_data = pd.read_excel('resnet_result.xlsx')\n",
    "res_data.head()"
   ]
  },
  {
   "cell_type": "code",
   "execution_count": 3,
   "id": "4b565ef7",
   "metadata": {},
   "outputs": [
    {
     "name": "stdout",
     "output_type": "stream",
     "text": [
      "<class 'pandas.core.frame.DataFrame'>\n",
      "RangeIndex: 50 entries, 0 to 49\n",
      "Data columns (total 2 columns):\n",
      " #   Column      Non-Null Count  Dtype  \n",
      "---  ------      --------------  -----  \n",
      " 0   Prediction  50 non-null     object \n",
      " 1   Accuracy    50 non-null     float64\n",
      "dtypes: float64(1), object(1)\n",
      "memory usage: 928.0+ bytes\n"
     ]
    }
   ],
   "source": [
    "res_data = res_data.drop(['Unnamed: 0'], axis = 1)\n",
    "res_data.info()"
   ]
  },
  {
   "cell_type": "code",
   "execution_count": 17,
   "id": "c2490ad0",
   "metadata": {},
   "outputs": [
    {
     "data": {
      "text/plain": [
       "golden_retriever            6\n",
       "Pembroke                    6\n",
       "Samoyed                     2\n",
       "vizsla                      2\n",
       "pug                         2\n",
       "Saluki                      2\n",
       "malamute                    2\n",
       "Labrador_retriever          2\n",
       "Boston_bull                 2\n",
       "Old_English_sheepdog        1\n",
       "seashore                    1\n",
       "bloodhound                  1\n",
       "collie                      1\n",
       "cocker_spaniel              1\n",
       "Doberman                    1\n",
       "Cardigan                    1\n",
       "Pomeranian                  1\n",
       "ice_bear                    1\n",
       "lakeside                    1\n",
       "dingo                       1\n",
       "Irish_setter                1\n",
       "Chesapeake_Bay_retriever    1\n",
       "Irish_terrier               1\n",
       "television                  1\n",
       "Great_Pyrenees              1\n",
       "papillon                    1\n",
       "Irish_wolfhound             1\n",
       "Bernese_mountain_dog        1\n",
       "Arabian_camel               1\n",
       "Italian_greyhound           1\n",
       "whippet                     1\n",
       "Weimaraner                  1\n",
       "toy_poodle                  1\n",
       "bluetick                    1\n",
       "Chihuahua                   1\n",
       "croquet_ball                1\n",
       "Name: Prediction, dtype: int64"
      ]
     },
     "execution_count": 17,
     "metadata": {},
     "output_type": "execute_result"
    }
   ],
   "source": [
    "res_data['Prediction'].value_counts()"
   ]
  },
  {
   "cell_type": "markdown",
   "id": "4d28d13b",
   "metadata": {},
   "source": [
    "6 predictions were not dogs"
   ]
  },
  {
   "cell_type": "code",
   "execution_count": 4,
   "id": "b6048a34",
   "metadata": {},
   "outputs": [
    {
     "data": {
      "text/plain": [
       "88.0"
      ]
     },
     "execution_count": 4,
     "metadata": {},
     "output_type": "execute_result"
    }
   ],
   "source": [
    "44/50*100"
   ]
  },
  {
   "cell_type": "code",
   "execution_count": 5,
   "id": "54b5a323",
   "metadata": {},
   "outputs": [
    {
     "data": {
      "text/html": [
       "<div>\n",
       "<style scoped>\n",
       "    .dataframe tbody tr th:only-of-type {\n",
       "        vertical-align: middle;\n",
       "    }\n",
       "\n",
       "    .dataframe tbody tr th {\n",
       "        vertical-align: top;\n",
       "    }\n",
       "\n",
       "    .dataframe thead th {\n",
       "        text-align: right;\n",
       "    }\n",
       "</style>\n",
       "<table border=\"1\" class=\"dataframe\">\n",
       "  <thead>\n",
       "    <tr style=\"text-align: right;\">\n",
       "      <th></th>\n",
       "      <th>Unnamed: 0</th>\n",
       "      <th>Prediction</th>\n",
       "      <th>Accuracy</th>\n",
       "    </tr>\n",
       "  </thead>\n",
       "  <tbody>\n",
       "    <tr>\n",
       "      <th>0</th>\n",
       "      <td>0</td>\n",
       "      <td>collie</td>\n",
       "      <td>27.806208</td>\n",
       "    </tr>\n",
       "    <tr>\n",
       "      <th>1</th>\n",
       "      <td>1</td>\n",
       "      <td>Chihuahua</td>\n",
       "      <td>19.943847</td>\n",
       "    </tr>\n",
       "    <tr>\n",
       "      <th>2</th>\n",
       "      <td>2</td>\n",
       "      <td>Chihuahua</td>\n",
       "      <td>27.837750</td>\n",
       "    </tr>\n",
       "    <tr>\n",
       "      <th>3</th>\n",
       "      <td>3</td>\n",
       "      <td>Cardigan</td>\n",
       "      <td>62.555903</td>\n",
       "    </tr>\n",
       "    <tr>\n",
       "      <th>4</th>\n",
       "      <td>4</td>\n",
       "      <td>Cardigan</td>\n",
       "      <td>74.440324</td>\n",
       "    </tr>\n",
       "  </tbody>\n",
       "</table>\n",
       "</div>"
      ],
      "text/plain": [
       "   Unnamed: 0 Prediction   Accuracy\n",
       "0           0     collie  27.806208\n",
       "1           1  Chihuahua  19.943847\n",
       "2           2  Chihuahua  27.837750\n",
       "3           3   Cardigan  62.555903\n",
       "4           4   Cardigan  74.440324"
      ]
     },
     "execution_count": 5,
     "metadata": {},
     "output_type": "execute_result"
    }
   ],
   "source": [
    "vgg_data = pd.read_excel('vgg_result.xlsx')\n",
    "vgg_data.head()"
   ]
  },
  {
   "cell_type": "code",
   "execution_count": 6,
   "id": "aa2c484f",
   "metadata": {},
   "outputs": [
    {
     "data": {
      "text/plain": [
       "Chihuahua                   4\n",
       "Cardigan                    3\n",
       "golden_retriever            3\n",
       "collie                      2\n",
       "Pembroke                    2\n",
       "malamute                    2\n",
       "Saluki                      2\n",
       "vizsla                      2\n",
       "French_bulldog              2\n",
       "Chesapeake_Bay_retriever    2\n",
       "Italian_greyhound           2\n",
       "whippet                     1\n",
       "pug                         1\n",
       "Ibizan_hound                1\n",
       "sandbar                     1\n",
       "ptarmigan                   1\n",
       "Pomeranian                  1\n",
       "miniature_poodle            1\n",
       "Labrador_retriever          1\n",
       "cocker_spaniel              1\n",
       "white_wolf                  1\n",
       "Weimaraner                  1\n",
       "ibex                        1\n",
       "Irish_setter                1\n",
       "fur_coat                    1\n",
       "borzoi                      1\n",
       "Doberman                    1\n",
       "Irish_terrier               1\n",
       "dingo                       1\n",
       "papillon                    1\n",
       "langur                      1\n",
       "Bernese_mountain_dog        1\n",
       "kuvasz                      1\n",
       "Pekinese                    1\n",
       "boxer                       1\n",
       "Name: Prediction, dtype: int64"
      ]
     },
     "execution_count": 6,
     "metadata": {},
     "output_type": "execute_result"
    }
   ],
   "source": [
    "vgg_data['Prediction'].value_counts()"
   ]
  },
  {
   "cell_type": "markdown",
   "id": "41dcc7ea",
   "metadata": {},
   "source": [
    "7 predictions were not dogs"
   ]
  },
  {
   "cell_type": "code",
   "execution_count": 7,
   "id": "72452a40",
   "metadata": {},
   "outputs": [
    {
     "data": {
      "text/plain": [
       "86.0"
      ]
     },
     "execution_count": 7,
     "metadata": {},
     "output_type": "execute_result"
    }
   ],
   "source": [
    "43/50*100"
   ]
  },
  {
   "cell_type": "code",
   "execution_count": 8,
   "id": "f0284079",
   "metadata": {},
   "outputs": [
    {
     "data": {
      "text/plain": [
       "96.0"
      ]
     },
     "execution_count": 8,
     "metadata": {},
     "output_type": "execute_result"
    }
   ],
   "source": [
    "48/50*100"
   ]
  },
  {
   "cell_type": "code",
   "execution_count": null,
   "id": "ebc93998",
   "metadata": {},
   "outputs": [],
   "source": []
  }
 ],
 "metadata": {
  "kernelspec": {
   "display_name": "Python 3 (ipykernel)",
   "language": "python",
   "name": "python3"
  },
  "language_info": {
   "codemirror_mode": {
    "name": "ipython",
    "version": 3
   },
   "file_extension": ".py",
   "mimetype": "text/x-python",
   "name": "python",
   "nbconvert_exporter": "python",
   "pygments_lexer": "ipython3",
   "version": "3.8.5"
  }
 },
 "nbformat": 4,
 "nbformat_minor": 5
}
