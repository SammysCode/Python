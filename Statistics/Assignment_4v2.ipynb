{
 "cells": [
  {
   "cell_type": "markdown",
   "id": "8c2ab523",
   "metadata": {},
   "source": [
    "# Assignment 4\n",
    "# Cezar Budeci, Samantha Bergdahl"
   ]
  },
  {
   "cell_type": "code",
   "execution_count": 1,
   "id": "abc7473a",
   "metadata": {},
   "outputs": [],
   "source": [
    "import numpy as np\n",
    "import pandas as pd\n",
    "import matplotlib.pyplot as plt\n",
    "import seaborn as sns\n",
    "from scipy.stats import ttest_ind\n",
    "from scipy.stats import mannwhitneyu\n",
    "from scipy.stats import f_oneway\n",
    "from scipy.stats import kruskal"
   ]
  },
  {
   "cell_type": "code",
   "execution_count": 2,
   "id": "1afdc0ef",
   "metadata": {},
   "outputs": [],
   "source": [
    "df = pd.read_csv('data1_eng.csv', sep = ';', decimal = ',')"
   ]
  },
  {
   "cell_type": "code",
   "execution_count": 3,
   "id": "b93aa735",
   "metadata": {},
   "outputs": [
    {
     "data": {
      "text/html": [
       "<div>\n",
       "<style scoped>\n",
       "    .dataframe tbody tr th:only-of-type {\n",
       "        vertical-align: middle;\n",
       "    }\n",
       "\n",
       "    .dataframe tbody tr th {\n",
       "        vertical-align: top;\n",
       "    }\n",
       "\n",
       "    .dataframe thead th {\n",
       "        text-align: right;\n",
       "    }\n",
       "</style>\n",
       "<table border=\"1\" class=\"dataframe\">\n",
       "  <thead>\n",
       "    <tr style=\"text-align: right;\">\n",
       "      <th></th>\n",
       "      <th>number</th>\n",
       "      <th>gender</th>\n",
       "      <th>age</th>\n",
       "      <th>family</th>\n",
       "      <th>education</th>\n",
       "      <th>years_of_service</th>\n",
       "      <th>salary</th>\n",
       "      <th>sat management</th>\n",
       "      <th>sat_colleques</th>\n",
       "      <th>sat_workingEnvironment</th>\n",
       "      <th>sat_salary</th>\n",
       "      <th>sat_tasks</th>\n",
       "      <th>healtcare_work</th>\n",
       "      <th>holidayCabin</th>\n",
       "      <th>gym</th>\n",
       "      <th>muscleCare</th>\n",
       "    </tr>\n",
       "  </thead>\n",
       "  <tbody>\n",
       "    <tr>\n",
       "      <th>0</th>\n",
       "      <td>1</td>\n",
       "      <td>1</td>\n",
       "      <td>38</td>\n",
       "      <td>1</td>\n",
       "      <td>1.0</td>\n",
       "      <td>22.0</td>\n",
       "      <td>3587</td>\n",
       "      <td>3</td>\n",
       "      <td>3.0</td>\n",
       "      <td>3</td>\n",
       "      <td>3</td>\n",
       "      <td>3</td>\n",
       "      <td>NaN</td>\n",
       "      <td>NaN</td>\n",
       "      <td>NaN</td>\n",
       "      <td>NaN</td>\n",
       "    </tr>\n",
       "    <tr>\n",
       "      <th>1</th>\n",
       "      <td>2</td>\n",
       "      <td>1</td>\n",
       "      <td>29</td>\n",
       "      <td>2</td>\n",
       "      <td>2.0</td>\n",
       "      <td>10.0</td>\n",
       "      <td>2963</td>\n",
       "      <td>1</td>\n",
       "      <td>5.0</td>\n",
       "      <td>2</td>\n",
       "      <td>1</td>\n",
       "      <td>3</td>\n",
       "      <td>NaN</td>\n",
       "      <td>NaN</td>\n",
       "      <td>NaN</td>\n",
       "      <td>NaN</td>\n",
       "    </tr>\n",
       "    <tr>\n",
       "      <th>2</th>\n",
       "      <td>3</td>\n",
       "      <td>1</td>\n",
       "      <td>30</td>\n",
       "      <td>1</td>\n",
       "      <td>1.0</td>\n",
       "      <td>7.0</td>\n",
       "      <td>1989</td>\n",
       "      <td>3</td>\n",
       "      <td>4.0</td>\n",
       "      <td>1</td>\n",
       "      <td>1</td>\n",
       "      <td>3</td>\n",
       "      <td>1.0</td>\n",
       "      <td>NaN</td>\n",
       "      <td>NaN</td>\n",
       "      <td>NaN</td>\n",
       "    </tr>\n",
       "    <tr>\n",
       "      <th>3</th>\n",
       "      <td>4</td>\n",
       "      <td>1</td>\n",
       "      <td>36</td>\n",
       "      <td>2</td>\n",
       "      <td>1.0</td>\n",
       "      <td>14.0</td>\n",
       "      <td>2144</td>\n",
       "      <td>3</td>\n",
       "      <td>3.0</td>\n",
       "      <td>3</td>\n",
       "      <td>3</td>\n",
       "      <td>3</td>\n",
       "      <td>1.0</td>\n",
       "      <td>NaN</td>\n",
       "      <td>NaN</td>\n",
       "      <td>NaN</td>\n",
       "    </tr>\n",
       "    <tr>\n",
       "      <th>4</th>\n",
       "      <td>5</td>\n",
       "      <td>1</td>\n",
       "      <td>24</td>\n",
       "      <td>1</td>\n",
       "      <td>2.0</td>\n",
       "      <td>4.0</td>\n",
       "      <td>2183</td>\n",
       "      <td>2</td>\n",
       "      <td>3.0</td>\n",
       "      <td>2</td>\n",
       "      <td>1</td>\n",
       "      <td>2</td>\n",
       "      <td>1.0</td>\n",
       "      <td>NaN</td>\n",
       "      <td>NaN</td>\n",
       "      <td>NaN</td>\n",
       "    </tr>\n",
       "    <tr>\n",
       "      <th>...</th>\n",
       "      <td>...</td>\n",
       "      <td>...</td>\n",
       "      <td>...</td>\n",
       "      <td>...</td>\n",
       "      <td>...</td>\n",
       "      <td>...</td>\n",
       "      <td>...</td>\n",
       "      <td>...</td>\n",
       "      <td>...</td>\n",
       "      <td>...</td>\n",
       "      <td>...</td>\n",
       "      <td>...</td>\n",
       "      <td>...</td>\n",
       "      <td>...</td>\n",
       "      <td>...</td>\n",
       "      <td>...</td>\n",
       "    </tr>\n",
       "    <tr>\n",
       "      <th>77</th>\n",
       "      <td>78</td>\n",
       "      <td>1</td>\n",
       "      <td>22</td>\n",
       "      <td>1</td>\n",
       "      <td>3.0</td>\n",
       "      <td>0.0</td>\n",
       "      <td>1598</td>\n",
       "      <td>4</td>\n",
       "      <td>4.0</td>\n",
       "      <td>4</td>\n",
       "      <td>3</td>\n",
       "      <td>4</td>\n",
       "      <td>NaN</td>\n",
       "      <td>1.0</td>\n",
       "      <td>1.0</td>\n",
       "      <td>NaN</td>\n",
       "    </tr>\n",
       "    <tr>\n",
       "      <th>78</th>\n",
       "      <td>79</td>\n",
       "      <td>1</td>\n",
       "      <td>33</td>\n",
       "      <td>1</td>\n",
       "      <td>1.0</td>\n",
       "      <td>2.0</td>\n",
       "      <td>1638</td>\n",
       "      <td>1</td>\n",
       "      <td>3.0</td>\n",
       "      <td>2</td>\n",
       "      <td>1</td>\n",
       "      <td>2</td>\n",
       "      <td>1.0</td>\n",
       "      <td>NaN</td>\n",
       "      <td>NaN</td>\n",
       "      <td>NaN</td>\n",
       "    </tr>\n",
       "    <tr>\n",
       "      <th>79</th>\n",
       "      <td>80</td>\n",
       "      <td>1</td>\n",
       "      <td>27</td>\n",
       "      <td>1</td>\n",
       "      <td>2.0</td>\n",
       "      <td>7.0</td>\n",
       "      <td>2612</td>\n",
       "      <td>3</td>\n",
       "      <td>4.0</td>\n",
       "      <td>3</td>\n",
       "      <td>3</td>\n",
       "      <td>3</td>\n",
       "      <td>1.0</td>\n",
       "      <td>NaN</td>\n",
       "      <td>1.0</td>\n",
       "      <td>NaN</td>\n",
       "    </tr>\n",
       "    <tr>\n",
       "      <th>80</th>\n",
       "      <td>81</td>\n",
       "      <td>1</td>\n",
       "      <td>35</td>\n",
       "      <td>2</td>\n",
       "      <td>2.0</td>\n",
       "      <td>16.0</td>\n",
       "      <td>2808</td>\n",
       "      <td>3</td>\n",
       "      <td>4.0</td>\n",
       "      <td>3</td>\n",
       "      <td>3</td>\n",
       "      <td>3</td>\n",
       "      <td>NaN</td>\n",
       "      <td>NaN</td>\n",
       "      <td>NaN</td>\n",
       "      <td>NaN</td>\n",
       "    </tr>\n",
       "    <tr>\n",
       "      <th>81</th>\n",
       "      <td>82</td>\n",
       "      <td>2</td>\n",
       "      <td>35</td>\n",
       "      <td>2</td>\n",
       "      <td>3.0</td>\n",
       "      <td>15.0</td>\n",
       "      <td>2183</td>\n",
       "      <td>3</td>\n",
       "      <td>4.0</td>\n",
       "      <td>4</td>\n",
       "      <td>3</td>\n",
       "      <td>4</td>\n",
       "      <td>1.0</td>\n",
       "      <td>NaN</td>\n",
       "      <td>NaN</td>\n",
       "      <td>NaN</td>\n",
       "    </tr>\n",
       "  </tbody>\n",
       "</table>\n",
       "<p>82 rows × 16 columns</p>\n",
       "</div>"
      ],
      "text/plain": [
       "    number  gender  age  family  education  years_of_service  salary  \\\n",
       "0        1       1   38       1        1.0              22.0    3587   \n",
       "1        2       1   29       2        2.0              10.0    2963   \n",
       "2        3       1   30       1        1.0               7.0    1989   \n",
       "3        4       1   36       2        1.0              14.0    2144   \n",
       "4        5       1   24       1        2.0               4.0    2183   \n",
       "..     ...     ...  ...     ...        ...               ...     ...   \n",
       "77      78       1   22       1        3.0               0.0    1598   \n",
       "78      79       1   33       1        1.0               2.0    1638   \n",
       "79      80       1   27       1        2.0               7.0    2612   \n",
       "80      81       1   35       2        2.0              16.0    2808   \n",
       "81      82       2   35       2        3.0              15.0    2183   \n",
       "\n",
       "    sat management  sat_colleques  sat_workingEnvironment  sat_salary  \\\n",
       "0                3            3.0                       3           3   \n",
       "1                1            5.0                       2           1   \n",
       "2                3            4.0                       1           1   \n",
       "3                3            3.0                       3           3   \n",
       "4                2            3.0                       2           1   \n",
       "..             ...            ...                     ...         ...   \n",
       "77               4            4.0                       4           3   \n",
       "78               1            3.0                       2           1   \n",
       "79               3            4.0                       3           3   \n",
       "80               3            4.0                       3           3   \n",
       "81               3            4.0                       4           3   \n",
       "\n",
       "    sat_tasks  healtcare_work  holidayCabin  gym  muscleCare  \n",
       "0           3             NaN           NaN  NaN         NaN  \n",
       "1           3             NaN           NaN  NaN         NaN  \n",
       "2           3             1.0           NaN  NaN         NaN  \n",
       "3           3             1.0           NaN  NaN         NaN  \n",
       "4           2             1.0           NaN  NaN         NaN  \n",
       "..        ...             ...           ...  ...         ...  \n",
       "77          4             NaN           1.0  1.0         NaN  \n",
       "78          2             1.0           NaN  NaN         NaN  \n",
       "79          3             1.0           NaN  1.0         NaN  \n",
       "80          3             NaN           NaN  NaN         NaN  \n",
       "81          4             1.0           NaN  NaN         NaN  \n",
       "\n",
       "[82 rows x 16 columns]"
      ]
     },
     "execution_count": 3,
     "metadata": {},
     "output_type": "execute_result"
    }
   ],
   "source": [
    "df"
   ]
  },
  {
   "cell_type": "code",
   "execution_count": 4,
   "id": "5744cd2a",
   "metadata": {},
   "outputs": [
    {
     "data": {
      "text/html": [
       "<div>\n",
       "<style scoped>\n",
       "    .dataframe tbody tr th:only-of-type {\n",
       "        vertical-align: middle;\n",
       "    }\n",
       "\n",
       "    .dataframe tbody tr th {\n",
       "        vertical-align: top;\n",
       "    }\n",
       "\n",
       "    .dataframe thead th {\n",
       "        text-align: right;\n",
       "    }\n",
       "</style>\n",
       "<table border=\"1\" class=\"dataframe\">\n",
       "  <thead>\n",
       "    <tr style=\"text-align: right;\">\n",
       "      <th></th>\n",
       "      <th>number</th>\n",
       "      <th>gender</th>\n",
       "      <th>age</th>\n",
       "      <th>family</th>\n",
       "      <th>education</th>\n",
       "      <th>years_of_service</th>\n",
       "      <th>salary</th>\n",
       "      <th>sat management</th>\n",
       "      <th>sat_colleques</th>\n",
       "      <th>sat_workingEnvironment</th>\n",
       "      <th>sat_salary</th>\n",
       "      <th>sat_tasks</th>\n",
       "      <th>healtcare_work</th>\n",
       "      <th>holidayCabin</th>\n",
       "      <th>gym</th>\n",
       "      <th>muscleCare</th>\n",
       "    </tr>\n",
       "  </thead>\n",
       "  <tbody>\n",
       "    <tr>\n",
       "      <th>count</th>\n",
       "      <td>82.000000</td>\n",
       "      <td>82.000000</td>\n",
       "      <td>82.000000</td>\n",
       "      <td>82.000000</td>\n",
       "      <td>81.000000</td>\n",
       "      <td>80.000000</td>\n",
       "      <td>82.000000</td>\n",
       "      <td>82.000000</td>\n",
       "      <td>81.000000</td>\n",
       "      <td>82.000000</td>\n",
       "      <td>82.000000</td>\n",
       "      <td>82.000000</td>\n",
       "      <td>47.0</td>\n",
       "      <td>20.0</td>\n",
       "      <td>9.0</td>\n",
       "      <td>22.0</td>\n",
       "    </tr>\n",
       "    <tr>\n",
       "      <th>mean</th>\n",
       "      <td>41.500000</td>\n",
       "      <td>1.231707</td>\n",
       "      <td>37.951220</td>\n",
       "      <td>1.621951</td>\n",
       "      <td>1.987654</td>\n",
       "      <td>12.175000</td>\n",
       "      <td>2563.878049</td>\n",
       "      <td>3.060976</td>\n",
       "      <td>4.061728</td>\n",
       "      <td>3.219512</td>\n",
       "      <td>2.109756</td>\n",
       "      <td>3.195122</td>\n",
       "      <td>1.0</td>\n",
       "      <td>1.0</td>\n",
       "      <td>1.0</td>\n",
       "      <td>1.0</td>\n",
       "    </tr>\n",
       "    <tr>\n",
       "      <th>std</th>\n",
       "      <td>23.815261</td>\n",
       "      <td>0.424519</td>\n",
       "      <td>9.773866</td>\n",
       "      <td>0.487884</td>\n",
       "      <td>0.844006</td>\n",
       "      <td>8.807038</td>\n",
       "      <td>849.350302</td>\n",
       "      <td>1.058155</td>\n",
       "      <td>0.826826</td>\n",
       "      <td>1.154961</td>\n",
       "      <td>1.111179</td>\n",
       "      <td>1.047502</td>\n",
       "      <td>0.0</td>\n",
       "      <td>0.0</td>\n",
       "      <td>0.0</td>\n",
       "      <td>0.0</td>\n",
       "    </tr>\n",
       "    <tr>\n",
       "      <th>min</th>\n",
       "      <td>1.000000</td>\n",
       "      <td>1.000000</td>\n",
       "      <td>20.000000</td>\n",
       "      <td>1.000000</td>\n",
       "      <td>1.000000</td>\n",
       "      <td>0.000000</td>\n",
       "      <td>1521.000000</td>\n",
       "      <td>1.000000</td>\n",
       "      <td>2.000000</td>\n",
       "      <td>1.000000</td>\n",
       "      <td>1.000000</td>\n",
       "      <td>1.000000</td>\n",
       "      <td>1.0</td>\n",
       "      <td>1.0</td>\n",
       "      <td>1.0</td>\n",
       "      <td>1.0</td>\n",
       "    </tr>\n",
       "    <tr>\n",
       "      <th>25%</th>\n",
       "      <td>21.250000</td>\n",
       "      <td>1.000000</td>\n",
       "      <td>31.000000</td>\n",
       "      <td>1.000000</td>\n",
       "      <td>1.000000</td>\n",
       "      <td>3.750000</td>\n",
       "      <td>2027.000000</td>\n",
       "      <td>2.000000</td>\n",
       "      <td>4.000000</td>\n",
       "      <td>3.000000</td>\n",
       "      <td>1.000000</td>\n",
       "      <td>3.000000</td>\n",
       "      <td>1.0</td>\n",
       "      <td>1.0</td>\n",
       "      <td>1.0</td>\n",
       "      <td>1.0</td>\n",
       "    </tr>\n",
       "    <tr>\n",
       "      <th>50%</th>\n",
       "      <td>41.500000</td>\n",
       "      <td>1.000000</td>\n",
       "      <td>37.500000</td>\n",
       "      <td>2.000000</td>\n",
       "      <td>2.000000</td>\n",
       "      <td>12.500000</td>\n",
       "      <td>2320.000000</td>\n",
       "      <td>3.000000</td>\n",
       "      <td>4.000000</td>\n",
       "      <td>3.000000</td>\n",
       "      <td>2.000000</td>\n",
       "      <td>3.000000</td>\n",
       "      <td>1.0</td>\n",
       "      <td>1.0</td>\n",
       "      <td>1.0</td>\n",
       "      <td>1.0</td>\n",
       "    </tr>\n",
       "    <tr>\n",
       "      <th>75%</th>\n",
       "      <td>61.750000</td>\n",
       "      <td>1.000000</td>\n",
       "      <td>44.000000</td>\n",
       "      <td>2.000000</td>\n",
       "      <td>3.000000</td>\n",
       "      <td>18.250000</td>\n",
       "      <td>2808.000000</td>\n",
       "      <td>4.000000</td>\n",
       "      <td>5.000000</td>\n",
       "      <td>4.000000</td>\n",
       "      <td>3.000000</td>\n",
       "      <td>4.000000</td>\n",
       "      <td>1.0</td>\n",
       "      <td>1.0</td>\n",
       "      <td>1.0</td>\n",
       "      <td>1.0</td>\n",
       "    </tr>\n",
       "    <tr>\n",
       "      <th>max</th>\n",
       "      <td>82.000000</td>\n",
       "      <td>2.000000</td>\n",
       "      <td>61.000000</td>\n",
       "      <td>2.000000</td>\n",
       "      <td>4.000000</td>\n",
       "      <td>36.000000</td>\n",
       "      <td>6278.000000</td>\n",
       "      <td>5.000000</td>\n",
       "      <td>5.000000</td>\n",
       "      <td>5.000000</td>\n",
       "      <td>5.000000</td>\n",
       "      <td>5.000000</td>\n",
       "      <td>1.0</td>\n",
       "      <td>1.0</td>\n",
       "      <td>1.0</td>\n",
       "      <td>1.0</td>\n",
       "    </tr>\n",
       "  </tbody>\n",
       "</table>\n",
       "</div>"
      ],
      "text/plain": [
       "          number     gender        age     family  education  \\\n",
       "count  82.000000  82.000000  82.000000  82.000000  81.000000   \n",
       "mean   41.500000   1.231707  37.951220   1.621951   1.987654   \n",
       "std    23.815261   0.424519   9.773866   0.487884   0.844006   \n",
       "min     1.000000   1.000000  20.000000   1.000000   1.000000   \n",
       "25%    21.250000   1.000000  31.000000   1.000000   1.000000   \n",
       "50%    41.500000   1.000000  37.500000   2.000000   2.000000   \n",
       "75%    61.750000   1.000000  44.000000   2.000000   3.000000   \n",
       "max    82.000000   2.000000  61.000000   2.000000   4.000000   \n",
       "\n",
       "       years_of_service       salary  sat management  sat_colleques  \\\n",
       "count         80.000000    82.000000       82.000000      81.000000   \n",
       "mean          12.175000  2563.878049        3.060976       4.061728   \n",
       "std            8.807038   849.350302        1.058155       0.826826   \n",
       "min            0.000000  1521.000000        1.000000       2.000000   \n",
       "25%            3.750000  2027.000000        2.000000       4.000000   \n",
       "50%           12.500000  2320.000000        3.000000       4.000000   \n",
       "75%           18.250000  2808.000000        4.000000       5.000000   \n",
       "max           36.000000  6278.000000        5.000000       5.000000   \n",
       "\n",
       "       sat_workingEnvironment  sat_salary  sat_tasks  healtcare_work  \\\n",
       "count               82.000000   82.000000  82.000000            47.0   \n",
       "mean                 3.219512    2.109756   3.195122             1.0   \n",
       "std                  1.154961    1.111179   1.047502             0.0   \n",
       "min                  1.000000    1.000000   1.000000             1.0   \n",
       "25%                  3.000000    1.000000   3.000000             1.0   \n",
       "50%                  3.000000    2.000000   3.000000             1.0   \n",
       "75%                  4.000000    3.000000   4.000000             1.0   \n",
       "max                  5.000000    5.000000   5.000000             1.0   \n",
       "\n",
       "       holidayCabin  gym  muscleCare  \n",
       "count          20.0  9.0        22.0  \n",
       "mean            1.0  1.0         1.0  \n",
       "std             0.0  0.0         0.0  \n",
       "min             1.0  1.0         1.0  \n",
       "25%             1.0  1.0         1.0  \n",
       "50%             1.0  1.0         1.0  \n",
       "75%             1.0  1.0         1.0  \n",
       "max             1.0  1.0         1.0  "
      ]
     },
     "execution_count": 4,
     "metadata": {},
     "output_type": "execute_result"
    }
   ],
   "source": [
    "df.describe()"
   ]
  },
  {
   "cell_type": "code",
   "execution_count": 5,
   "id": "fedbd0e2",
   "metadata": {},
   "outputs": [
    {
     "name": "stdout",
     "output_type": "stream",
     "text": [
      "<class 'pandas.core.frame.DataFrame'>\n",
      "RangeIndex: 82 entries, 0 to 81\n",
      "Data columns (total 16 columns):\n",
      " #   Column                  Non-Null Count  Dtype  \n",
      "---  ------                  --------------  -----  \n",
      " 0   number                  82 non-null     int64  \n",
      " 1   gender                  82 non-null     int64  \n",
      " 2   age                     82 non-null     int64  \n",
      " 3   family                  82 non-null     int64  \n",
      " 4   education               81 non-null     float64\n",
      " 5   years_of_service        80 non-null     float64\n",
      " 6   salary                  82 non-null     int64  \n",
      " 7   sat management          82 non-null     int64  \n",
      " 8   sat_colleques           81 non-null     float64\n",
      " 9   sat_workingEnvironment  82 non-null     int64  \n",
      " 10  sat_salary              82 non-null     int64  \n",
      " 11  sat_tasks               82 non-null     int64  \n",
      " 12  healtcare_work          47 non-null     float64\n",
      " 13  holidayCabin            20 non-null     float64\n",
      " 14  gym                     9 non-null      float64\n",
      " 15  muscleCare              22 non-null     float64\n",
      "dtypes: float64(7), int64(9)\n",
      "memory usage: 10.4 KB\n"
     ]
    }
   ],
   "source": [
    "df.info()"
   ]
  },
  {
   "cell_type": "code",
   "execution_count": 6,
   "id": "3bbfb077",
   "metadata": {},
   "outputs": [
    {
     "data": {
      "text/plain": [
       "True"
      ]
     },
     "execution_count": 6,
     "metadata": {},
     "output_type": "execute_result"
    }
   ],
   "source": [
    "df.isnull().any().any()"
   ]
  },
  {
   "cell_type": "code",
   "execution_count": 7,
   "id": "e865c5fa",
   "metadata": {},
   "outputs": [
    {
     "data": {
      "text/plain": [
       "<AxesSubplot:>"
      ]
     },
     "execution_count": 7,
     "metadata": {},
     "output_type": "execute_result"
    },
    {
     "data": {
      "image/png": "[encoded data removed]",
      "text/plain": [
       "<Figure size 432x288 with 1 Axes>"
      ]
     },
     "metadata": {
      "needs_background": "light"
     },
     "output_type": "display_data"
    }
   ],
   "source": [
    "df['sat_tasks'].hist(bins=5)"
   ]
  },
  {
   "cell_type": "code",
   "execution_count": 8,
   "id": "ca580982",
   "metadata": {},
   "outputs": [
    {
     "data": {
      "text/plain": [
       "<AxesSubplot:>"
      ]
     },
     "execution_count": 8,
     "metadata": {},
     "output_type": "execute_result"
    },
    {
     "data": {
      "image/png": "[encoded data removed]",
      "text/plain": [
       "<Figure size 432x288 with 1 Axes>"
      ]
     },
     "metadata": {
      "needs_background": "light"
     },
     "output_type": "display_data"
    }
   ],
   "source": [
    "df['sat_salary'].hist(bins=5)"
   ]
  },
  {
   "cell_type": "code",
   "execution_count": 9,
   "id": "87f86055",
   "metadata": {},
   "outputs": [
    {
     "data": {
      "text/plain": [
       "<AxesSubplot:>"
      ]
     },
     "execution_count": 9,
     "metadata": {},
     "output_type": "execute_result"
    },
    {
     "data": {
      "image/png": "[encoded data removed]",
      "text/plain": [
       "<Figure size 432x288 with 1 Axes>"
      ]
     },
     "metadata": {
      "needs_background": "light"
     },
     "output_type": "display_data"
    }
   ],
   "source": [
    "df['sat_workingEnvironment'].hist(bins=5)"
   ]
  },
  {
   "cell_type": "code",
   "execution_count": 10,
   "id": "356b5f58",
   "metadata": {},
   "outputs": [],
   "source": [
    "def significance(p):\n",
    "    if p >= 0.05:\n",
    "        return 'Not significant'\n",
    "    if 0.01 < p < 0.05:\n",
    "        return 'Significant'\n",
    "    if 0.001 < p < 0.01:\n",
    "        return 'Very significant'\n",
    "    if 0.0001 < p < 0.001:\n",
    "        return 'Extremely significant'\n",
    "    return 'Extremely significant'"
   ]
  },
  {
   "cell_type": "code",
   "execution_count": 11,
   "id": "4be47b9c",
   "metadata": {},
   "outputs": [],
   "source": [
    "g1_task_fam = df['sat_tasks'][df['family'] == 1]\n",
    "g2_task_fam = df['sat_tasks'][df['family'] == 2]\n",
    "g1_ssal_fam = df['sat_salary'][df['family'] == 1]\n",
    "g2_ssal_fam = df['sat_salary'][df['family'] == 2]\n",
    "g1_env_fam = df['sat_workingEnvironment'][df['family'] == 1]\n",
    "g2_env_fam = df['sat_workingEnvironment'][df['family'] == 2]"
   ]
  },
  {
   "cell_type": "markdown",
   "id": "ab036190",
   "metadata": {},
   "source": [
    "# T-test"
   ]
  },
  {
   "cell_type": "code",
   "execution_count": 12,
   "id": "e1b1ae99",
   "metadata": {},
   "outputs": [
    {
     "data": {
      "text/html": [
       "<div>\n",
       "<style scoped>\n",
       "    .dataframe tbody tr th:only-of-type {\n",
       "        vertical-align: middle;\n",
       "    }\n",
       "\n",
       "    .dataframe tbody tr th {\n",
       "        vertical-align: top;\n",
       "    }\n",
       "\n",
       "    .dataframe thead th {\n",
       "        text-align: right;\n",
       "    }\n",
       "</style>\n",
       "<table border=\"1\" class=\"dataframe\">\n",
       "  <thead>\n",
       "    <tr style=\"text-align: right;\">\n",
       "      <th>col_0</th>\n",
       "      <th>Count</th>\n",
       "    </tr>\n",
       "    <tr>\n",
       "      <th>family</th>\n",
       "      <th></th>\n",
       "    </tr>\n",
       "  </thead>\n",
       "  <tbody>\n",
       "    <tr>\n",
       "      <th>1</th>\n",
       "      <td>31</td>\n",
       "    </tr>\n",
       "    <tr>\n",
       "      <th>2</th>\n",
       "      <td>51</td>\n",
       "    </tr>\n",
       "  </tbody>\n",
       "</table>\n",
       "</div>"
      ],
      "text/plain": [
       "col_0   Count\n",
       "family       \n",
       "1          31\n",
       "2          51"
      ]
     },
     "execution_count": 12,
     "metadata": {},
     "output_type": "execute_result"
    }
   ],
   "source": [
    "pd.crosstab(df['family'], 'Count')"
   ]
  },
  {
   "cell_type": "code",
   "execution_count": 13,
   "id": "2fe6effd",
   "metadata": {},
   "outputs": [
    {
     "data": {
      "text/html": [
       "<div>\n",
       "<style scoped>\n",
       "    .dataframe tbody tr th:only-of-type {\n",
       "        vertical-align: middle;\n",
       "    }\n",
       "\n",
       "    .dataframe tbody tr th {\n",
       "        vertical-align: top;\n",
       "    }\n",
       "\n",
       "    .dataframe thead th {\n",
       "        text-align: right;\n",
       "    }\n",
       "</style>\n",
       "<table border=\"1\" class=\"dataframe\">\n",
       "  <thead>\n",
       "    <tr style=\"text-align: right;\">\n",
       "      <th></th>\n",
       "      <th>family</th>\n",
       "      <th>sat_tasks</th>\n",
       "      <th>sat_workingEnvironment</th>\n",
       "      <th>sat_salary</th>\n",
       "    </tr>\n",
       "  </thead>\n",
       "  <tbody>\n",
       "    <tr>\n",
       "      <th>count</th>\n",
       "      <td>82.000000</td>\n",
       "      <td>82.000000</td>\n",
       "      <td>82.000000</td>\n",
       "      <td>82.000000</td>\n",
       "    </tr>\n",
       "    <tr>\n",
       "      <th>mean</th>\n",
       "      <td>1.621951</td>\n",
       "      <td>3.195122</td>\n",
       "      <td>3.219512</td>\n",
       "      <td>2.109756</td>\n",
       "    </tr>\n",
       "    <tr>\n",
       "      <th>std</th>\n",
       "      <td>0.487884</td>\n",
       "      <td>1.047502</td>\n",
       "      <td>1.154961</td>\n",
       "      <td>1.111179</td>\n",
       "    </tr>\n",
       "    <tr>\n",
       "      <th>min</th>\n",
       "      <td>1.000000</td>\n",
       "      <td>1.000000</td>\n",
       "      <td>1.000000</td>\n",
       "      <td>1.000000</td>\n",
       "    </tr>\n",
       "    <tr>\n",
       "      <th>25%</th>\n",
       "      <td>1.000000</td>\n",
       "      <td>3.000000</td>\n",
       "      <td>3.000000</td>\n",
       "      <td>1.000000</td>\n",
       "    </tr>\n",
       "    <tr>\n",
       "      <th>50%</th>\n",
       "      <td>2.000000</td>\n",
       "      <td>3.000000</td>\n",
       "      <td>3.000000</td>\n",
       "      <td>2.000000</td>\n",
       "    </tr>\n",
       "    <tr>\n",
       "      <th>75%</th>\n",
       "      <td>2.000000</td>\n",
       "      <td>4.000000</td>\n",
       "      <td>4.000000</td>\n",
       "      <td>3.000000</td>\n",
       "    </tr>\n",
       "    <tr>\n",
       "      <th>max</th>\n",
       "      <td>2.000000</td>\n",
       "      <td>5.000000</td>\n",
       "      <td>5.000000</td>\n",
       "      <td>5.000000</td>\n",
       "    </tr>\n",
       "  </tbody>\n",
       "</table>\n",
       "</div>"
      ],
      "text/plain": [
       "          family  sat_tasks  sat_workingEnvironment  sat_salary\n",
       "count  82.000000  82.000000               82.000000   82.000000\n",
       "mean    1.621951   3.195122                3.219512    2.109756\n",
       "std     0.487884   1.047502                1.154961    1.111179\n",
       "min     1.000000   1.000000                1.000000    1.000000\n",
       "25%     1.000000   3.000000                3.000000    1.000000\n",
       "50%     2.000000   3.000000                3.000000    2.000000\n",
       "75%     2.000000   4.000000                4.000000    3.000000\n",
       "max     2.000000   5.000000                5.000000    5.000000"
      ]
     },
     "execution_count": 13,
     "metadata": {},
     "output_type": "execute_result"
    }
   ],
   "source": [
    "df[['family', 'sat_tasks', 'sat_workingEnvironment', 'sat_salary']].describe()"
   ]
  },
  {
   "cell_type": "code",
   "execution_count": 14,
   "id": "f68942e0",
   "metadata": {},
   "outputs": [
    {
     "data": {
      "text/html": [
       "<div>\n",
       "<style scoped>\n",
       "    .dataframe tbody tr th:only-of-type {\n",
       "        vertical-align: middle;\n",
       "    }\n",
       "\n",
       "    .dataframe tbody tr th {\n",
       "        vertical-align: top;\n",
       "    }\n",
       "\n",
       "    .dataframe thead th {\n",
       "        text-align: right;\n",
       "    }\n",
       "</style>\n",
       "<table border=\"1\" class=\"dataframe\">\n",
       "  <thead>\n",
       "    <tr style=\"text-align: right;\">\n",
       "      <th></th>\n",
       "      <th>mean</th>\n",
       "      <th>std</th>\n",
       "      <th>count</th>\n",
       "    </tr>\n",
       "    <tr>\n",
       "      <th>family</th>\n",
       "      <th></th>\n",
       "      <th></th>\n",
       "      <th></th>\n",
       "    </tr>\n",
       "  </thead>\n",
       "  <tbody>\n",
       "    <tr>\n",
       "      <th>1</th>\n",
       "      <td>2.774194</td>\n",
       "      <td>1.023383</td>\n",
       "      <td>31.0</td>\n",
       "    </tr>\n",
       "    <tr>\n",
       "      <th>2</th>\n",
       "      <td>3.450980</td>\n",
       "      <td>0.986179</td>\n",
       "      <td>51.0</td>\n",
       "    </tr>\n",
       "  </tbody>\n",
       "</table>\n",
       "</div>"
      ],
      "text/plain": [
       "            mean       std  count\n",
       "family                           \n",
       "1       2.774194  1.023383   31.0\n",
       "2       3.450980  0.986179   51.0"
      ]
     },
     "execution_count": 14,
     "metadata": {},
     "output_type": "execute_result"
    }
   ],
   "source": [
    "df.groupby('family')['sat_tasks'].describe()[['mean', 'std', 'count']]"
   ]
  },
  {
   "cell_type": "markdown",
   "id": "e52892bd",
   "metadata": {},
   "source": [
    "### Hypotesis for test (alpha < 0.05):\n",
    "#### H0: There is no difference between satisfaction of tasks and family\n",
    "#### H1: There is a difference between satisfaction of tasks and family"
   ]
  },
  {
   "cell_type": "code",
   "execution_count": 15,
   "id": "f4fdb04f",
   "metadata": {},
   "outputs": [
    {
     "name": "stdout",
     "output_type": "stream",
     "text": [
      "Ttest_indResult(statistic=-2.9438361240526967, pvalue=0.00456575270083115)\n",
      "Significance: Very significant\n"
     ]
    }
   ],
   "source": [
    "result = ttest_ind(g1_task_fam, g2_task_fam, equal_var = False)\n",
    "print(result)\n",
    "print('Significance: {}'.format(significance(result.pvalue)))"
   ]
  },
  {
   "cell_type": "markdown",
   "id": "223a43d0",
   "metadata": {},
   "source": [
    "#### H1 has been proven"
   ]
  },
  {
   "cell_type": "markdown",
   "id": "1f341a12",
   "metadata": {},
   "source": [
    "### Hypotesis for test (alpha < 0.05):\n",
    "#### H0: There is no difference between satisfaction of working environment and family\n",
    "#### H1: There is a difference between satisfaction of working environment and family"
   ]
  },
  {
   "cell_type": "code",
   "execution_count": 16,
   "id": "5fd7f47e",
   "metadata": {},
   "outputs": [
    {
     "name": "stdout",
     "output_type": "stream",
     "text": [
      "Ttest_indResult(statistic=-2.678719258682128, pvalue=0.00924822243998242)\n",
      "Significance: Very significant\n"
     ]
    }
   ],
   "source": [
    "result = ttest_ind(g1_env_fam, g2_env_fam, equal_var = False)\n",
    "print(result)\n",
    "print('Significance: {}'.format(significance(result.pvalue)))"
   ]
  },
  {
   "cell_type": "markdown",
   "id": "c06609e9",
   "metadata": {},
   "source": [
    "#### H1 has been proven"
   ]
  },
  {
   "cell_type": "markdown",
   "id": "3beaf373",
   "metadata": {},
   "source": [
    "# Mann-Whitney"
   ]
  },
  {
   "cell_type": "markdown",
   "id": "2ce20b7a",
   "metadata": {},
   "source": [
    "### Hypotesis for test (alpha < 0.05):\n",
    "#### H0: There is no difference between satisfaction of tasks and family\n",
    "#### H1: There is a difference between satisfaction of tasks and family"
   ]
  },
  {
   "cell_type": "code",
   "execution_count": 17,
   "id": "2c8f7d0c",
   "metadata": {},
   "outputs": [
    {
     "name": "stdout",
     "output_type": "stream",
     "text": [
      "MannwhitneyuResult(statistic=490.0, pvalue=0.002785138239756764)\n",
      "Significance: Very significant\n"
     ]
    }
   ],
   "source": [
    "result = mannwhitneyu(g1_task_fam, g2_task_fam)\n",
    "print(result)\n",
    "print('Significance: {}'.format(significance(result.pvalue)))"
   ]
  },
  {
   "cell_type": "markdown",
   "id": "64742c9d",
   "metadata": {},
   "source": [
    "#### H1 has been proven"
   ]
  },
  {
   "cell_type": "markdown",
   "id": "fa1c5553",
   "metadata": {},
   "source": [
    "### Hypotesis for test (alpha < 0.05):\n",
    "#### H0: There is no difference between satisfaction of salary and  family\n",
    "#### H1: There is a difference between satisfaction of salary and  family"
   ]
  },
  {
   "cell_type": "code",
   "execution_count": 18,
   "id": "f4b552f6",
   "metadata": {},
   "outputs": [
    {
     "name": "stdout",
     "output_type": "stream",
     "text": [
      "MannwhitneyuResult(statistic=590.5, pvalue=0.045305086028124206)\n",
      "Significance: Significant\n"
     ]
    }
   ],
   "source": [
    "result = mannwhitneyu(g1_ssal_fam, g2_ssal_fam)\n",
    "print(result)\n",
    "print('Significance: {}'.format(significance(result.pvalue)))"
   ]
  },
  {
   "cell_type": "markdown",
   "id": "3bc05b83",
   "metadata": {},
   "source": [
    "#### H1 has been proven"
   ]
  },
  {
   "cell_type": "markdown",
   "id": "f4a273cf",
   "metadata": {},
   "source": [
    "### Hypotesis for test (alpha < 0.05):\n",
    "#### H0: There is no difference between satisfaction of working environment and family\n",
    "#### H1: There is a difference between satisfaction of working environment and family"
   ]
  },
  {
   "cell_type": "code",
   "execution_count": 19,
   "id": "3a73ceac",
   "metadata": {},
   "outputs": [
    {
     "name": "stdout",
     "output_type": "stream",
     "text": [
      "MannwhitneyuResult(statistic=524.5, pvalue=0.008260881998509148)\n",
      "Significance: Very significant\n"
     ]
    }
   ],
   "source": [
    "result = mannwhitneyu(g1_env_fam, g2_env_fam)\n",
    "print(result)\n",
    "print('Significance: {}'.format(significance(result.pvalue)))"
   ]
  },
  {
   "cell_type": "markdown",
   "id": "2ceedbf6",
   "metadata": {},
   "source": [
    "#### H1 has been proven"
   ]
  },
  {
   "cell_type": "code",
   "execution_count": null,
   "id": "e2ffb55b",
   "metadata": {},
   "outputs": [],
   "source": []
  },
  {
   "cell_type": "markdown",
   "id": "b1c67b64",
   "metadata": {},
   "source": [
    "# F-test"
   ]
  },
  {
   "cell_type": "code",
   "execution_count": 20,
   "id": "b23590ac",
   "metadata": {},
   "outputs": [
    {
     "data": {
      "text/html": [
       "<div>\n",
       "<style scoped>\n",
       "    .dataframe tbody tr th:only-of-type {\n",
       "        vertical-align: middle;\n",
       "    }\n",
       "\n",
       "    .dataframe tbody tr th {\n",
       "        vertical-align: top;\n",
       "    }\n",
       "\n",
       "    .dataframe thead th {\n",
       "        text-align: right;\n",
       "    }\n",
       "</style>\n",
       "<table border=\"1\" class=\"dataframe\">\n",
       "  <thead>\n",
       "    <tr style=\"text-align: right;\">\n",
       "      <th></th>\n",
       "      <th>number</th>\n",
       "      <th>gender</th>\n",
       "      <th>age</th>\n",
       "      <th>family</th>\n",
       "      <th>education</th>\n",
       "      <th>years_of_service</th>\n",
       "      <th>salary</th>\n",
       "      <th>sat management</th>\n",
       "      <th>sat_colleques</th>\n",
       "      <th>sat_workingEnvironment</th>\n",
       "      <th>sat_salary</th>\n",
       "      <th>sat_tasks</th>\n",
       "      <th>healtcare_work</th>\n",
       "      <th>holidayCabin</th>\n",
       "      <th>gym</th>\n",
       "      <th>muscleCare</th>\n",
       "      <th>age_class</th>\n",
       "    </tr>\n",
       "  </thead>\n",
       "  <tbody>\n",
       "    <tr>\n",
       "      <th>0</th>\n",
       "      <td>1</td>\n",
       "      <td>1</td>\n",
       "      <td>38</td>\n",
       "      <td>1</td>\n",
       "      <td>1.0</td>\n",
       "      <td>22.0</td>\n",
       "      <td>3587</td>\n",
       "      <td>3</td>\n",
       "      <td>3.0</td>\n",
       "      <td>3</td>\n",
       "      <td>3</td>\n",
       "      <td>3</td>\n",
       "      <td>NaN</td>\n",
       "      <td>NaN</td>\n",
       "      <td>NaN</td>\n",
       "      <td>NaN</td>\n",
       "      <td>3</td>\n",
       "    </tr>\n",
       "    <tr>\n",
       "      <th>1</th>\n",
       "      <td>2</td>\n",
       "      <td>1</td>\n",
       "      <td>29</td>\n",
       "      <td>2</td>\n",
       "      <td>2.0</td>\n",
       "      <td>10.0</td>\n",
       "      <td>2963</td>\n",
       "      <td>1</td>\n",
       "      <td>5.0</td>\n",
       "      <td>2</td>\n",
       "      <td>1</td>\n",
       "      <td>3</td>\n",
       "      <td>NaN</td>\n",
       "      <td>NaN</td>\n",
       "      <td>NaN</td>\n",
       "      <td>NaN</td>\n",
       "      <td>2</td>\n",
       "    </tr>\n",
       "    <tr>\n",
       "      <th>2</th>\n",
       "      <td>3</td>\n",
       "      <td>1</td>\n",
       "      <td>30</td>\n",
       "      <td>1</td>\n",
       "      <td>1.0</td>\n",
       "      <td>7.0</td>\n",
       "      <td>1989</td>\n",
       "      <td>3</td>\n",
       "      <td>4.0</td>\n",
       "      <td>1</td>\n",
       "      <td>1</td>\n",
       "      <td>3</td>\n",
       "      <td>1.0</td>\n",
       "      <td>NaN</td>\n",
       "      <td>NaN</td>\n",
       "      <td>NaN</td>\n",
       "      <td>2</td>\n",
       "    </tr>\n",
       "    <tr>\n",
       "      <th>3</th>\n",
       "      <td>4</td>\n",
       "      <td>1</td>\n",
       "      <td>36</td>\n",
       "      <td>2</td>\n",
       "      <td>1.0</td>\n",
       "      <td>14.0</td>\n",
       "      <td>2144</td>\n",
       "      <td>3</td>\n",
       "      <td>3.0</td>\n",
       "      <td>3</td>\n",
       "      <td>3</td>\n",
       "      <td>3</td>\n",
       "      <td>1.0</td>\n",
       "      <td>NaN</td>\n",
       "      <td>NaN</td>\n",
       "      <td>NaN</td>\n",
       "      <td>3</td>\n",
       "    </tr>\n",
       "    <tr>\n",
       "      <th>4</th>\n",
       "      <td>5</td>\n",
       "      <td>1</td>\n",
       "      <td>24</td>\n",
       "      <td>1</td>\n",
       "      <td>2.0</td>\n",
       "      <td>4.0</td>\n",
       "      <td>2183</td>\n",
       "      <td>2</td>\n",
       "      <td>3.0</td>\n",
       "      <td>2</td>\n",
       "      <td>1</td>\n",
       "      <td>2</td>\n",
       "      <td>1.0</td>\n",
       "      <td>NaN</td>\n",
       "      <td>NaN</td>\n",
       "      <td>NaN</td>\n",
       "      <td>1</td>\n",
       "    </tr>\n",
       "  </tbody>\n",
       "</table>\n",
       "</div>"
      ],
      "text/plain": [
       "   number  gender  age  family  education  years_of_service  salary  \\\n",
       "0       1       1   38       1        1.0              22.0    3587   \n",
       "1       2       1   29       2        2.0              10.0    2963   \n",
       "2       3       1   30       1        1.0               7.0    1989   \n",
       "3       4       1   36       2        1.0              14.0    2144   \n",
       "4       5       1   24       1        2.0               4.0    2183   \n",
       "\n",
       "   sat management  sat_colleques  sat_workingEnvironment  sat_salary  \\\n",
       "0               3            3.0                       3           3   \n",
       "1               1            5.0                       2           1   \n",
       "2               3            4.0                       1           1   \n",
       "3               3            3.0                       3           3   \n",
       "4               2            3.0                       2           1   \n",
       "\n",
       "   sat_tasks  healtcare_work  holidayCabin  gym  muscleCare age_class  \n",
       "0          3             NaN           NaN  NaN         NaN         3  \n",
       "1          3             NaN           NaN  NaN         NaN         2  \n",
       "2          3             1.0           NaN  NaN         NaN         2  \n",
       "3          3             1.0           NaN  NaN         NaN         3  \n",
       "4          2             1.0           NaN  NaN         NaN         1  "
      ]
     },
     "execution_count": 20,
     "metadata": {},
     "output_type": "execute_result"
    }
   ],
   "source": [
    "bins = [x for x in range(15, 66, 10)]\n",
    "df['age_class'] = pd.cut(df['age'], bins = bins)\n",
    "df['age_class'] = df['age_class'].astype(str)\n",
    "df.loc[(df.age_class == '(15, 25]'),'age_class']=1\n",
    "df.loc[(df.age_class == '(25, 35]'),'age_class']=2\n",
    "df.loc[(df.age_class == '(35, 45]'),'age_class']=3\n",
    "df.loc[(df.age_class == '(45, 55]'),'age_class']=4\n",
    "df.loc[(df.age_class == '(55, 65]'),'age_class']=5\n",
    "df.head()"
   ]
  },
  {
   "cell_type": "code",
   "execution_count": 21,
   "id": "093f9551",
   "metadata": {},
   "outputs": [
    {
     "data": {
      "text/html": [
       "<div>\n",
       "<style scoped>\n",
       "    .dataframe tbody tr th:only-of-type {\n",
       "        vertical-align: middle;\n",
       "    }\n",
       "\n",
       "    .dataframe tbody tr th {\n",
       "        vertical-align: top;\n",
       "    }\n",
       "\n",
       "    .dataframe thead th {\n",
       "        text-align: right;\n",
       "    }\n",
       "</style>\n",
       "<table border=\"1\" class=\"dataframe\">\n",
       "  <thead>\n",
       "    <tr style=\"text-align: right;\">\n",
       "      <th></th>\n",
       "      <th>education</th>\n",
       "      <th>age</th>\n",
       "    </tr>\n",
       "  </thead>\n",
       "  <tbody>\n",
       "    <tr>\n",
       "      <th>count</th>\n",
       "      <td>81.000000</td>\n",
       "      <td>82.000000</td>\n",
       "    </tr>\n",
       "    <tr>\n",
       "      <th>mean</th>\n",
       "      <td>1.987654</td>\n",
       "      <td>37.951220</td>\n",
       "    </tr>\n",
       "    <tr>\n",
       "      <th>std</th>\n",
       "      <td>0.844006</td>\n",
       "      <td>9.773866</td>\n",
       "    </tr>\n",
       "    <tr>\n",
       "      <th>min</th>\n",
       "      <td>1.000000</td>\n",
       "      <td>20.000000</td>\n",
       "    </tr>\n",
       "    <tr>\n",
       "      <th>25%</th>\n",
       "      <td>1.000000</td>\n",
       "      <td>31.000000</td>\n",
       "    </tr>\n",
       "    <tr>\n",
       "      <th>50%</th>\n",
       "      <td>2.000000</td>\n",
       "      <td>37.500000</td>\n",
       "    </tr>\n",
       "    <tr>\n",
       "      <th>75%</th>\n",
       "      <td>3.000000</td>\n",
       "      <td>44.000000</td>\n",
       "    </tr>\n",
       "    <tr>\n",
       "      <th>max</th>\n",
       "      <td>4.000000</td>\n",
       "      <td>61.000000</td>\n",
       "    </tr>\n",
       "  </tbody>\n",
       "</table>\n",
       "</div>"
      ],
      "text/plain": [
       "       education        age\n",
       "count  81.000000  82.000000\n",
       "mean    1.987654  37.951220\n",
       "std     0.844006   9.773866\n",
       "min     1.000000  20.000000\n",
       "25%     1.000000  31.000000\n",
       "50%     2.000000  37.500000\n",
       "75%     3.000000  44.000000\n",
       "max     4.000000  61.000000"
      ]
     },
     "execution_count": 21,
     "metadata": {},
     "output_type": "execute_result"
    }
   ],
   "source": [
    "df[['education', 'age']].describe()"
   ]
  },
  {
   "cell_type": "markdown",
   "id": "0186dfbe",
   "metadata": {},
   "source": [
    "### Education and salary satisfaction"
   ]
  },
  {
   "cell_type": "code",
   "execution_count": 22,
   "id": "871c34ea",
   "metadata": {},
   "outputs": [
    {
     "data": {
      "text/plain": [
       "education\n",
       "1.0    1.001423\n",
       "2.0    1.066200\n",
       "3.0    1.223861\n",
       "4.0    1.414214\n",
       "Name: sat_salary, dtype: float64"
      ]
     },
     "execution_count": 22,
     "metadata": {},
     "output_type": "execute_result"
    }
   ],
   "source": [
    "df.groupby('education')['sat_salary'].std()"
   ]
  },
  {
   "cell_type": "code",
   "execution_count": 23,
   "id": "dbf323a1",
   "metadata": {},
   "outputs": [
    {
     "data": {
      "text/plain": [
       "education\n",
       "1.0    1.814815\n",
       "2.0    2.033333\n",
       "3.0    2.454545\n",
       "4.0    3.000000\n",
       "Name: sat_salary, dtype: float64"
      ]
     },
     "execution_count": 23,
     "metadata": {},
     "output_type": "execute_result"
    }
   ],
   "source": [
    "df.groupby('education')['sat_salary'].mean()"
   ]
  },
  {
   "cell_type": "code",
   "execution_count": 24,
   "id": "2f112550",
   "metadata": {},
   "outputs": [
    {
     "data": {
      "text/plain": [
       "education\n",
       "1.0    AxesSubplot(0.125,0.125;0.775x0.755)\n",
       "2.0    AxesSubplot(0.125,0.125;0.775x0.755)\n",
       "3.0    AxesSubplot(0.125,0.125;0.775x0.755)\n",
       "4.0    AxesSubplot(0.125,0.125;0.775x0.755)\n",
       "Name: sat_salary, dtype: object"
      ]
     },
     "execution_count": 24,
     "metadata": {},
     "output_type": "execute_result"
    },
    {
     "data": {
      "image/png": "[encoded data removed]",
      "text/plain": [
       "<Figure size 432x288 with 1 Axes>"
      ]
     },
     "metadata": {
      "needs_background": "light"
     },
     "output_type": "display_data"
    }
   ],
   "source": [
    "df.groupby('education')['sat_salary'].hist()"
   ]
  },
  {
   "cell_type": "markdown",
   "id": "0da151f4",
   "metadata": {},
   "source": [
    "### Hypotesis for test (alpha = 0.05):\n",
    "#### H0: There is no difference between salary satisfaction and education\n",
    "#### H1: There is a difference between salary satisfaction and education"
   ]
  },
  {
   "cell_type": "code",
   "execution_count": 25,
   "id": "adba121b",
   "metadata": {},
   "outputs": [
    {
     "name": "stdout",
     "output_type": "stream",
     "text": [
      "F_onewayResult(statistic=1.8632425429714214, pvalue=0.142836730615458)\n",
      "Significance: Not significant\n"
     ]
    }
   ],
   "source": [
    "s1_ed_ssal = df['sat_salary'][df['education'] == 1]\n",
    "s2_ed_ssal = df['sat_salary'][df['education'] == 2]\n",
    "s3_ed_ssal = df['sat_salary'][df['education'] == 3]\n",
    "s4_ed_ssal = df['sat_salary'][df['education'] == 4]\n",
    "\n",
    "result = f_oneway(s1_ed_ssal, s2_ed_ssal, s3_ed_ssal, s4_ed_ssal)\n",
    "print(result)\n",
    "print('Significance: {}'.format(significance(result.pvalue)))"
   ]
  },
  {
   "cell_type": "markdown",
   "id": "2c272a2e",
   "metadata": {},
   "source": [
    "#### H0 has been proven"
   ]
  },
  {
   "cell_type": "markdown",
   "id": "7dd9c585",
   "metadata": {},
   "source": [
    "### Age class and woking environment satisfaction"
   ]
  },
  {
   "cell_type": "code",
   "execution_count": 26,
   "id": "364f06d0",
   "metadata": {},
   "outputs": [
    {
     "data": {
      "text/plain": [
       "age_class\n",
       "1    0.690066\n",
       "2    1.100745\n",
       "3    1.350428\n",
       "4    0.924416\n",
       "5    1.303840\n",
       "Name: sat_workingEnvironment, dtype: float64"
      ]
     },
     "execution_count": 26,
     "metadata": {},
     "output_type": "execute_result"
    }
   ],
   "source": [
    "df.groupby('age_class')['sat_workingEnvironment'].std()"
   ]
  },
  {
   "cell_type": "code",
   "execution_count": 27,
   "id": "16b31344",
   "metadata": {},
   "outputs": [
    {
     "data": {
      "text/plain": [
       "age_class\n",
       "1    3.142857\n",
       "2    3.214286\n",
       "3    3.096774\n",
       "4    3.363636\n",
       "5    3.800000\n",
       "Name: sat_workingEnvironment, dtype: float64"
      ]
     },
     "execution_count": 27,
     "metadata": {},
     "output_type": "execute_result"
    }
   ],
   "source": [
    "df.groupby('age_class')['sat_workingEnvironment'].mean()"
   ]
  },
  {
   "cell_type": "code",
   "execution_count": 28,
   "id": "6092d7fe",
   "metadata": {},
   "outputs": [
    {
     "data": {
      "text/plain": [
       "age_class\n",
       "1    AxesSubplot(0.125,0.125;0.775x0.755)\n",
       "2    AxesSubplot(0.125,0.125;0.775x0.755)\n",
       "3    AxesSubplot(0.125,0.125;0.775x0.755)\n",
       "4    AxesSubplot(0.125,0.125;0.775x0.755)\n",
       "5    AxesSubplot(0.125,0.125;0.775x0.755)\n",
       "Name: sat_workingEnvironment, dtype: object"
      ]
     },
     "execution_count": 28,
     "metadata": {},
     "output_type": "execute_result"
    },
    {
     "data": {
      "image/png": "[encoded data removed]",
      "text/plain": [
       "<Figure size 432x288 with 1 Axes>"
      ]
     },
     "metadata": {
      "needs_background": "light"
     },
     "output_type": "display_data"
    }
   ],
   "source": [
    "df.groupby('age_class')['sat_workingEnvironment'].hist()"
   ]
  },
  {
   "cell_type": "markdown",
   "id": "8929d0b2",
   "metadata": {},
   "source": [
    "### Hypotesis for test (alpha = 0.05):\n",
    "#### H0: There is no difference between environment satisfaction and ages\n",
    "#### H1: There is a difference between environment satisfaction and ages"
   ]
  },
  {
   "cell_type": "code",
   "execution_count": 29,
   "id": "f168df23",
   "metadata": {},
   "outputs": [
    {
     "name": "stdout",
     "output_type": "stream",
     "text": [
      "F_onewayResult(statistic=0.4414394810447926, pvalue=0.7782765060902492)\n",
      "Significance: Not significant\n"
     ]
    }
   ],
   "source": [
    "s1_age_env = df['sat_workingEnvironment'][df['age_class'] == 1]\n",
    "s2_age_env = df['sat_workingEnvironment'][df['age_class'] == 2]\n",
    "s3_age_env = df['sat_workingEnvironment'][df['age_class'] == 3]\n",
    "s4_age_env = df['sat_workingEnvironment'][df['age_class'] == 4]\n",
    "s5_age_env = df['sat_workingEnvironment'][df['age_class'] == 5]\n",
    "\n",
    "result = f_oneway(s1_age_env, s2_age_env, s3_age_env, s4_age_env, s5_age_env)\n",
    "print(result)\n",
    "print('Significance: {}'.format(significance(result.pvalue)))"
   ]
  },
  {
   "cell_type": "markdown",
   "id": "3dd46184",
   "metadata": {},
   "source": [
    "#### H0 has been proven"
   ]
  },
  {
   "cell_type": "markdown",
   "id": "7516fe14",
   "metadata": {},
   "source": [
    "# Kruskal-Wallis"
   ]
  },
  {
   "cell_type": "markdown",
   "id": "2719655b",
   "metadata": {},
   "source": [
    "### Education and salary satisfaction"
   ]
  },
  {
   "cell_type": "markdown",
   "id": "b92f97d9",
   "metadata": {},
   "source": [
    "### Hypotesis for test (alpha = 0.05):\n",
    "#### H0: There is no difference between salary satisfaction and education\n",
    "#### H1: There is a difference between salary satisfaction and education"
   ]
  },
  {
   "cell_type": "code",
   "execution_count": 30,
   "id": "d04ca27d",
   "metadata": {},
   "outputs": [
    {
     "name": "stdout",
     "output_type": "stream",
     "text": [
      "KruskalResult(statistic=5.142181027563702, pvalue=0.16167713512286364)\n",
      "Significance: Not significant\n"
     ]
    }
   ],
   "source": [
    "result = kruskal(s1_ed_ssal, s2_ed_ssal, s3_ed_ssal, s4_ed_ssal)\n",
    "print(result)\n",
    "print('Significance: {}'.format(significance(result.pvalue)))"
   ]
  },
  {
   "cell_type": "markdown",
   "id": "aef7c80c",
   "metadata": {},
   "source": [
    "#### H0 has been proven"
   ]
  },
  {
   "cell_type": "markdown",
   "id": "f444901c",
   "metadata": {},
   "source": [
    "### Age class and woking environment satisfaction"
   ]
  },
  {
   "cell_type": "markdown",
   "id": "314b465f",
   "metadata": {},
   "source": [
    "### Hypotesis for test (alpha = 0.05):\n",
    "#### H0: There is no difference between environment satisfaction and ages\n",
    "#### H1: There is a difference between environment satisfaction and ages"
   ]
  },
  {
   "cell_type": "code",
   "execution_count": 31,
   "id": "4ea74659",
   "metadata": {},
   "outputs": [
    {
     "name": "stdout",
     "output_type": "stream",
     "text": [
      "KruskalResult(statistic=1.4329265313180195, pvalue=0.8384525129169303)\n",
      "Significance: Not significant\n"
     ]
    }
   ],
   "source": [
    "result = kruskal(s1_age_env, s2_age_env, s3_age_env, s4_age_env, s5_age_env)\n",
    "print(result)\n",
    "print('Significance: {}'.format(significance(result.pvalue)))"
   ]
  },
  {
   "cell_type": "markdown",
   "id": "34d54951",
   "metadata": {},
   "source": [
    "#### H0 has been proven"
   ]
  },
  {
   "cell_type": "code",
   "execution_count": null,
   "id": "c3d09fde",
   "metadata": {},
   "outputs": [],
   "source": []
  }
 ],
 "metadata": {
  "kernelspec": {
   "display_name": "Python 3 (ipykernel)",
   "language": "python",
   "name": "python3"
  },
  "language_info": {
   "codemirror_mode": {
    "name": "ipython",
    "version": 3
   },
   "file_extension": ".py",
   "mimetype": "text/x-python",
   "name": "python",
   "nbconvert_exporter": "python",
   "pygments_lexer": "ipython3",
   "version": "3.8.5"
  }
 },
 "nbformat": 4,
 "nbformat_minor": 5
}
