{
 "cells": [
  {
   "cell_type": "code",
   "execution_count": 1,
   "id": "36cf3fae",
   "metadata": {},
   "outputs": [],
   "source": [
    "#%pip install pandas\n",
    "#%pip install openpyxl\n",
    "#%pip install matplotlib\n",
    "#%pip install seaborn"
   ]
  },
  {
   "cell_type": "code",
   "execution_count": 2,
   "id": "28c42e68",
   "metadata": {},
   "outputs": [],
   "source": [
    "import pandas as pd\n",
    "import matplotlib.pyplot as plt\n",
    "import seaborn as sns\n",
    "import numpy as np\n",
    "from matplotlib.ticker import PercentFormatter\n",
    "from scipy.stats import chi2_contingency"
   ]
  },
  {
   "cell_type": "code",
   "execution_count": 3,
   "id": "b16e4743",
   "metadata": {},
   "outputs": [
    {
     "name": "stdout",
     "output_type": "stream",
     "text": [
      "1.4.2\n"
     ]
    }
   ],
   "source": [
    "print(pd.__version__)"
   ]
  },
  {
   "cell_type": "code",
   "execution_count": 4,
   "id": "415175a1",
   "metadata": {},
   "outputs": [],
   "source": [
    "df = pd.read_excel('Data_for_Topic2.xlsx', sheet_name = 'Data1', header = 0)"
   ]
  },
  {
   "cell_type": "code",
   "execution_count": 5,
   "id": "44796638",
   "metadata": {},
   "outputs": [
    {
     "data": {
      "text/html": [
       "<div>\n",
       "<style scoped>\n",
       "    .dataframe tbody tr th:only-of-type {\n",
       "        vertical-align: middle;\n",
       "    }\n",
       "\n",
       "    .dataframe tbody tr th {\n",
       "        vertical-align: top;\n",
       "    }\n",
       "\n",
       "    .dataframe thead th {\n",
       "        text-align: right;\n",
       "    }\n",
       "</style>\n",
       "<table border=\"1\" class=\"dataframe\">\n",
       "  <thead>\n",
       "    <tr style=\"text-align: right;\">\n",
       "      <th></th>\n",
       "      <th>H</th>\n",
       "      <th>1</th>\n",
       "      <th>2</th>\n",
       "      <th>3</th>\n",
       "      <th>4</th>\n",
       "      <th>5</th>\n",
       "      <th>6</th>\n",
       "      <th>7</th>\n",
       "      <th>8</th>\n",
       "      <th>9</th>\n",
       "    </tr>\n",
       "  </thead>\n",
       "  <tbody>\n",
       "    <tr>\n",
       "      <th>0</th>\n",
       "      <td>1</td>\n",
       "      <td>1</td>\n",
       "      <td>34</td>\n",
       "      <td>4</td>\n",
       "      <td>1</td>\n",
       "      <td>4</td>\n",
       "      <td>2960.0</td>\n",
       "      <td>4.0</td>\n",
       "      <td>3</td>\n",
       "      <td>2</td>\n",
       "    </tr>\n",
       "    <tr>\n",
       "      <th>1</th>\n",
       "      <td>2</td>\n",
       "      <td>1</td>\n",
       "      <td>67</td>\n",
       "      <td>1</td>\n",
       "      <td>1</td>\n",
       "      <td>1</td>\n",
       "      <td>980.0</td>\n",
       "      <td>1.0</td>\n",
       "      <td>5</td>\n",
       "      <td>2</td>\n",
       "    </tr>\n",
       "    <tr>\n",
       "      <th>2</th>\n",
       "      <td>3</td>\n",
       "      <td>2</td>\n",
       "      <td>46</td>\n",
       "      <td>3</td>\n",
       "      <td>3</td>\n",
       "      <td>5</td>\n",
       "      <td>3500.0</td>\n",
       "      <td>4.0</td>\n",
       "      <td>2</td>\n",
       "      <td>4</td>\n",
       "    </tr>\n",
       "    <tr>\n",
       "      <th>3</th>\n",
       "      <td>4</td>\n",
       "      <td>1</td>\n",
       "      <td>22</td>\n",
       "      <td>2</td>\n",
       "      <td>2</td>\n",
       "      <td>3</td>\n",
       "      <td>860.0</td>\n",
       "      <td>1.0</td>\n",
       "      <td>5</td>\n",
       "      <td>3</td>\n",
       "    </tr>\n",
       "    <tr>\n",
       "      <th>4</th>\n",
       "      <td>5</td>\n",
       "      <td>2</td>\n",
       "      <td>30</td>\n",
       "      <td>5</td>\n",
       "      <td>2</td>\n",
       "      <td>4</td>\n",
       "      <td>3380.0</td>\n",
       "      <td>4.0</td>\n",
       "      <td>2</td>\n",
       "      <td>3</td>\n",
       "    </tr>\n",
       "    <tr>\n",
       "      <th>...</th>\n",
       "      <td>...</td>\n",
       "      <td>...</td>\n",
       "      <td>...</td>\n",
       "      <td>...</td>\n",
       "      <td>...</td>\n",
       "      <td>...</td>\n",
       "      <td>...</td>\n",
       "      <td>...</td>\n",
       "      <td>...</td>\n",
       "      <td>...</td>\n",
       "    </tr>\n",
       "    <tr>\n",
       "      <th>97</th>\n",
       "      <td>98</td>\n",
       "      <td>1</td>\n",
       "      <td>38</td>\n",
       "      <td>1</td>\n",
       "      <td>2</td>\n",
       "      <td>4</td>\n",
       "      <td>1380.0</td>\n",
       "      <td>1.0</td>\n",
       "      <td>4</td>\n",
       "      <td>3</td>\n",
       "    </tr>\n",
       "    <tr>\n",
       "      <th>98</th>\n",
       "      <td>99</td>\n",
       "      <td>1</td>\n",
       "      <td>56</td>\n",
       "      <td>2</td>\n",
       "      <td>2</td>\n",
       "      <td>1</td>\n",
       "      <td>1700.0</td>\n",
       "      <td>2.0</td>\n",
       "      <td>3</td>\n",
       "      <td>3</td>\n",
       "    </tr>\n",
       "    <tr>\n",
       "      <th>99</th>\n",
       "      <td>100</td>\n",
       "      <td>1</td>\n",
       "      <td>42</td>\n",
       "      <td>5</td>\n",
       "      <td>1</td>\n",
       "      <td>5</td>\n",
       "      <td>4430.0</td>\n",
       "      <td>5.0</td>\n",
       "      <td>2</td>\n",
       "      <td>4</td>\n",
       "    </tr>\n",
       "    <tr>\n",
       "      <th>100</th>\n",
       "      <td>101</td>\n",
       "      <td>2</td>\n",
       "      <td>36</td>\n",
       "      <td>1</td>\n",
       "      <td>2</td>\n",
       "      <td>1</td>\n",
       "      <td>1100.0</td>\n",
       "      <td>1.0</td>\n",
       "      <td>5</td>\n",
       "      <td>1</td>\n",
       "    </tr>\n",
       "    <tr>\n",
       "      <th>101</th>\n",
       "      <td>102</td>\n",
       "      <td>1</td>\n",
       "      <td>25</td>\n",
       "      <td>1</td>\n",
       "      <td>2</td>\n",
       "      <td>5</td>\n",
       "      <td>1400.0</td>\n",
       "      <td>1.0</td>\n",
       "      <td>3</td>\n",
       "      <td>2</td>\n",
       "    </tr>\n",
       "  </tbody>\n",
       "</table>\n",
       "<p>102 rows × 10 columns</p>\n",
       "</div>"
      ],
      "text/plain": [
       "       H  1   2  3  4  5       6    7  8  9\n",
       "0      1  1  34  4  1  4  2960.0  4.0  3  2\n",
       "1      2  1  67  1  1  1   980.0  1.0  5  2\n",
       "2      3  2  46  3  3  5  3500.0  4.0  2  4\n",
       "3      4  1  22  2  2  3   860.0  1.0  5  3\n",
       "4      5  2  30  5  2  4  3380.0  4.0  2  3\n",
       "..   ... ..  .. .. .. ..     ...  ... .. ..\n",
       "97    98  1  38  1  2  4  1380.0  1.0  4  3\n",
       "98    99  1  56  2  2  1  1700.0  2.0  3  3\n",
       "99   100  1  42  5  1  5  4430.0  5.0  2  4\n",
       "100  101  2  36  1  2  1  1100.0  1.0  5  1\n",
       "101  102  1  25  1  2  5  1400.0  1.0  3  2\n",
       "\n",
       "[102 rows x 10 columns]"
      ]
     },
     "execution_count": 5,
     "metadata": {},
     "output_type": "execute_result"
    }
   ],
   "source": [
    "df"
   ]
  },
  {
   "cell_type": "markdown",
   "id": "41ea8c9b",
   "metadata": {},
   "source": [
    "# See if there are any missing values ​​in the data (However, you don't have to do anything about them now)"
   ]
  },
  {
   "cell_type": "code",
   "execution_count": 6,
   "id": "c7bcd932",
   "metadata": {},
   "outputs": [
    {
     "data": {
      "text/plain": [
       "H    0\n",
       "1    0\n",
       "2    0\n",
       "3    0\n",
       "4    0\n",
       "5    0\n",
       "6    2\n",
       "7    1\n",
       "8    0\n",
       "9    0\n",
       "dtype: int64"
      ]
     },
     "execution_count": 6,
     "metadata": {},
     "output_type": "execute_result"
    }
   ],
   "source": [
    "df.isnull().sum()"
   ]
  },
  {
   "cell_type": "markdown",
   "id": "a20ae985",
   "metadata": {},
   "source": [
    "# List the first few lines"
   ]
  },
  {
   "cell_type": "code",
   "execution_count": 7,
   "id": "3d96b503",
   "metadata": {},
   "outputs": [
    {
     "data": {
      "text/html": [
       "<div>\n",
       "<style scoped>\n",
       "    .dataframe tbody tr th:only-of-type {\n",
       "        vertical-align: middle;\n",
       "    }\n",
       "\n",
       "    .dataframe tbody tr th {\n",
       "        vertical-align: top;\n",
       "    }\n",
       "\n",
       "    .dataframe thead th {\n",
       "        text-align: right;\n",
       "    }\n",
       "</style>\n",
       "<table border=\"1\" class=\"dataframe\">\n",
       "  <thead>\n",
       "    <tr style=\"text-align: right;\">\n",
       "      <th></th>\n",
       "      <th>H</th>\n",
       "      <th>1</th>\n",
       "      <th>2</th>\n",
       "      <th>3</th>\n",
       "      <th>4</th>\n",
       "      <th>5</th>\n",
       "      <th>6</th>\n",
       "      <th>7</th>\n",
       "      <th>8</th>\n",
       "      <th>9</th>\n",
       "    </tr>\n",
       "  </thead>\n",
       "  <tbody>\n",
       "    <tr>\n",
       "      <th>0</th>\n",
       "      <td>1</td>\n",
       "      <td>1</td>\n",
       "      <td>34</td>\n",
       "      <td>4</td>\n",
       "      <td>1</td>\n",
       "      <td>4</td>\n",
       "      <td>2960.0</td>\n",
       "      <td>4.0</td>\n",
       "      <td>3</td>\n",
       "      <td>2</td>\n",
       "    </tr>\n",
       "    <tr>\n",
       "      <th>1</th>\n",
       "      <td>2</td>\n",
       "      <td>1</td>\n",
       "      <td>67</td>\n",
       "      <td>1</td>\n",
       "      <td>1</td>\n",
       "      <td>1</td>\n",
       "      <td>980.0</td>\n",
       "      <td>1.0</td>\n",
       "      <td>5</td>\n",
       "      <td>2</td>\n",
       "    </tr>\n",
       "    <tr>\n",
       "      <th>2</th>\n",
       "      <td>3</td>\n",
       "      <td>2</td>\n",
       "      <td>46</td>\n",
       "      <td>3</td>\n",
       "      <td>3</td>\n",
       "      <td>5</td>\n",
       "      <td>3500.0</td>\n",
       "      <td>4.0</td>\n",
       "      <td>2</td>\n",
       "      <td>4</td>\n",
       "    </tr>\n",
       "    <tr>\n",
       "      <th>3</th>\n",
       "      <td>4</td>\n",
       "      <td>1</td>\n",
       "      <td>22</td>\n",
       "      <td>2</td>\n",
       "      <td>2</td>\n",
       "      <td>3</td>\n",
       "      <td>860.0</td>\n",
       "      <td>1.0</td>\n",
       "      <td>5</td>\n",
       "      <td>3</td>\n",
       "    </tr>\n",
       "    <tr>\n",
       "      <th>4</th>\n",
       "      <td>5</td>\n",
       "      <td>2</td>\n",
       "      <td>30</td>\n",
       "      <td>5</td>\n",
       "      <td>2</td>\n",
       "      <td>4</td>\n",
       "      <td>3380.0</td>\n",
       "      <td>4.0</td>\n",
       "      <td>2</td>\n",
       "      <td>3</td>\n",
       "    </tr>\n",
       "  </tbody>\n",
       "</table>\n",
       "</div>"
      ],
      "text/plain": [
       "   H  1   2  3  4  5       6    7  8  9\n",
       "0  1  1  34  4  1  4  2960.0  4.0  3  2\n",
       "1  2  1  67  1  1  1   980.0  1.0  5  2\n",
       "2  3  2  46  3  3  5  3500.0  4.0  2  4\n",
       "3  4  1  22  2  2  3   860.0  1.0  5  3\n",
       "4  5  2  30  5  2  4  3380.0  4.0  2  3"
      ]
     },
     "execution_count": 7,
     "metadata": {},
     "output_type": "execute_result"
    }
   ],
   "source": [
    "df.head()"
   ]
  },
  {
   "cell_type": "markdown",
   "id": "8c2018c9",
   "metadata": {},
   "source": [
    "# (Re)name the columns according to the explanations found in the Excel file"
   ]
  },
  {
   "cell_type": "code",
   "execution_count": 8,
   "id": "f4a40036",
   "metadata": {},
   "outputs": [
    {
     "data": {
      "text/html": [
       "<div>\n",
       "<style scoped>\n",
       "    .dataframe tbody tr th:only-of-type {\n",
       "        vertical-align: middle;\n",
       "    }\n",
       "\n",
       "    .dataframe tbody tr th {\n",
       "        vertical-align: top;\n",
       "    }\n",
       "\n",
       "    .dataframe thead th {\n",
       "        text-align: right;\n",
       "    }\n",
       "</style>\n",
       "<table border=\"1\" class=\"dataframe\">\n",
       "  <thead>\n",
       "    <tr style=\"text-align: right;\">\n",
       "      <th></th>\n",
       "      <th>H</th>\n",
       "      <th>gender</th>\n",
       "      <th>age</th>\n",
       "      <th>family_size</th>\n",
       "      <th>house</th>\n",
       "      <th>education</th>\n",
       "      <th>income</th>\n",
       "      <th>purchases_household</th>\n",
       "      <th>sat_product_range</th>\n",
       "      <th>sat_price</th>\n",
       "    </tr>\n",
       "  </thead>\n",
       "  <tbody>\n",
       "    <tr>\n",
       "      <th>0</th>\n",
       "      <td>1</td>\n",
       "      <td>1</td>\n",
       "      <td>34</td>\n",
       "      <td>4</td>\n",
       "      <td>1</td>\n",
       "      <td>4</td>\n",
       "      <td>2960.0</td>\n",
       "      <td>4.0</td>\n",
       "      <td>3</td>\n",
       "      <td>2</td>\n",
       "    </tr>\n",
       "    <tr>\n",
       "      <th>1</th>\n",
       "      <td>2</td>\n",
       "      <td>1</td>\n",
       "      <td>67</td>\n",
       "      <td>1</td>\n",
       "      <td>1</td>\n",
       "      <td>1</td>\n",
       "      <td>980.0</td>\n",
       "      <td>1.0</td>\n",
       "      <td>5</td>\n",
       "      <td>2</td>\n",
       "    </tr>\n",
       "    <tr>\n",
       "      <th>2</th>\n",
       "      <td>3</td>\n",
       "      <td>2</td>\n",
       "      <td>46</td>\n",
       "      <td>3</td>\n",
       "      <td>3</td>\n",
       "      <td>5</td>\n",
       "      <td>3500.0</td>\n",
       "      <td>4.0</td>\n",
       "      <td>2</td>\n",
       "      <td>4</td>\n",
       "    </tr>\n",
       "    <tr>\n",
       "      <th>3</th>\n",
       "      <td>4</td>\n",
       "      <td>1</td>\n",
       "      <td>22</td>\n",
       "      <td>2</td>\n",
       "      <td>2</td>\n",
       "      <td>3</td>\n",
       "      <td>860.0</td>\n",
       "      <td>1.0</td>\n",
       "      <td>5</td>\n",
       "      <td>3</td>\n",
       "    </tr>\n",
       "    <tr>\n",
       "      <th>4</th>\n",
       "      <td>5</td>\n",
       "      <td>2</td>\n",
       "      <td>30</td>\n",
       "      <td>5</td>\n",
       "      <td>2</td>\n",
       "      <td>4</td>\n",
       "      <td>3380.0</td>\n",
       "      <td>4.0</td>\n",
       "      <td>2</td>\n",
       "      <td>3</td>\n",
       "    </tr>\n",
       "    <tr>\n",
       "      <th>...</th>\n",
       "      <td>...</td>\n",
       "      <td>...</td>\n",
       "      <td>...</td>\n",
       "      <td>...</td>\n",
       "      <td>...</td>\n",
       "      <td>...</td>\n",
       "      <td>...</td>\n",
       "      <td>...</td>\n",
       "      <td>...</td>\n",
       "      <td>...</td>\n",
       "    </tr>\n",
       "    <tr>\n",
       "      <th>97</th>\n",
       "      <td>98</td>\n",
       "      <td>1</td>\n",
       "      <td>38</td>\n",
       "      <td>1</td>\n",
       "      <td>2</td>\n",
       "      <td>4</td>\n",
       "      <td>1380.0</td>\n",
       "      <td>1.0</td>\n",
       "      <td>4</td>\n",
       "      <td>3</td>\n",
       "    </tr>\n",
       "    <tr>\n",
       "      <th>98</th>\n",
       "      <td>99</td>\n",
       "      <td>1</td>\n",
       "      <td>56</td>\n",
       "      <td>2</td>\n",
       "      <td>2</td>\n",
       "      <td>1</td>\n",
       "      <td>1700.0</td>\n",
       "      <td>2.0</td>\n",
       "      <td>3</td>\n",
       "      <td>3</td>\n",
       "    </tr>\n",
       "    <tr>\n",
       "      <th>99</th>\n",
       "      <td>100</td>\n",
       "      <td>1</td>\n",
       "      <td>42</td>\n",
       "      <td>5</td>\n",
       "      <td>1</td>\n",
       "      <td>5</td>\n",
       "      <td>4430.0</td>\n",
       "      <td>5.0</td>\n",
       "      <td>2</td>\n",
       "      <td>4</td>\n",
       "    </tr>\n",
       "    <tr>\n",
       "      <th>100</th>\n",
       "      <td>101</td>\n",
       "      <td>2</td>\n",
       "      <td>36</td>\n",
       "      <td>1</td>\n",
       "      <td>2</td>\n",
       "      <td>1</td>\n",
       "      <td>1100.0</td>\n",
       "      <td>1.0</td>\n",
       "      <td>5</td>\n",
       "      <td>1</td>\n",
       "    </tr>\n",
       "    <tr>\n",
       "      <th>101</th>\n",
       "      <td>102</td>\n",
       "      <td>1</td>\n",
       "      <td>25</td>\n",
       "      <td>1</td>\n",
       "      <td>2</td>\n",
       "      <td>5</td>\n",
       "      <td>1400.0</td>\n",
       "      <td>1.0</td>\n",
       "      <td>3</td>\n",
       "      <td>2</td>\n",
       "    </tr>\n",
       "  </tbody>\n",
       "</table>\n",
       "<p>102 rows × 10 columns</p>\n",
       "</div>"
      ],
      "text/plain": [
       "       H  gender  age  family_size  house  education  income  \\\n",
       "0      1       1   34            4      1          4  2960.0   \n",
       "1      2       1   67            1      1          1   980.0   \n",
       "2      3       2   46            3      3          5  3500.0   \n",
       "3      4       1   22            2      2          3   860.0   \n",
       "4      5       2   30            5      2          4  3380.0   \n",
       "..   ...     ...  ...          ...    ...        ...     ...   \n",
       "97    98       1   38            1      2          4  1380.0   \n",
       "98    99       1   56            2      2          1  1700.0   \n",
       "99   100       1   42            5      1          5  4430.0   \n",
       "100  101       2   36            1      2          1  1100.0   \n",
       "101  102       1   25            1      2          5  1400.0   \n",
       "\n",
       "     purchases_household  sat_product_range  sat_price  \n",
       "0                    4.0                  3          2  \n",
       "1                    1.0                  5          2  \n",
       "2                    4.0                  2          4  \n",
       "3                    1.0                  5          3  \n",
       "4                    4.0                  2          3  \n",
       "..                   ...                ...        ...  \n",
       "97                   1.0                  4          3  \n",
       "98                   2.0                  3          3  \n",
       "99                   5.0                  2          4  \n",
       "100                  1.0                  5          1  \n",
       "101                  1.0                  3          2  \n",
       "\n",
       "[102 rows x 10 columns]"
      ]
     },
     "execution_count": 8,
     "metadata": {},
     "output_type": "execute_result"
    }
   ],
   "source": [
    "df.columns = ['H', 'gender', 'age', 'family_size', 'house', 'education', 'income', 'purchases_household', 'sat_product_range', 'sat_price']\n",
    "df"
   ]
  },
  {
   "cell_type": "markdown",
   "id": "94db3b5b",
   "metadata": {},
   "source": [
    "# If necessary, delete any columns that you think are unnecessary"
   ]
  },
  {
   "cell_type": "code",
   "execution_count": 9,
   "id": "9fe7e8fe",
   "metadata": {},
   "outputs": [
    {
     "data": {
      "text/html": [
       "<div>\n",
       "<style scoped>\n",
       "    .dataframe tbody tr th:only-of-type {\n",
       "        vertical-align: middle;\n",
       "    }\n",
       "\n",
       "    .dataframe tbody tr th {\n",
       "        vertical-align: top;\n",
       "    }\n",
       "\n",
       "    .dataframe thead th {\n",
       "        text-align: right;\n",
       "    }\n",
       "</style>\n",
       "<table border=\"1\" class=\"dataframe\">\n",
       "  <thead>\n",
       "    <tr style=\"text-align: right;\">\n",
       "      <th></th>\n",
       "      <th>gender</th>\n",
       "      <th>age</th>\n",
       "      <th>family_size</th>\n",
       "      <th>house</th>\n",
       "      <th>education</th>\n",
       "      <th>income</th>\n",
       "      <th>purchases_household</th>\n",
       "      <th>sat_product_range</th>\n",
       "      <th>sat_price</th>\n",
       "    </tr>\n",
       "  </thead>\n",
       "  <tbody>\n",
       "    <tr>\n",
       "      <th>0</th>\n",
       "      <td>1</td>\n",
       "      <td>34</td>\n",
       "      <td>4</td>\n",
       "      <td>1</td>\n",
       "      <td>4</td>\n",
       "      <td>2960.0</td>\n",
       "      <td>4.0</td>\n",
       "      <td>3</td>\n",
       "      <td>2</td>\n",
       "    </tr>\n",
       "    <tr>\n",
       "      <th>1</th>\n",
       "      <td>1</td>\n",
       "      <td>67</td>\n",
       "      <td>1</td>\n",
       "      <td>1</td>\n",
       "      <td>1</td>\n",
       "      <td>980.0</td>\n",
       "      <td>1.0</td>\n",
       "      <td>5</td>\n",
       "      <td>2</td>\n",
       "    </tr>\n",
       "    <tr>\n",
       "      <th>2</th>\n",
       "      <td>2</td>\n",
       "      <td>46</td>\n",
       "      <td>3</td>\n",
       "      <td>3</td>\n",
       "      <td>5</td>\n",
       "      <td>3500.0</td>\n",
       "      <td>4.0</td>\n",
       "      <td>2</td>\n",
       "      <td>4</td>\n",
       "    </tr>\n",
       "    <tr>\n",
       "      <th>3</th>\n",
       "      <td>1</td>\n",
       "      <td>22</td>\n",
       "      <td>2</td>\n",
       "      <td>2</td>\n",
       "      <td>3</td>\n",
       "      <td>860.0</td>\n",
       "      <td>1.0</td>\n",
       "      <td>5</td>\n",
       "      <td>3</td>\n",
       "    </tr>\n",
       "    <tr>\n",
       "      <th>4</th>\n",
       "      <td>2</td>\n",
       "      <td>30</td>\n",
       "      <td>5</td>\n",
       "      <td>2</td>\n",
       "      <td>4</td>\n",
       "      <td>3380.0</td>\n",
       "      <td>4.0</td>\n",
       "      <td>2</td>\n",
       "      <td>3</td>\n",
       "    </tr>\n",
       "    <tr>\n",
       "      <th>...</th>\n",
       "      <td>...</td>\n",
       "      <td>...</td>\n",
       "      <td>...</td>\n",
       "      <td>...</td>\n",
       "      <td>...</td>\n",
       "      <td>...</td>\n",
       "      <td>...</td>\n",
       "      <td>...</td>\n",
       "      <td>...</td>\n",
       "    </tr>\n",
       "    <tr>\n",
       "      <th>97</th>\n",
       "      <td>1</td>\n",
       "      <td>38</td>\n",
       "      <td>1</td>\n",
       "      <td>2</td>\n",
       "      <td>4</td>\n",
       "      <td>1380.0</td>\n",
       "      <td>1.0</td>\n",
       "      <td>4</td>\n",
       "      <td>3</td>\n",
       "    </tr>\n",
       "    <tr>\n",
       "      <th>98</th>\n",
       "      <td>1</td>\n",
       "      <td>56</td>\n",
       "      <td>2</td>\n",
       "      <td>2</td>\n",
       "      <td>1</td>\n",
       "      <td>1700.0</td>\n",
       "      <td>2.0</td>\n",
       "      <td>3</td>\n",
       "      <td>3</td>\n",
       "    </tr>\n",
       "    <tr>\n",
       "      <th>99</th>\n",
       "      <td>1</td>\n",
       "      <td>42</td>\n",
       "      <td>5</td>\n",
       "      <td>1</td>\n",
       "      <td>5</td>\n",
       "      <td>4430.0</td>\n",
       "      <td>5.0</td>\n",
       "      <td>2</td>\n",
       "      <td>4</td>\n",
       "    </tr>\n",
       "    <tr>\n",
       "      <th>100</th>\n",
       "      <td>2</td>\n",
       "      <td>36</td>\n",
       "      <td>1</td>\n",
       "      <td>2</td>\n",
       "      <td>1</td>\n",
       "      <td>1100.0</td>\n",
       "      <td>1.0</td>\n",
       "      <td>5</td>\n",
       "      <td>1</td>\n",
       "    </tr>\n",
       "    <tr>\n",
       "      <th>101</th>\n",
       "      <td>1</td>\n",
       "      <td>25</td>\n",
       "      <td>1</td>\n",
       "      <td>2</td>\n",
       "      <td>5</td>\n",
       "      <td>1400.0</td>\n",
       "      <td>1.0</td>\n",
       "      <td>3</td>\n",
       "      <td>2</td>\n",
       "    </tr>\n",
       "  </tbody>\n",
       "</table>\n",
       "<p>102 rows × 9 columns</p>\n",
       "</div>"
      ],
      "text/plain": [
       "     gender  age  family_size  house  education  income  purchases_household  \\\n",
       "0         1   34            4      1          4  2960.0                  4.0   \n",
       "1         1   67            1      1          1   980.0                  1.0   \n",
       "2         2   46            3      3          5  3500.0                  4.0   \n",
       "3         1   22            2      2          3   860.0                  1.0   \n",
       "4         2   30            5      2          4  3380.0                  4.0   \n",
       "..      ...  ...          ...    ...        ...     ...                  ...   \n",
       "97        1   38            1      2          4  1380.0                  1.0   \n",
       "98        1   56            2      2          1  1700.0                  2.0   \n",
       "99        1   42            5      1          5  4430.0                  5.0   \n",
       "100       2   36            1      2          1  1100.0                  1.0   \n",
       "101       1   25            1      2          5  1400.0                  1.0   \n",
       "\n",
       "     sat_product_range  sat_price  \n",
       "0                    3          2  \n",
       "1                    5          2  \n",
       "2                    2          4  \n",
       "3                    5          3  \n",
       "4                    2          3  \n",
       "..                 ...        ...  \n",
       "97                   4          3  \n",
       "98                   3          3  \n",
       "99                   2          4  \n",
       "100                  5          1  \n",
       "101                  3          2  \n",
       "\n",
       "[102 rows x 9 columns]"
      ]
     },
     "execution_count": 9,
     "metadata": {},
     "output_type": "execute_result"
    }
   ],
   "source": [
    "df.drop('H', axis = 1)"
   ]
  },
  {
   "cell_type": "markdown",
   "id": "4c475a19",
   "metadata": {},
   "source": [
    "# Print a summary of the variables"
   ]
  },
  {
   "cell_type": "code",
   "execution_count": 10,
   "id": "c738dc17",
   "metadata": {},
   "outputs": [
    {
     "name": "stdout",
     "output_type": "stream",
     "text": [
      "<class 'pandas.core.frame.DataFrame'>\n",
      "RangeIndex: 102 entries, 0 to 101\n",
      "Data columns (total 10 columns):\n",
      " #   Column               Non-Null Count  Dtype  \n",
      "---  ------               --------------  -----  \n",
      " 0   H                    102 non-null    int64  \n",
      " 1   gender               102 non-null    int64  \n",
      " 2   age                  102 non-null    int64  \n",
      " 3   family_size          102 non-null    int64  \n",
      " 4   house                102 non-null    int64  \n",
      " 5   education            102 non-null    int64  \n",
      " 6   income               100 non-null    float64\n",
      " 7   purchases_household  101 non-null    float64\n",
      " 8   sat_product_range    102 non-null    int64  \n",
      " 9   sat_price            102 non-null    int64  \n",
      "dtypes: float64(2), int64(8)\n",
      "memory usage: 8.1 KB\n"
     ]
    }
   ],
   "source": [
    "df.info()"
   ]
  },
  {
   "cell_type": "code",
   "execution_count": 11,
   "id": "07ba945b",
   "metadata": {},
   "outputs": [
    {
     "data": {
      "text/html": [
       "<div>\n",
       "<style scoped>\n",
       "    .dataframe tbody tr th:only-of-type {\n",
       "        vertical-align: middle;\n",
       "    }\n",
       "\n",
       "    .dataframe tbody tr th {\n",
       "        vertical-align: top;\n",
       "    }\n",
       "\n",
       "    .dataframe thead th {\n",
       "        text-align: right;\n",
       "    }\n",
       "</style>\n",
       "<table border=\"1\" class=\"dataframe\">\n",
       "  <thead>\n",
       "    <tr style=\"text-align: right;\">\n",
       "      <th></th>\n",
       "      <th>H</th>\n",
       "      <th>gender</th>\n",
       "      <th>age</th>\n",
       "      <th>family_size</th>\n",
       "      <th>house</th>\n",
       "      <th>education</th>\n",
       "      <th>income</th>\n",
       "      <th>purchases_household</th>\n",
       "      <th>sat_product_range</th>\n",
       "      <th>sat_price</th>\n",
       "    </tr>\n",
       "  </thead>\n",
       "  <tbody>\n",
       "    <tr>\n",
       "      <th>count</th>\n",
       "      <td>102.000000</td>\n",
       "      <td>102.000000</td>\n",
       "      <td>102.000000</td>\n",
       "      <td>102.000000</td>\n",
       "      <td>102.000000</td>\n",
       "      <td>102.000000</td>\n",
       "      <td>100.000000</td>\n",
       "      <td>101.000000</td>\n",
       "      <td>102.000000</td>\n",
       "      <td>102.000000</td>\n",
       "    </tr>\n",
       "    <tr>\n",
       "      <th>mean</th>\n",
       "      <td>51.500000</td>\n",
       "      <td>1.313725</td>\n",
       "      <td>41.176471</td>\n",
       "      <td>2.705882</td>\n",
       "      <td>1.745098</td>\n",
       "      <td>3.205882</td>\n",
       "      <td>2365.700000</td>\n",
       "      <td>2.584158</td>\n",
       "      <td>3.500000</td>\n",
       "      <td>2.754902</td>\n",
       "    </tr>\n",
       "    <tr>\n",
       "      <th>std</th>\n",
       "      <td>29.588849</td>\n",
       "      <td>0.466298</td>\n",
       "      <td>12.779479</td>\n",
       "      <td>1.583255</td>\n",
       "      <td>0.684861</td>\n",
       "      <td>1.402531</td>\n",
       "      <td>960.653455</td>\n",
       "      <td>1.151237</td>\n",
       "      <td>1.149688</td>\n",
       "      <td>0.969192</td>\n",
       "    </tr>\n",
       "    <tr>\n",
       "      <th>min</th>\n",
       "      <td>1.000000</td>\n",
       "      <td>1.000000</td>\n",
       "      <td>19.000000</td>\n",
       "      <td>1.000000</td>\n",
       "      <td>1.000000</td>\n",
       "      <td>1.000000</td>\n",
       "      <td>770.000000</td>\n",
       "      <td>1.000000</td>\n",
       "      <td>1.000000</td>\n",
       "      <td>1.000000</td>\n",
       "    </tr>\n",
       "    <tr>\n",
       "      <th>25%</th>\n",
       "      <td>26.250000</td>\n",
       "      <td>1.000000</td>\n",
       "      <td>31.000000</td>\n",
       "      <td>1.000000</td>\n",
       "      <td>1.000000</td>\n",
       "      <td>2.000000</td>\n",
       "      <td>1667.500000</td>\n",
       "      <td>2.000000</td>\n",
       "      <td>3.000000</td>\n",
       "      <td>2.000000</td>\n",
       "    </tr>\n",
       "    <tr>\n",
       "      <th>50%</th>\n",
       "      <td>51.500000</td>\n",
       "      <td>1.000000</td>\n",
       "      <td>39.500000</td>\n",
       "      <td>2.000000</td>\n",
       "      <td>2.000000</td>\n",
       "      <td>4.000000</td>\n",
       "      <td>2205.000000</td>\n",
       "      <td>2.000000</td>\n",
       "      <td>3.000000</td>\n",
       "      <td>3.000000</td>\n",
       "    </tr>\n",
       "    <tr>\n",
       "      <th>75%</th>\n",
       "      <td>76.750000</td>\n",
       "      <td>2.000000</td>\n",
       "      <td>50.000000</td>\n",
       "      <td>4.000000</td>\n",
       "      <td>2.000000</td>\n",
       "      <td>4.000000</td>\n",
       "      <td>2990.000000</td>\n",
       "      <td>3.000000</td>\n",
       "      <td>5.000000</td>\n",
       "      <td>3.000000</td>\n",
       "    </tr>\n",
       "    <tr>\n",
       "      <th>max</th>\n",
       "      <td>102.000000</td>\n",
       "      <td>2.000000</td>\n",
       "      <td>72.000000</td>\n",
       "      <td>7.000000</td>\n",
       "      <td>3.000000</td>\n",
       "      <td>5.000000</td>\n",
       "      <td>4850.000000</td>\n",
       "      <td>5.000000</td>\n",
       "      <td>5.000000</td>\n",
       "      <td>5.000000</td>\n",
       "    </tr>\n",
       "  </tbody>\n",
       "</table>\n",
       "</div>"
      ],
      "text/plain": [
       "                H      gender         age  family_size       house  \\\n",
       "count  102.000000  102.000000  102.000000   102.000000  102.000000   \n",
       "mean    51.500000    1.313725   41.176471     2.705882    1.745098   \n",
       "std     29.588849    0.466298   12.779479     1.583255    0.684861   \n",
       "min      1.000000    1.000000   19.000000     1.000000    1.000000   \n",
       "25%     26.250000    1.000000   31.000000     1.000000    1.000000   \n",
       "50%     51.500000    1.000000   39.500000     2.000000    2.000000   \n",
       "75%     76.750000    2.000000   50.000000     4.000000    2.000000   \n",
       "max    102.000000    2.000000   72.000000     7.000000    3.000000   \n",
       "\n",
       "        education       income  purchases_household  sat_product_range  \\\n",
       "count  102.000000   100.000000           101.000000         102.000000   \n",
       "mean     3.205882  2365.700000             2.584158           3.500000   \n",
       "std      1.402531   960.653455             1.151237           1.149688   \n",
       "min      1.000000   770.000000             1.000000           1.000000   \n",
       "25%      2.000000  1667.500000             2.000000           3.000000   \n",
       "50%      4.000000  2205.000000             2.000000           3.000000   \n",
       "75%      4.000000  2990.000000             3.000000           5.000000   \n",
       "max      5.000000  4850.000000             5.000000           5.000000   \n",
       "\n",
       "        sat_price  \n",
       "count  102.000000  \n",
       "mean     2.754902  \n",
       "std      0.969192  \n",
       "min      1.000000  \n",
       "25%      2.000000  \n",
       "50%      3.000000  \n",
       "75%      3.000000  \n",
       "max      5.000000  "
      ]
     },
     "execution_count": 11,
     "metadata": {},
     "output_type": "execute_result"
    }
   ],
   "source": [
    "df.describe()"
   ]
  },
  {
   "cell_type": "markdown",
   "id": "035ad56e",
   "metadata": {},
   "source": [
    "# Investigate a few qualitative variables and calculate counts for their values"
   ]
  },
  {
   "cell_type": "markdown",
   "id": "805a53ce",
   "metadata": {},
   "source": [
    "### Gender"
   ]
  },
  {
   "cell_type": "code",
   "execution_count": 12,
   "id": "c2370c25",
   "metadata": {},
   "outputs": [
    {
     "data": {
      "text/html": [
       "<div>\n",
       "<style scoped>\n",
       "    .dataframe tbody tr th:only-of-type {\n",
       "        vertical-align: middle;\n",
       "    }\n",
       "\n",
       "    .dataframe tbody tr th {\n",
       "        vertical-align: top;\n",
       "    }\n",
       "\n",
       "    .dataframe thead th {\n",
       "        text-align: right;\n",
       "    }\n",
       "</style>\n",
       "<table border=\"1\" class=\"dataframe\">\n",
       "  <thead>\n",
       "    <tr style=\"text-align: right;\">\n",
       "      <th>Gender</th>\n",
       "      <th>Count</th>\n",
       "    </tr>\n",
       "  </thead>\n",
       "  <tbody>\n",
       "    <tr>\n",
       "      <th>woman</th>\n",
       "      <td>70</td>\n",
       "    </tr>\n",
       "    <tr>\n",
       "      <th>man</th>\n",
       "      <td>32</td>\n",
       "    </tr>\n",
       "  </tbody>\n",
       "</table>\n",
       "</div>"
      ],
      "text/plain": [
       "Gender  Count\n",
       "woman      70\n",
       "man        32"
      ]
     },
     "execution_count": 12,
     "metadata": {},
     "output_type": "execute_result"
    }
   ],
   "source": [
    "gender_df = pd.crosstab(df['gender'], 'Count')\n",
    "gender_df.index = ['woman', 'man']\n",
    "gender_df.columns.name = 'Gender'\n",
    "gender_df"
   ]
  },
  {
   "cell_type": "markdown",
   "id": "c41826cd",
   "metadata": {},
   "source": [
    "### Housing"
   ]
  },
  {
   "cell_type": "code",
   "execution_count": 13,
   "id": "49f9053f",
   "metadata": {},
   "outputs": [
    {
     "data": {
      "text/html": [
       "<div>\n",
       "<style scoped>\n",
       "    .dataframe tbody tr th:only-of-type {\n",
       "        vertical-align: middle;\n",
       "    }\n",
       "\n",
       "    .dataframe tbody tr th {\n",
       "        vertical-align: top;\n",
       "    }\n",
       "\n",
       "    .dataframe thead th {\n",
       "        text-align: right;\n",
       "    }\n",
       "</style>\n",
       "<table border=\"1\" class=\"dataframe\">\n",
       "  <thead>\n",
       "    <tr style=\"text-align: right;\">\n",
       "      <th>Housing type</th>\n",
       "      <th>Count</th>\n",
       "    </tr>\n",
       "  </thead>\n",
       "  <tbody>\n",
       "    <tr>\n",
       "      <th>own apartment</th>\n",
       "      <td>40</td>\n",
       "    </tr>\n",
       "    <tr>\n",
       "      <th>rental apartment</th>\n",
       "      <td>48</td>\n",
       "    </tr>\n",
       "    <tr>\n",
       "      <th>employee housing</th>\n",
       "      <td>14</td>\n",
       "    </tr>\n",
       "  </tbody>\n",
       "</table>\n",
       "</div>"
      ],
      "text/plain": [
       "Housing type      Count\n",
       "own apartment        40\n",
       "rental apartment     48\n",
       "employee housing     14"
      ]
     },
     "execution_count": 13,
     "metadata": {},
     "output_type": "execute_result"
    }
   ],
   "source": [
    "house_df = pd.crosstab(df['house'], 'Count')\n",
    "house_df.index = ['own apartment', 'rental apartment', 'employee housing']\n",
    "house_df.columns.name = 'Housing type'\n",
    "house_df"
   ]
  },
  {
   "cell_type": "markdown",
   "id": "6b71b6ca",
   "metadata": {},
   "source": [
    "### Education"
   ]
  },
  {
   "cell_type": "code",
   "execution_count": 14,
   "id": "b00f6f5b",
   "metadata": {},
   "outputs": [
    {
     "data": {
      "text/html": [
       "<div>\n",
       "<style scoped>\n",
       "    .dataframe tbody tr th:only-of-type {\n",
       "        vertical-align: middle;\n",
       "    }\n",
       "\n",
       "    .dataframe tbody tr th {\n",
       "        vertical-align: top;\n",
       "    }\n",
       "\n",
       "    .dataframe thead th {\n",
       "        text-align: right;\n",
       "    }\n",
       "</style>\n",
       "<table border=\"1\" class=\"dataframe\">\n",
       "  <thead>\n",
       "    <tr style=\"text-align: right;\">\n",
       "      <th>Education type</th>\n",
       "      <th>Count</th>\n",
       "    </tr>\n",
       "  </thead>\n",
       "  <tbody>\n",
       "    <tr>\n",
       "      <th>primary school</th>\n",
       "      <td>16</td>\n",
       "    </tr>\n",
       "    <tr>\n",
       "      <th>vocational school</th>\n",
       "      <td>22</td>\n",
       "    </tr>\n",
       "    <tr>\n",
       "      <th>secondary school</th>\n",
       "      <td>10</td>\n",
       "    </tr>\n",
       "    <tr>\n",
       "      <th>applied science university</th>\n",
       "      <td>33</td>\n",
       "    </tr>\n",
       "    <tr>\n",
       "      <th>other university</th>\n",
       "      <td>21</td>\n",
       "    </tr>\n",
       "  </tbody>\n",
       "</table>\n",
       "</div>"
      ],
      "text/plain": [
       "Education type              Count\n",
       "primary school                 16\n",
       "vocational school              22\n",
       "secondary school               10\n",
       "applied science university     33\n",
       "other university               21"
      ]
     },
     "execution_count": 14,
     "metadata": {},
     "output_type": "execute_result"
    }
   ],
   "source": [
    "education_df = pd.crosstab(df['education'], 'Count')\n",
    "education_df.index = ['primary school', 'vocational school', 'secondary school', 'applied science university', 'other university']\n",
    "education_df.columns.name = 'Education type'\n",
    "education_df"
   ]
  },
  {
   "cell_type": "markdown",
   "id": "35d172ff",
   "metadata": {},
   "source": [
    "### Product satisfaction"
   ]
  },
  {
   "cell_type": "code",
   "execution_count": 15,
   "id": "4ae8c00f",
   "metadata": {},
   "outputs": [
    {
     "data": {
      "text/html": [
       "<div>\n",
       "<style scoped>\n",
       "    .dataframe tbody tr th:only-of-type {\n",
       "        vertical-align: middle;\n",
       "    }\n",
       "\n",
       "    .dataframe tbody tr th {\n",
       "        vertical-align: top;\n",
       "    }\n",
       "\n",
       "    .dataframe thead th {\n",
       "        text-align: right;\n",
       "    }\n",
       "</style>\n",
       "<table border=\"1\" class=\"dataframe\">\n",
       "  <thead>\n",
       "    <tr style=\"text-align: right;\">\n",
       "      <th>Product satisfaction type</th>\n",
       "      <th>Count</th>\n",
       "    </tr>\n",
       "  </thead>\n",
       "  <tbody>\n",
       "    <tr>\n",
       "      <th>Very unsatisfied</th>\n",
       "      <td>2</td>\n",
       "    </tr>\n",
       "    <tr>\n",
       "      <th>Unsatisfied</th>\n",
       "      <td>21</td>\n",
       "    </tr>\n",
       "    <tr>\n",
       "      <th>Neutral</th>\n",
       "      <td>30</td>\n",
       "    </tr>\n",
       "    <tr>\n",
       "      <th>Satisfied</th>\n",
       "      <td>22</td>\n",
       "    </tr>\n",
       "    <tr>\n",
       "      <th>Very satisfied</th>\n",
       "      <td>27</td>\n",
       "    </tr>\n",
       "  </tbody>\n",
       "</table>\n",
       "</div>"
      ],
      "text/plain": [
       "Product satisfaction type  Count\n",
       "Very unsatisfied               2\n",
       "Unsatisfied                   21\n",
       "Neutral                       30\n",
       "Satisfied                     22\n",
       "Very satisfied                27"
      ]
     },
     "execution_count": 15,
     "metadata": {},
     "output_type": "execute_result"
    }
   ],
   "source": [
    "sat_product_range_df = pd.crosstab(df['sat_product_range'], 'Count')\n",
    "sat_product_range_df.index = ['Very unsatisfied', 'Unsatisfied', 'Neutral', 'Satisfied', 'Very satisfied']\n",
    "sat_product_range_df.columns.name = 'Product satisfaction type'\n",
    "sat_product_range_df"
   ]
  },
  {
   "cell_type": "markdown",
   "id": "45806b51",
   "metadata": {},
   "source": [
    "### Price satisfaction"
   ]
  },
  {
   "cell_type": "code",
   "execution_count": 16,
   "id": "66332d81",
   "metadata": {},
   "outputs": [
    {
     "data": {
      "text/html": [
       "<div>\n",
       "<style scoped>\n",
       "    .dataframe tbody tr th:only-of-type {\n",
       "        vertical-align: middle;\n",
       "    }\n",
       "\n",
       "    .dataframe tbody tr th {\n",
       "        vertical-align: top;\n",
       "    }\n",
       "\n",
       "    .dataframe thead th {\n",
       "        text-align: right;\n",
       "    }\n",
       "</style>\n",
       "<table border=\"1\" class=\"dataframe\">\n",
       "  <thead>\n",
       "    <tr style=\"text-align: right;\">\n",
       "      <th>Price satisfaction type</th>\n",
       "      <th>Count</th>\n",
       "    </tr>\n",
       "  </thead>\n",
       "  <tbody>\n",
       "    <tr>\n",
       "      <th>Very unsatisfied</th>\n",
       "      <td>12</td>\n",
       "    </tr>\n",
       "    <tr>\n",
       "      <th>Unsatisfied</th>\n",
       "      <td>25</td>\n",
       "    </tr>\n",
       "    <tr>\n",
       "      <th>Neutral</th>\n",
       "      <td>43</td>\n",
       "    </tr>\n",
       "    <tr>\n",
       "      <th>Satisfied</th>\n",
       "      <td>20</td>\n",
       "    </tr>\n",
       "    <tr>\n",
       "      <th>Very satisfied</th>\n",
       "      <td>2</td>\n",
       "    </tr>\n",
       "  </tbody>\n",
       "</table>\n",
       "</div>"
      ],
      "text/plain": [
       "Price satisfaction type  Count\n",
       "Very unsatisfied            12\n",
       "Unsatisfied                 25\n",
       "Neutral                     43\n",
       "Satisfied                   20\n",
       "Very satisfied               2"
      ]
     },
     "execution_count": 16,
     "metadata": {},
     "output_type": "execute_result"
    }
   ],
   "source": [
    "sat_price_df = pd.crosstab(df['sat_price'], 'Count')\n",
    "sat_price_df.index = ['Very unsatisfied', 'Unsatisfied', 'Neutral', 'Satisfied', 'Very satisfied']\n",
    "sat_price_df.columns.name = 'Price satisfaction type'\n",
    "sat_price_df"
   ]
  },
  {
   "cell_type": "markdown",
   "id": "a7bd2d3e",
   "metadata": {},
   "source": [
    "# Draw a graphs based on the frequency tables"
   ]
  },
  {
   "cell_type": "markdown",
   "id": "5e1da7b2",
   "metadata": {},
   "source": [
    "### Gender"
   ]
  },
  {
   "cell_type": "code",
   "execution_count": 17,
   "id": "69c42da7",
   "metadata": {},
   "outputs": [
    {
     "data": {
      "text/plain": [
       "(array([0, 1]), [Text(0, 0, 'woman'), Text(1, 0, 'man')])"
      ]
     },
     "execution_count": 17,
     "metadata": {},
     "output_type": "execute_result"
    },
    {
     "data": {
      "image/png": "[encoded data removed]",
      "text/plain": [
       "<Figure size 432x288 with 1 Axes>"
      ]
     },
     "metadata": {
      "needs_background": "light"
     },
     "output_type": "display_data"
    }
   ],
   "source": [
    "gender_df.plot.bar()\n",
    "plt.title('Gender distribution')\n",
    "plt.ylabel('Count')\n",
    "plt.xlabel('Gender')\n",
    "plt.tick_params(axis = 'x', length = 0)\n",
    "plt.xticks(rotation = 0)"
   ]
  },
  {
   "cell_type": "markdown",
   "id": "937ddd0f",
   "metadata": {},
   "source": [
    "### Housing"
   ]
  },
  {
   "cell_type": "code",
   "execution_count": 18,
   "id": "dec5bfe6",
   "metadata": {},
   "outputs": [
    {
     "data": {
      "text/plain": [
       "(array([0, 1, 2]),\n",
       " [Text(0, 0, 'own apartment'),\n",
       "  Text(1, 0, 'rental apartment'),\n",
       "  Text(2, 0, 'employee housing')])"
      ]
     },
     "execution_count": 18,
     "metadata": {},
     "output_type": "execute_result"
    },
    {
     "data": {
      "image/png": "[encoded data removed]",
      "text/plain": [
       "<Figure size 432x288 with 1 Axes>"
      ]
     },
     "metadata": {
      "needs_background": "light"
     },
     "output_type": "display_data"
    }
   ],
   "source": [
    "house_df.plot.bar()\n",
    "plt.title('Housing distribution')\n",
    "plt.ylabel('Count')\n",
    "plt.xlabel('Housing type')\n",
    "plt.tick_params(axis = 'x', length = 0)\n",
    "plt.xticks(rotation = 0)"
   ]
  },
  {
   "cell_type": "markdown",
   "id": "f7494776",
   "metadata": {},
   "source": [
    "### Education"
   ]
  },
  {
   "cell_type": "code",
   "execution_count": 19,
   "id": "46980c1e",
   "metadata": {},
   "outputs": [
    {
     "data": {
      "text/plain": [
       "(array([0, 1, 2, 3, 4]),\n",
       " [Text(0, 0, 'primary school'),\n",
       "  Text(1, 0, 'vocational school'),\n",
       "  Text(2, 0, 'secondary school'),\n",
       "  Text(3, 0, 'applied science university'),\n",
       "  Text(4, 0, 'other university')])"
      ]
     },
     "execution_count": 19,
     "metadata": {},
     "output_type": "execute_result"
    },
    {
     "data": {
      "image/png": "[encoded data removed]",
      "text/plain": [
       "<Figure size 432x288 with 1 Axes>"
      ]
     },
     "metadata": {
      "needs_background": "light"
     },
     "output_type": "display_data"
    }
   ],
   "source": [
    "education_df.plot.bar()\n",
    "plt.title('Education distribution')\n",
    "plt.ylabel('Count')\n",
    "plt.xlabel('Education type')\n",
    "plt.tick_params(axis = 'x', length = 0)\n",
    "plt.xticks(rotation = 45)"
   ]
  },
  {
   "cell_type": "markdown",
   "id": "87007427",
   "metadata": {},
   "source": [
    "### Product satisfaction"
   ]
  },
  {
   "cell_type": "code",
   "execution_count": 20,
   "id": "f86fc7ca",
   "metadata": {},
   "outputs": [
    {
     "data": {
      "text/plain": [
       "(array([0, 1, 2, 3, 4]),\n",
       " [Text(0, 0, 'Very unsatisfied'),\n",
       "  Text(1, 0, 'Unsatisfied'),\n",
       "  Text(2, 0, 'Neutral'),\n",
       "  Text(3, 0, 'Satisfied'),\n",
       "  Text(4, 0, 'Very satisfied')])"
      ]
     },
     "execution_count": 20,
     "metadata": {},
     "output_type": "execute_result"
    },
    {
     "data": {
      "image/png": "[encoded data removed]",
      "text/plain": [
       "<Figure size 432x288 with 1 Axes>"
      ]
     },
     "metadata": {
      "needs_background": "light"
     },
     "output_type": "display_data"
    }
   ],
   "source": [
    "sat_product_range_df.plot.bar()\n",
    "plt.title('Product satisfaction distribution')\n",
    "plt.ylabel('Count')\n",
    "plt.xlabel('Product satisfaction type')\n",
    "plt.tick_params(axis = 'x', length = 0)\n",
    "plt.xticks(rotation = 45)"
   ]
  },
  {
   "cell_type": "markdown",
   "id": "a5a30f6e",
   "metadata": {},
   "source": [
    "### Price satisfaction"
   ]
  },
  {
   "cell_type": "code",
   "execution_count": 21,
   "id": "272764a9",
   "metadata": {},
   "outputs": [
    {
     "data": {
      "text/plain": [
       "(array([0, 1, 2, 3, 4]),\n",
       " [Text(0, 0, 'Very unsatisfied'),\n",
       "  Text(1, 0, 'Unsatisfied'),\n",
       "  Text(2, 0, 'Neutral'),\n",
       "  Text(3, 0, 'Satisfied'),\n",
       "  Text(4, 0, 'Very satisfied')])"
      ]
     },
     "execution_count": 21,
     "metadata": {},
     "output_type": "execute_result"
    },
    {
     "data": {
      "image/png": "[encoded data removed]",
      "text/plain": [
       "<Figure size 432x288 with 1 Axes>"
      ]
     },
     "metadata": {
      "needs_background": "light"
     },
     "output_type": "display_data"
    }
   ],
   "source": [
    "sat_price_df.plot.bar()\n",
    "plt.title('Price satisfaction distribution')\n",
    "plt.ylabel('Count')\n",
    "plt.xlabel('Price satisfaction type')\n",
    "plt.tick_params(axis = 'x', length = 0)\n",
    "plt.xticks(rotation = 45)"
   ]
  },
  {
   "cell_type": "markdown",
   "id": "0e751f23",
   "metadata": {},
   "source": [
    "# Instead of using frequencies, use percentages"
   ]
  },
  {
   "cell_type": "markdown",
   "id": "2779c3e9",
   "metadata": {},
   "source": [
    "### Gender"
   ]
  },
  {
   "cell_type": "code",
   "execution_count": 22,
   "id": "0c06a8a6",
   "metadata": {},
   "outputs": [
    {
     "data": {
      "text/html": [
       "<div>\n",
       "<style scoped>\n",
       "    .dataframe tbody tr th:only-of-type {\n",
       "        vertical-align: middle;\n",
       "    }\n",
       "\n",
       "    .dataframe tbody tr th {\n",
       "        vertical-align: top;\n",
       "    }\n",
       "\n",
       "    .dataframe thead th {\n",
       "        text-align: right;\n",
       "    }\n",
       "</style>\n",
       "<table border=\"1\" class=\"dataframe\">\n",
       "  <thead>\n",
       "    <tr style=\"text-align: right;\">\n",
       "      <th>Gender</th>\n",
       "      <th>Count</th>\n",
       "      <th>%</th>\n",
       "    </tr>\n",
       "  </thead>\n",
       "  <tbody>\n",
       "    <tr>\n",
       "      <th>woman</th>\n",
       "      <td>70</td>\n",
       "      <td>68.627451</td>\n",
       "    </tr>\n",
       "    <tr>\n",
       "      <th>man</th>\n",
       "      <td>32</td>\n",
       "      <td>31.372549</td>\n",
       "    </tr>\n",
       "  </tbody>\n",
       "</table>\n",
       "</div>"
      ],
      "text/plain": [
       "Gender  Count          %\n",
       "woman      70  68.627451\n",
       "man        32  31.372549"
      ]
     },
     "execution_count": 22,
     "metadata": {},
     "output_type": "execute_result"
    }
   ],
   "source": [
    "gender_df_1 = pd.crosstab(df['gender'], 'Count')\n",
    "gender_df_1['%'] = gender_df_1['Count'] / gender_df_1['Count'].sum() * 100\n",
    "gender_df_1.index = ['woman', 'man']\n",
    "gender_df_1.columns.name = 'Gender'\n",
    "gender_df_1"
   ]
  },
  {
   "cell_type": "code",
   "execution_count": 23,
   "id": "7c4c1566",
   "metadata": {},
   "outputs": [
    {
     "data": {
      "text/plain": [
       "(array([0, 1]), [Text(0, 0, 'woman'), Text(1, 0, 'man')])"
      ]
     },
     "execution_count": 23,
     "metadata": {},
     "output_type": "execute_result"
    },
    {
     "data": {
      "image/png": "[encoded data removed]",
      "text/plain": [
       "<Figure size 432x288 with 1 Axes>"
      ]
     },
     "metadata": {
      "needs_background": "light"
     },
     "output_type": "display_data"
    }
   ],
   "source": [
    "gender_df_1['%'].plot.bar()\n",
    "plt.title('Gender distribution')\n",
    "plt.ylabel('%')\n",
    "plt.xlabel('Gender')\n",
    "plt.tick_params(axis = 'x', length = 0)\n",
    "plt.xticks(rotation = 0)"
   ]
  },
  {
   "cell_type": "markdown",
   "id": "dbb7838a",
   "metadata": {},
   "source": [
    "### Housing"
   ]
  },
  {
   "cell_type": "code",
   "execution_count": 24,
   "id": "d365fa7a",
   "metadata": {},
   "outputs": [
    {
     "data": {
      "text/html": [
       "<div>\n",
       "<style scoped>\n",
       "    .dataframe tbody tr th:only-of-type {\n",
       "        vertical-align: middle;\n",
       "    }\n",
       "\n",
       "    .dataframe tbody tr th {\n",
       "        vertical-align: top;\n",
       "    }\n",
       "\n",
       "    .dataframe thead th {\n",
       "        text-align: right;\n",
       "    }\n",
       "</style>\n",
       "<table border=\"1\" class=\"dataframe\">\n",
       "  <thead>\n",
       "    <tr style=\"text-align: right;\">\n",
       "      <th>Housing type</th>\n",
       "      <th>Count</th>\n",
       "      <th>%</th>\n",
       "    </tr>\n",
       "  </thead>\n",
       "  <tbody>\n",
       "    <tr>\n",
       "      <th>own apartment</th>\n",
       "      <td>40</td>\n",
       "      <td>39.215686</td>\n",
       "    </tr>\n",
       "    <tr>\n",
       "      <th>rental apartment</th>\n",
       "      <td>48</td>\n",
       "      <td>47.058824</td>\n",
       "    </tr>\n",
       "    <tr>\n",
       "      <th>employee housing</th>\n",
       "      <td>14</td>\n",
       "      <td>13.725490</td>\n",
       "    </tr>\n",
       "  </tbody>\n",
       "</table>\n",
       "</div>"
      ],
      "text/plain": [
       "Housing type      Count          %\n",
       "own apartment        40  39.215686\n",
       "rental apartment     48  47.058824\n",
       "employee housing     14  13.725490"
      ]
     },
     "execution_count": 24,
     "metadata": {},
     "output_type": "execute_result"
    }
   ],
   "source": [
    "house_df_1 = pd.crosstab(df['house'], 'Count')\n",
    "house_df_1['%'] = house_df_1['Count'] / house_df_1['Count'].sum() * 100\n",
    "house_df_1.index = ['own apartment', 'rental apartment', 'employee housing']\n",
    "house_df_1.columns.name = 'Housing type'\n",
    "house_df_1"
   ]
  },
  {
   "cell_type": "code",
   "execution_count": 25,
   "id": "48580457",
   "metadata": {},
   "outputs": [
    {
     "data": {
      "text/plain": [
       "(array([0, 1, 2]),\n",
       " [Text(0, 0, 'own apartment'),\n",
       "  Text(1, 0, 'rental apartment'),\n",
       "  Text(2, 0, 'employee housing')])"
      ]
     },
     "execution_count": 25,
     "metadata": {},
     "output_type": "execute_result"
    },
    {
     "data": {
      "image/png": "[encoded data removed]",
      "text/plain": [
       "<Figure size 432x288 with 1 Axes>"
      ]
     },
     "metadata": {
      "needs_background": "light"
     },
     "output_type": "display_data"
    }
   ],
   "source": [
    "house_df_1['%'].plot.bar()\n",
    "plt.title('Housing distribution')\n",
    "plt.ylabel('%')\n",
    "plt.xlabel('Housing type')\n",
    "plt.tick_params(axis = 'x', length = 0)\n",
    "plt.xticks(rotation = 0)"
   ]
  },
  {
   "cell_type": "markdown",
   "id": "fb1a11bc",
   "metadata": {},
   "source": [
    "### Education"
   ]
  },
  {
   "cell_type": "code",
   "execution_count": 26,
   "id": "9126dec6",
   "metadata": {},
   "outputs": [
    {
     "data": {
      "text/html": [
       "<div>\n",
       "<style scoped>\n",
       "    .dataframe tbody tr th:only-of-type {\n",
       "        vertical-align: middle;\n",
       "    }\n",
       "\n",
       "    .dataframe tbody tr th {\n",
       "        vertical-align: top;\n",
       "    }\n",
       "\n",
       "    .dataframe thead th {\n",
       "        text-align: right;\n",
       "    }\n",
       "</style>\n",
       "<table border=\"1\" class=\"dataframe\">\n",
       "  <thead>\n",
       "    <tr style=\"text-align: right;\">\n",
       "      <th>Education type</th>\n",
       "      <th>Count</th>\n",
       "      <th>%</th>\n",
       "    </tr>\n",
       "  </thead>\n",
       "  <tbody>\n",
       "    <tr>\n",
       "      <th>primary school</th>\n",
       "      <td>16</td>\n",
       "      <td>15.686275</td>\n",
       "    </tr>\n",
       "    <tr>\n",
       "      <th>vocational school</th>\n",
       "      <td>22</td>\n",
       "      <td>21.568627</td>\n",
       "    </tr>\n",
       "    <tr>\n",
       "      <th>secondary school</th>\n",
       "      <td>10</td>\n",
       "      <td>9.803922</td>\n",
       "    </tr>\n",
       "    <tr>\n",
       "      <th>applied science university</th>\n",
       "      <td>33</td>\n",
       "      <td>32.352941</td>\n",
       "    </tr>\n",
       "    <tr>\n",
       "      <th>other university</th>\n",
       "      <td>21</td>\n",
       "      <td>20.588235</td>\n",
       "    </tr>\n",
       "  </tbody>\n",
       "</table>\n",
       "</div>"
      ],
      "text/plain": [
       "Education type              Count          %\n",
       "primary school                 16  15.686275\n",
       "vocational school              22  21.568627\n",
       "secondary school               10   9.803922\n",
       "applied science university     33  32.352941\n",
       "other university               21  20.588235"
      ]
     },
     "execution_count": 26,
     "metadata": {},
     "output_type": "execute_result"
    }
   ],
   "source": [
    "education_df_1 = pd.crosstab(df['education'], 'Count')\n",
    "education_df_1['%'] = education_df_1['Count'] / education_df_1['Count'].sum() * 100\n",
    "education_df_1.index = ['primary school', 'vocational school', 'secondary school', 'applied science university', 'other university']\n",
    "education_df_1.columns.name = 'Education type'\n",
    "education_df_1"
   ]
  },
  {
   "cell_type": "code",
   "execution_count": 27,
   "id": "aceebf5a",
   "metadata": {},
   "outputs": [
    {
     "data": {
      "text/plain": [
       "(array([0, 1, 2, 3, 4]),\n",
       " [Text(0, 0, 'primary school'),\n",
       "  Text(1, 0, 'vocational school'),\n",
       "  Text(2, 0, 'secondary school'),\n",
       "  Text(3, 0, 'applied science university'),\n",
       "  Text(4, 0, 'other university')])"
      ]
     },
     "execution_count": 27,
     "metadata": {},
     "output_type": "execute_result"
    },
    {
     "data": {
      "image/png": "[encoded data removed]",
      "text/plain": [
       "<Figure size 432x288 with 1 Axes>"
      ]
     },
     "metadata": {
      "needs_background": "light"
     },
     "output_type": "display_data"
    }
   ],
   "source": [
    "education_df_1['%'].plot.bar()\n",
    "plt.title('Education distribution')\n",
    "plt.ylabel('%')\n",
    "plt.xlabel('Education type')\n",
    "plt.tick_params(axis = 'x', length = 0)\n",
    "plt.xticks(rotation = 45)"
   ]
  },
  {
   "cell_type": "markdown",
   "id": "2cf3f763",
   "metadata": {},
   "source": [
    "### Product satisfaction"
   ]
  },
  {
   "cell_type": "code",
   "execution_count": 28,
   "id": "7f542d9c",
   "metadata": {},
   "outputs": [
    {
     "data": {
      "text/html": [
       "<div>\n",
       "<style scoped>\n",
       "    .dataframe tbody tr th:only-of-type {\n",
       "        vertical-align: middle;\n",
       "    }\n",
       "\n",
       "    .dataframe tbody tr th {\n",
       "        vertical-align: top;\n",
       "    }\n",
       "\n",
       "    .dataframe thead th {\n",
       "        text-align: right;\n",
       "    }\n",
       "</style>\n",
       "<table border=\"1\" class=\"dataframe\">\n",
       "  <thead>\n",
       "    <tr style=\"text-align: right;\">\n",
       "      <th>Product satisfaction type</th>\n",
       "      <th>Count</th>\n",
       "      <th>%</th>\n",
       "    </tr>\n",
       "  </thead>\n",
       "  <tbody>\n",
       "    <tr>\n",
       "      <th>Very unsatisfied</th>\n",
       "      <td>2</td>\n",
       "      <td>1.960784</td>\n",
       "    </tr>\n",
       "    <tr>\n",
       "      <th>Unsatisfied</th>\n",
       "      <td>21</td>\n",
       "      <td>20.588235</td>\n",
       "    </tr>\n",
       "    <tr>\n",
       "      <th>Neutral</th>\n",
       "      <td>30</td>\n",
       "      <td>29.411765</td>\n",
       "    </tr>\n",
       "    <tr>\n",
       "      <th>Satisfied</th>\n",
       "      <td>22</td>\n",
       "      <td>21.568627</td>\n",
       "    </tr>\n",
       "    <tr>\n",
       "      <th>Very satisfied</th>\n",
       "      <td>27</td>\n",
       "      <td>26.470588</td>\n",
       "    </tr>\n",
       "  </tbody>\n",
       "</table>\n",
       "</div>"
      ],
      "text/plain": [
       "Product satisfaction type  Count          %\n",
       "Very unsatisfied               2   1.960784\n",
       "Unsatisfied                   21  20.588235\n",
       "Neutral                       30  29.411765\n",
       "Satisfied                     22  21.568627\n",
       "Very satisfied                27  26.470588"
      ]
     },
     "execution_count": 28,
     "metadata": {},
     "output_type": "execute_result"
    }
   ],
   "source": [
    "sat_product_range_df_1 = pd.crosstab(df['sat_product_range'], 'Count')\n",
    "sat_product_range_df_1['%'] = sat_product_range_df_1['Count'] / sat_product_range_df_1['Count'].sum() * 100\n",
    "sat_product_range_df_1.index = ['Very unsatisfied', 'Unsatisfied', 'Neutral', 'Satisfied', 'Very satisfied']\n",
    "sat_product_range_df_1.columns.name = 'Product satisfaction type'\n",
    "sat_product_range_df_1"
   ]
  },
  {
   "cell_type": "code",
   "execution_count": 29,
   "id": "6d552375",
   "metadata": {},
   "outputs": [
    {
     "data": {
      "text/plain": [
       "(array([0, 1, 2, 3, 4]),\n",
       " [Text(0, 0, 'Very unsatisfied'),\n",
       "  Text(1, 0, 'Unsatisfied'),\n",
       "  Text(2, 0, 'Neutral'),\n",
       "  Text(3, 0, 'Satisfied'),\n",
       "  Text(4, 0, 'Very satisfied')])"
      ]
     },
     "execution_count": 29,
     "metadata": {},
     "output_type": "execute_result"
    },
    {
     "data": {
      "image/png": "[encoded data removed]",
      "text/plain": [
       "<Figure size 432x288 with 1 Axes>"
      ]
     },
     "metadata": {
      "needs_background": "light"
     },
     "output_type": "display_data"
    }
   ],
   "source": [
    "sat_product_range_df_1['%'].plot.bar()\n",
    "plt.title('Product satisfaction distribution')\n",
    "plt.ylabel('%')\n",
    "plt.xlabel('Product satisfaction type')\n",
    "plt.tick_params(axis = 'x', length = 0)\n",
    "plt.xticks(rotation = 45)"
   ]
  },
  {
   "cell_type": "markdown",
   "id": "4406240e",
   "metadata": {},
   "source": [
    "### Price satisfaction"
   ]
  },
  {
   "cell_type": "code",
   "execution_count": 30,
   "id": "7e929f0b",
   "metadata": {},
   "outputs": [
    {
     "data": {
      "text/html": [
       "<div>\n",
       "<style scoped>\n",
       "    .dataframe tbody tr th:only-of-type {\n",
       "        vertical-align: middle;\n",
       "    }\n",
       "\n",
       "    .dataframe tbody tr th {\n",
       "        vertical-align: top;\n",
       "    }\n",
       "\n",
       "    .dataframe thead th {\n",
       "        text-align: right;\n",
       "    }\n",
       "</style>\n",
       "<table border=\"1\" class=\"dataframe\">\n",
       "  <thead>\n",
       "    <tr style=\"text-align: right;\">\n",
       "      <th>Price satisfaction type</th>\n",
       "      <th>Count</th>\n",
       "      <th>%</th>\n",
       "    </tr>\n",
       "  </thead>\n",
       "  <tbody>\n",
       "    <tr>\n",
       "      <th>Very unsatisfied</th>\n",
       "      <td>12</td>\n",
       "      <td>11.764706</td>\n",
       "    </tr>\n",
       "    <tr>\n",
       "      <th>Unsatisfied</th>\n",
       "      <td>25</td>\n",
       "      <td>24.509804</td>\n",
       "    </tr>\n",
       "    <tr>\n",
       "      <th>Neutral</th>\n",
       "      <td>43</td>\n",
       "      <td>42.156863</td>\n",
       "    </tr>\n",
       "    <tr>\n",
       "      <th>Satisfied</th>\n",
       "      <td>20</td>\n",
       "      <td>19.607843</td>\n",
       "    </tr>\n",
       "    <tr>\n",
       "      <th>Very satisfied</th>\n",
       "      <td>2</td>\n",
       "      <td>1.960784</td>\n",
       "    </tr>\n",
       "  </tbody>\n",
       "</table>\n",
       "</div>"
      ],
      "text/plain": [
       "Price satisfaction type  Count          %\n",
       "Very unsatisfied            12  11.764706\n",
       "Unsatisfied                 25  24.509804\n",
       "Neutral                     43  42.156863\n",
       "Satisfied                   20  19.607843\n",
       "Very satisfied               2   1.960784"
      ]
     },
     "execution_count": 30,
     "metadata": {},
     "output_type": "execute_result"
    }
   ],
   "source": [
    "sat_price_df_1 = pd.crosstab(df['sat_price'], 'Count')\n",
    "sat_price_df_1['%'] = sat_price_df_1['Count'] / sat_price_df_1['Count'].sum() * 100\n",
    "sat_price_df_1.index = ['Very unsatisfied', 'Unsatisfied', 'Neutral', 'Satisfied', 'Very satisfied']\n",
    "sat_price_df_1.columns.name = 'Price satisfaction type'\n",
    "sat_price_df_1"
   ]
  },
  {
   "cell_type": "code",
   "execution_count": 31,
   "id": "637e0183",
   "metadata": {},
   "outputs": [
    {
     "data": {
      "text/plain": [
       "(array([0, 1, 2, 3, 4]),\n",
       " [Text(0, 0, 'Very unsatisfied'),\n",
       "  Text(1, 0, 'Unsatisfied'),\n",
       "  Text(2, 0, 'Neutral'),\n",
       "  Text(3, 0, 'Satisfied'),\n",
       "  Text(4, 0, 'Very satisfied')])"
      ]
     },
     "execution_count": 31,
     "metadata": {},
     "output_type": "execute_result"
    },
    {
     "data": {
      "image/png": "[encoded data removed]",
      "text/plain": [
       "<Figure size 432x288 with 1 Axes>"
      ]
     },
     "metadata": {
      "needs_background": "light"
     },
     "output_type": "display_data"
    }
   ],
   "source": [
    "sat_price_df_1['%'].plot.bar()\n",
    "plt.title('Price satisfaction distribution')\n",
    "plt.ylabel('%')\n",
    "plt.xlabel('Price satisfaction type')\n",
    "plt.tick_params(axis = 'x', length = 0)\n",
    "plt.xticks(rotation = 45)"
   ]
  },
  {
   "cell_type": "markdown",
   "id": "36f82eff",
   "metadata": {},
   "source": [
    "# Create some classifications for quantitative variables"
   ]
  },
  {
   "cell_type": "markdown",
   "id": "160abe21",
   "metadata": {},
   "source": [
    "### Age"
   ]
  },
  {
   "cell_type": "code",
   "execution_count": 32,
   "id": "9298afbd",
   "metadata": {},
   "outputs": [
    {
     "name": "stdout",
     "output_type": "stream",
     "text": [
      "Min age = 19; Max age = 72;\n"
     ]
    }
   ],
   "source": [
    "print('Min age = {}; Max age = {};'.format(min(df['age']), max(df['age'])))"
   ]
  },
  {
   "cell_type": "code",
   "execution_count": 33,
   "id": "68e0fcff",
   "metadata": {},
   "outputs": [
    {
     "data": {
      "text/html": [
       "<div>\n",
       "<style scoped>\n",
       "    .dataframe tbody tr th:only-of-type {\n",
       "        vertical-align: middle;\n",
       "    }\n",
       "\n",
       "    .dataframe tbody tr th {\n",
       "        vertical-align: top;\n",
       "    }\n",
       "\n",
       "    .dataframe thead th {\n",
       "        text-align: right;\n",
       "    }\n",
       "</style>\n",
       "<table border=\"1\" class=\"dataframe\">\n",
       "  <thead>\n",
       "    <tr style=\"text-align: right;\">\n",
       "      <th></th>\n",
       "      <th>H</th>\n",
       "      <th>gender</th>\n",
       "      <th>age</th>\n",
       "      <th>family_size</th>\n",
       "      <th>house</th>\n",
       "      <th>education</th>\n",
       "      <th>income</th>\n",
       "      <th>purchases_household</th>\n",
       "      <th>sat_product_range</th>\n",
       "      <th>sat_price</th>\n",
       "      <th>age_class</th>\n",
       "    </tr>\n",
       "  </thead>\n",
       "  <tbody>\n",
       "    <tr>\n",
       "      <th>0</th>\n",
       "      <td>1</td>\n",
       "      <td>1</td>\n",
       "      <td>34</td>\n",
       "      <td>4</td>\n",
       "      <td>1</td>\n",
       "      <td>4</td>\n",
       "      <td>2960.0</td>\n",
       "      <td>4.0</td>\n",
       "      <td>3</td>\n",
       "      <td>2</td>\n",
       "      <td>(30, 40]</td>\n",
       "    </tr>\n",
       "    <tr>\n",
       "      <th>1</th>\n",
       "      <td>2</td>\n",
       "      <td>1</td>\n",
       "      <td>67</td>\n",
       "      <td>1</td>\n",
       "      <td>1</td>\n",
       "      <td>1</td>\n",
       "      <td>980.0</td>\n",
       "      <td>1.0</td>\n",
       "      <td>5</td>\n",
       "      <td>2</td>\n",
       "      <td>(60, 70]</td>\n",
       "    </tr>\n",
       "    <tr>\n",
       "      <th>2</th>\n",
       "      <td>3</td>\n",
       "      <td>2</td>\n",
       "      <td>46</td>\n",
       "      <td>3</td>\n",
       "      <td>3</td>\n",
       "      <td>5</td>\n",
       "      <td>3500.0</td>\n",
       "      <td>4.0</td>\n",
       "      <td>2</td>\n",
       "      <td>4</td>\n",
       "      <td>(40, 50]</td>\n",
       "    </tr>\n",
       "    <tr>\n",
       "      <th>3</th>\n",
       "      <td>4</td>\n",
       "      <td>1</td>\n",
       "      <td>22</td>\n",
       "      <td>2</td>\n",
       "      <td>2</td>\n",
       "      <td>3</td>\n",
       "      <td>860.0</td>\n",
       "      <td>1.0</td>\n",
       "      <td>5</td>\n",
       "      <td>3</td>\n",
       "      <td>(18, 25]</td>\n",
       "    </tr>\n",
       "    <tr>\n",
       "      <th>4</th>\n",
       "      <td>5</td>\n",
       "      <td>2</td>\n",
       "      <td>30</td>\n",
       "      <td>5</td>\n",
       "      <td>2</td>\n",
       "      <td>4</td>\n",
       "      <td>3380.0</td>\n",
       "      <td>4.0</td>\n",
       "      <td>2</td>\n",
       "      <td>3</td>\n",
       "      <td>(25, 30]</td>\n",
       "    </tr>\n",
       "    <tr>\n",
       "      <th>...</th>\n",
       "      <td>...</td>\n",
       "      <td>...</td>\n",
       "      <td>...</td>\n",
       "      <td>...</td>\n",
       "      <td>...</td>\n",
       "      <td>...</td>\n",
       "      <td>...</td>\n",
       "      <td>...</td>\n",
       "      <td>...</td>\n",
       "      <td>...</td>\n",
       "      <td>...</td>\n",
       "    </tr>\n",
       "    <tr>\n",
       "      <th>97</th>\n",
       "      <td>98</td>\n",
       "      <td>1</td>\n",
       "      <td>38</td>\n",
       "      <td>1</td>\n",
       "      <td>2</td>\n",
       "      <td>4</td>\n",
       "      <td>1380.0</td>\n",
       "      <td>1.0</td>\n",
       "      <td>4</td>\n",
       "      <td>3</td>\n",
       "      <td>(30, 40]</td>\n",
       "    </tr>\n",
       "    <tr>\n",
       "      <th>98</th>\n",
       "      <td>99</td>\n",
       "      <td>1</td>\n",
       "      <td>56</td>\n",
       "      <td>2</td>\n",
       "      <td>2</td>\n",
       "      <td>1</td>\n",
       "      <td>1700.0</td>\n",
       "      <td>2.0</td>\n",
       "      <td>3</td>\n",
       "      <td>3</td>\n",
       "      <td>(50, 60]</td>\n",
       "    </tr>\n",
       "    <tr>\n",
       "      <th>99</th>\n",
       "      <td>100</td>\n",
       "      <td>1</td>\n",
       "      <td>42</td>\n",
       "      <td>5</td>\n",
       "      <td>1</td>\n",
       "      <td>5</td>\n",
       "      <td>4430.0</td>\n",
       "      <td>5.0</td>\n",
       "      <td>2</td>\n",
       "      <td>4</td>\n",
       "      <td>(40, 50]</td>\n",
       "    </tr>\n",
       "    <tr>\n",
       "      <th>100</th>\n",
       "      <td>101</td>\n",
       "      <td>2</td>\n",
       "      <td>36</td>\n",
       "      <td>1</td>\n",
       "      <td>2</td>\n",
       "      <td>1</td>\n",
       "      <td>1100.0</td>\n",
       "      <td>1.0</td>\n",
       "      <td>5</td>\n",
       "      <td>1</td>\n",
       "      <td>(30, 40]</td>\n",
       "    </tr>\n",
       "    <tr>\n",
       "      <th>101</th>\n",
       "      <td>102</td>\n",
       "      <td>1</td>\n",
       "      <td>25</td>\n",
       "      <td>1</td>\n",
       "      <td>2</td>\n",
       "      <td>5</td>\n",
       "      <td>1400.0</td>\n",
       "      <td>1.0</td>\n",
       "      <td>3</td>\n",
       "      <td>2</td>\n",
       "      <td>(18, 25]</td>\n",
       "    </tr>\n",
       "  </tbody>\n",
       "</table>\n",
       "<p>102 rows × 11 columns</p>\n",
       "</div>"
      ],
      "text/plain": [
       "       H  gender  age  family_size  house  education  income  \\\n",
       "0      1       1   34            4      1          4  2960.0   \n",
       "1      2       1   67            1      1          1   980.0   \n",
       "2      3       2   46            3      3          5  3500.0   \n",
       "3      4       1   22            2      2          3   860.0   \n",
       "4      5       2   30            5      2          4  3380.0   \n",
       "..   ...     ...  ...          ...    ...        ...     ...   \n",
       "97    98       1   38            1      2          4  1380.0   \n",
       "98    99       1   56            2      2          1  1700.0   \n",
       "99   100       1   42            5      1          5  4430.0   \n",
       "100  101       2   36            1      2          1  1100.0   \n",
       "101  102       1   25            1      2          5  1400.0   \n",
       "\n",
       "     purchases_household  sat_product_range  sat_price age_class  \n",
       "0                    4.0                  3          2  (30, 40]  \n",
       "1                    1.0                  5          2  (60, 70]  \n",
       "2                    4.0                  2          4  (40, 50]  \n",
       "3                    1.0                  5          3  (18, 25]  \n",
       "4                    4.0                  2          3  (25, 30]  \n",
       "..                   ...                ...        ...       ...  \n",
       "97                   1.0                  4          3  (30, 40]  \n",
       "98                   2.0                  3          3  (50, 60]  \n",
       "99                   5.0                  2          4  (40, 50]  \n",
       "100                  1.0                  5          1  (30, 40]  \n",
       "101                  1.0                  3          2  (18, 25]  \n",
       "\n",
       "[102 rows x 11 columns]"
      ]
     },
     "execution_count": 33,
     "metadata": {},
     "output_type": "execute_result"
    }
   ],
   "source": [
    "age_bins = [18, 25, 30, 40, 50, 60, 70, 80]\n",
    "df['age_class'] = pd.cut(df['age'], bins = age_bins)\n",
    "df"
   ]
  },
  {
   "cell_type": "markdown",
   "id": "1dc5d1d5",
   "metadata": {},
   "source": [
    "### Family"
   ]
  },
  {
   "cell_type": "code",
   "execution_count": 34,
   "id": "c17ec22e",
   "metadata": {},
   "outputs": [
    {
     "name": "stdout",
     "output_type": "stream",
     "text": [
      "Min family_size = 1; Max family_size = 7;\n"
     ]
    }
   ],
   "source": [
    "print('Min family_size = {}; Max family_size = {};'.format(min(df['family_size']), max(df['family_size'])))"
   ]
  },
  {
   "cell_type": "code",
   "execution_count": 35,
   "id": "5d2b808b",
   "metadata": {},
   "outputs": [
    {
     "data": {
      "text/html": [
       "<div>\n",
       "<style scoped>\n",
       "    .dataframe tbody tr th:only-of-type {\n",
       "        vertical-align: middle;\n",
       "    }\n",
       "\n",
       "    .dataframe tbody tr th {\n",
       "        vertical-align: top;\n",
       "    }\n",
       "\n",
       "    .dataframe thead th {\n",
       "        text-align: right;\n",
       "    }\n",
       "</style>\n",
       "<table border=\"1\" class=\"dataframe\">\n",
       "  <thead>\n",
       "    <tr style=\"text-align: right;\">\n",
       "      <th></th>\n",
       "      <th>H</th>\n",
       "      <th>gender</th>\n",
       "      <th>age</th>\n",
       "      <th>family_size</th>\n",
       "      <th>house</th>\n",
       "      <th>education</th>\n",
       "      <th>income</th>\n",
       "      <th>purchases_household</th>\n",
       "      <th>sat_product_range</th>\n",
       "      <th>sat_price</th>\n",
       "      <th>age_class</th>\n",
       "      <th>family_size_class</th>\n",
       "    </tr>\n",
       "  </thead>\n",
       "  <tbody>\n",
       "    <tr>\n",
       "      <th>0</th>\n",
       "      <td>1</td>\n",
       "      <td>1</td>\n",
       "      <td>34</td>\n",
       "      <td>4</td>\n",
       "      <td>1</td>\n",
       "      <td>4</td>\n",
       "      <td>2960.0</td>\n",
       "      <td>4.0</td>\n",
       "      <td>3</td>\n",
       "      <td>2</td>\n",
       "      <td>(30, 40]</td>\n",
       "      <td>(3.0, 5.0]</td>\n",
       "    </tr>\n",
       "    <tr>\n",
       "      <th>1</th>\n",
       "      <td>2</td>\n",
       "      <td>1</td>\n",
       "      <td>67</td>\n",
       "      <td>1</td>\n",
       "      <td>1</td>\n",
       "      <td>1</td>\n",
       "      <td>980.0</td>\n",
       "      <td>1.0</td>\n",
       "      <td>5</td>\n",
       "      <td>2</td>\n",
       "      <td>(60, 70]</td>\n",
       "      <td>(0.999, 3.0]</td>\n",
       "    </tr>\n",
       "    <tr>\n",
       "      <th>2</th>\n",
       "      <td>3</td>\n",
       "      <td>2</td>\n",
       "      <td>46</td>\n",
       "      <td>3</td>\n",
       "      <td>3</td>\n",
       "      <td>5</td>\n",
       "      <td>3500.0</td>\n",
       "      <td>4.0</td>\n",
       "      <td>2</td>\n",
       "      <td>4</td>\n",
       "      <td>(40, 50]</td>\n",
       "      <td>(0.999, 3.0]</td>\n",
       "    </tr>\n",
       "    <tr>\n",
       "      <th>3</th>\n",
       "      <td>4</td>\n",
       "      <td>1</td>\n",
       "      <td>22</td>\n",
       "      <td>2</td>\n",
       "      <td>2</td>\n",
       "      <td>3</td>\n",
       "      <td>860.0</td>\n",
       "      <td>1.0</td>\n",
       "      <td>5</td>\n",
       "      <td>3</td>\n",
       "      <td>(18, 25]</td>\n",
       "      <td>(0.999, 3.0]</td>\n",
       "    </tr>\n",
       "    <tr>\n",
       "      <th>4</th>\n",
       "      <td>5</td>\n",
       "      <td>2</td>\n",
       "      <td>30</td>\n",
       "      <td>5</td>\n",
       "      <td>2</td>\n",
       "      <td>4</td>\n",
       "      <td>3380.0</td>\n",
       "      <td>4.0</td>\n",
       "      <td>2</td>\n",
       "      <td>3</td>\n",
       "      <td>(25, 30]</td>\n",
       "      <td>(3.0, 5.0]</td>\n",
       "    </tr>\n",
       "    <tr>\n",
       "      <th>...</th>\n",
       "      <td>...</td>\n",
       "      <td>...</td>\n",
       "      <td>...</td>\n",
       "      <td>...</td>\n",
       "      <td>...</td>\n",
       "      <td>...</td>\n",
       "      <td>...</td>\n",
       "      <td>...</td>\n",
       "      <td>...</td>\n",
       "      <td>...</td>\n",
       "      <td>...</td>\n",
       "      <td>...</td>\n",
       "    </tr>\n",
       "    <tr>\n",
       "      <th>97</th>\n",
       "      <td>98</td>\n",
       "      <td>1</td>\n",
       "      <td>38</td>\n",
       "      <td>1</td>\n",
       "      <td>2</td>\n",
       "      <td>4</td>\n",
       "      <td>1380.0</td>\n",
       "      <td>1.0</td>\n",
       "      <td>4</td>\n",
       "      <td>3</td>\n",
       "      <td>(30, 40]</td>\n",
       "      <td>(0.999, 3.0]</td>\n",
       "    </tr>\n",
       "    <tr>\n",
       "      <th>98</th>\n",
       "      <td>99</td>\n",
       "      <td>1</td>\n",
       "      <td>56</td>\n",
       "      <td>2</td>\n",
       "      <td>2</td>\n",
       "      <td>1</td>\n",
       "      <td>1700.0</td>\n",
       "      <td>2.0</td>\n",
       "      <td>3</td>\n",
       "      <td>3</td>\n",
       "      <td>(50, 60]</td>\n",
       "      <td>(0.999, 3.0]</td>\n",
       "    </tr>\n",
       "    <tr>\n",
       "      <th>99</th>\n",
       "      <td>100</td>\n",
       "      <td>1</td>\n",
       "      <td>42</td>\n",
       "      <td>5</td>\n",
       "      <td>1</td>\n",
       "      <td>5</td>\n",
       "      <td>4430.0</td>\n",
       "      <td>5.0</td>\n",
       "      <td>2</td>\n",
       "      <td>4</td>\n",
       "      <td>(40, 50]</td>\n",
       "      <td>(3.0, 5.0]</td>\n",
       "    </tr>\n",
       "    <tr>\n",
       "      <th>100</th>\n",
       "      <td>101</td>\n",
       "      <td>2</td>\n",
       "      <td>36</td>\n",
       "      <td>1</td>\n",
       "      <td>2</td>\n",
       "      <td>1</td>\n",
       "      <td>1100.0</td>\n",
       "      <td>1.0</td>\n",
       "      <td>5</td>\n",
       "      <td>1</td>\n",
       "      <td>(30, 40]</td>\n",
       "      <td>(0.999, 3.0]</td>\n",
       "    </tr>\n",
       "    <tr>\n",
       "      <th>101</th>\n",
       "      <td>102</td>\n",
       "      <td>1</td>\n",
       "      <td>25</td>\n",
       "      <td>1</td>\n",
       "      <td>2</td>\n",
       "      <td>5</td>\n",
       "      <td>1400.0</td>\n",
       "      <td>1.0</td>\n",
       "      <td>3</td>\n",
       "      <td>2</td>\n",
       "      <td>(18, 25]</td>\n",
       "      <td>(0.999, 3.0]</td>\n",
       "    </tr>\n",
       "  </tbody>\n",
       "</table>\n",
       "<p>102 rows × 12 columns</p>\n",
       "</div>"
      ],
      "text/plain": [
       "       H  gender  age  family_size  house  education  income  \\\n",
       "0      1       1   34            4      1          4  2960.0   \n",
       "1      2       1   67            1      1          1   980.0   \n",
       "2      3       2   46            3      3          5  3500.0   \n",
       "3      4       1   22            2      2          3   860.0   \n",
       "4      5       2   30            5      2          4  3380.0   \n",
       "..   ...     ...  ...          ...    ...        ...     ...   \n",
       "97    98       1   38            1      2          4  1380.0   \n",
       "98    99       1   56            2      2          1  1700.0   \n",
       "99   100       1   42            5      1          5  4430.0   \n",
       "100  101       2   36            1      2          1  1100.0   \n",
       "101  102       1   25            1      2          5  1400.0   \n",
       "\n",
       "     purchases_household  sat_product_range  sat_price age_class  \\\n",
       "0                    4.0                  3          2  (30, 40]   \n",
       "1                    1.0                  5          2  (60, 70]   \n",
       "2                    4.0                  2          4  (40, 50]   \n",
       "3                    1.0                  5          3  (18, 25]   \n",
       "4                    4.0                  2          3  (25, 30]   \n",
       "..                   ...                ...        ...       ...   \n",
       "97                   1.0                  4          3  (30, 40]   \n",
       "98                   2.0                  3          3  (50, 60]   \n",
       "99                   5.0                  2          4  (40, 50]   \n",
       "100                  1.0                  5          1  (30, 40]   \n",
       "101                  1.0                  3          2  (18, 25]   \n",
       "\n",
       "    family_size_class  \n",
       "0          (3.0, 5.0]  \n",
       "1        (0.999, 3.0]  \n",
       "2        (0.999, 3.0]  \n",
       "3        (0.999, 3.0]  \n",
       "4          (3.0, 5.0]  \n",
       "..                ...  \n",
       "97       (0.999, 3.0]  \n",
       "98       (0.999, 3.0]  \n",
       "99         (3.0, 5.0]  \n",
       "100      (0.999, 3.0]  \n",
       "101      (0.999, 3.0]  \n",
       "\n",
       "[102 rows x 12 columns]"
      ]
     },
     "execution_count": 35,
     "metadata": {},
     "output_type": "execute_result"
    }
   ],
   "source": [
    "family_bins = [1, 3, 5, 7]\n",
    "df['family_size_class'] = pd.cut(df['family_size'], bins = family_bins, include_lowest = True)\n",
    "df"
   ]
  },
  {
   "cell_type": "markdown",
   "id": "b70889e2",
   "metadata": {},
   "source": [
    "### Income"
   ]
  },
  {
   "cell_type": "code",
   "execution_count": 36,
   "id": "0681cda3",
   "metadata": {},
   "outputs": [
    {
     "name": "stdout",
     "output_type": "stream",
     "text": [
      "Min income = 770.0; Max income = 4850.0;\n"
     ]
    }
   ],
   "source": [
    "print('Min income = {}; Max income = {};'.format(min(df['income']), max(df['income'])))"
   ]
  },
  {
   "cell_type": "code",
   "execution_count": 37,
   "id": "a53c4092",
   "metadata": {},
   "outputs": [
    {
     "data": {
      "text/html": [
       "<div>\n",
       "<style scoped>\n",
       "    .dataframe tbody tr th:only-of-type {\n",
       "        vertical-align: middle;\n",
       "    }\n",
       "\n",
       "    .dataframe tbody tr th {\n",
       "        vertical-align: top;\n",
       "    }\n",
       "\n",
       "    .dataframe thead th {\n",
       "        text-align: right;\n",
       "    }\n",
       "</style>\n",
       "<table border=\"1\" class=\"dataframe\">\n",
       "  <thead>\n",
       "    <tr style=\"text-align: right;\">\n",
       "      <th></th>\n",
       "      <th>H</th>\n",
       "      <th>gender</th>\n",
       "      <th>age</th>\n",
       "      <th>family_size</th>\n",
       "      <th>house</th>\n",
       "      <th>education</th>\n",
       "      <th>income</th>\n",
       "      <th>purchases_household</th>\n",
       "      <th>sat_product_range</th>\n",
       "      <th>sat_price</th>\n",
       "      <th>age_class</th>\n",
       "      <th>family_size_class</th>\n",
       "      <th>income_class</th>\n",
       "    </tr>\n",
       "  </thead>\n",
       "  <tbody>\n",
       "    <tr>\n",
       "      <th>0</th>\n",
       "      <td>1</td>\n",
       "      <td>1</td>\n",
       "      <td>34</td>\n",
       "      <td>4</td>\n",
       "      <td>1</td>\n",
       "      <td>4</td>\n",
       "      <td>2960.0</td>\n",
       "      <td>4.0</td>\n",
       "      <td>3</td>\n",
       "      <td>2</td>\n",
       "      <td>(30, 40]</td>\n",
       "      <td>(3.0, 5.0]</td>\n",
       "      <td>(2000, 3000]</td>\n",
       "    </tr>\n",
       "    <tr>\n",
       "      <th>1</th>\n",
       "      <td>2</td>\n",
       "      <td>1</td>\n",
       "      <td>67</td>\n",
       "      <td>1</td>\n",
       "      <td>1</td>\n",
       "      <td>1</td>\n",
       "      <td>980.0</td>\n",
       "      <td>1.0</td>\n",
       "      <td>5</td>\n",
       "      <td>2</td>\n",
       "      <td>(60, 70]</td>\n",
       "      <td>(0.999, 3.0]</td>\n",
       "      <td>(500, 1000]</td>\n",
       "    </tr>\n",
       "    <tr>\n",
       "      <th>2</th>\n",
       "      <td>3</td>\n",
       "      <td>2</td>\n",
       "      <td>46</td>\n",
       "      <td>3</td>\n",
       "      <td>3</td>\n",
       "      <td>5</td>\n",
       "      <td>3500.0</td>\n",
       "      <td>4.0</td>\n",
       "      <td>2</td>\n",
       "      <td>4</td>\n",
       "      <td>(40, 50]</td>\n",
       "      <td>(0.999, 3.0]</td>\n",
       "      <td>(3000, 4000]</td>\n",
       "    </tr>\n",
       "    <tr>\n",
       "      <th>3</th>\n",
       "      <td>4</td>\n",
       "      <td>1</td>\n",
       "      <td>22</td>\n",
       "      <td>2</td>\n",
       "      <td>2</td>\n",
       "      <td>3</td>\n",
       "      <td>860.0</td>\n",
       "      <td>1.0</td>\n",
       "      <td>5</td>\n",
       "      <td>3</td>\n",
       "      <td>(18, 25]</td>\n",
       "      <td>(0.999, 3.0]</td>\n",
       "      <td>(500, 1000]</td>\n",
       "    </tr>\n",
       "    <tr>\n",
       "      <th>4</th>\n",
       "      <td>5</td>\n",
       "      <td>2</td>\n",
       "      <td>30</td>\n",
       "      <td>5</td>\n",
       "      <td>2</td>\n",
       "      <td>4</td>\n",
       "      <td>3380.0</td>\n",
       "      <td>4.0</td>\n",
       "      <td>2</td>\n",
       "      <td>3</td>\n",
       "      <td>(25, 30]</td>\n",
       "      <td>(3.0, 5.0]</td>\n",
       "      <td>(3000, 4000]</td>\n",
       "    </tr>\n",
       "    <tr>\n",
       "      <th>...</th>\n",
       "      <td>...</td>\n",
       "      <td>...</td>\n",
       "      <td>...</td>\n",
       "      <td>...</td>\n",
       "      <td>...</td>\n",
       "      <td>...</td>\n",
       "      <td>...</td>\n",
       "      <td>...</td>\n",
       "      <td>...</td>\n",
       "      <td>...</td>\n",
       "      <td>...</td>\n",
       "      <td>...</td>\n",
       "      <td>...</td>\n",
       "    </tr>\n",
       "    <tr>\n",
       "      <th>97</th>\n",
       "      <td>98</td>\n",
       "      <td>1</td>\n",
       "      <td>38</td>\n",
       "      <td>1</td>\n",
       "      <td>2</td>\n",
       "      <td>4</td>\n",
       "      <td>1380.0</td>\n",
       "      <td>1.0</td>\n",
       "      <td>4</td>\n",
       "      <td>3</td>\n",
       "      <td>(30, 40]</td>\n",
       "      <td>(0.999, 3.0]</td>\n",
       "      <td>(1000, 2000]</td>\n",
       "    </tr>\n",
       "    <tr>\n",
       "      <th>98</th>\n",
       "      <td>99</td>\n",
       "      <td>1</td>\n",
       "      <td>56</td>\n",
       "      <td>2</td>\n",
       "      <td>2</td>\n",
       "      <td>1</td>\n",
       "      <td>1700.0</td>\n",
       "      <td>2.0</td>\n",
       "      <td>3</td>\n",
       "      <td>3</td>\n",
       "      <td>(50, 60]</td>\n",
       "      <td>(0.999, 3.0]</td>\n",
       "      <td>(1000, 2000]</td>\n",
       "    </tr>\n",
       "    <tr>\n",
       "      <th>99</th>\n",
       "      <td>100</td>\n",
       "      <td>1</td>\n",
       "      <td>42</td>\n",
       "      <td>5</td>\n",
       "      <td>1</td>\n",
       "      <td>5</td>\n",
       "      <td>4430.0</td>\n",
       "      <td>5.0</td>\n",
       "      <td>2</td>\n",
       "      <td>4</td>\n",
       "      <td>(40, 50]</td>\n",
       "      <td>(3.0, 5.0]</td>\n",
       "      <td>(4000, 5000]</td>\n",
       "    </tr>\n",
       "    <tr>\n",
       "      <th>100</th>\n",
       "      <td>101</td>\n",
       "      <td>2</td>\n",
       "      <td>36</td>\n",
       "      <td>1</td>\n",
       "      <td>2</td>\n",
       "      <td>1</td>\n",
       "      <td>1100.0</td>\n",
       "      <td>1.0</td>\n",
       "      <td>5</td>\n",
       "      <td>1</td>\n",
       "      <td>(30, 40]</td>\n",
       "      <td>(0.999, 3.0]</td>\n",
       "      <td>(1000, 2000]</td>\n",
       "    </tr>\n",
       "    <tr>\n",
       "      <th>101</th>\n",
       "      <td>102</td>\n",
       "      <td>1</td>\n",
       "      <td>25</td>\n",
       "      <td>1</td>\n",
       "      <td>2</td>\n",
       "      <td>5</td>\n",
       "      <td>1400.0</td>\n",
       "      <td>1.0</td>\n",
       "      <td>3</td>\n",
       "      <td>2</td>\n",
       "      <td>(18, 25]</td>\n",
       "      <td>(0.999, 3.0]</td>\n",
       "      <td>(1000, 2000]</td>\n",
       "    </tr>\n",
       "  </tbody>\n",
       "</table>\n",
       "<p>102 rows × 13 columns</p>\n",
       "</div>"
      ],
      "text/plain": [
       "       H  gender  age  family_size  house  education  income  \\\n",
       "0      1       1   34            4      1          4  2960.0   \n",
       "1      2       1   67            1      1          1   980.0   \n",
       "2      3       2   46            3      3          5  3500.0   \n",
       "3      4       1   22            2      2          3   860.0   \n",
       "4      5       2   30            5      2          4  3380.0   \n",
       "..   ...     ...  ...          ...    ...        ...     ...   \n",
       "97    98       1   38            1      2          4  1380.0   \n",
       "98    99       1   56            2      2          1  1700.0   \n",
       "99   100       1   42            5      1          5  4430.0   \n",
       "100  101       2   36            1      2          1  1100.0   \n",
       "101  102       1   25            1      2          5  1400.0   \n",
       "\n",
       "     purchases_household  sat_product_range  sat_price age_class  \\\n",
       "0                    4.0                  3          2  (30, 40]   \n",
       "1                    1.0                  5          2  (60, 70]   \n",
       "2                    4.0                  2          4  (40, 50]   \n",
       "3                    1.0                  5          3  (18, 25]   \n",
       "4                    4.0                  2          3  (25, 30]   \n",
       "..                   ...                ...        ...       ...   \n",
       "97                   1.0                  4          3  (30, 40]   \n",
       "98                   2.0                  3          3  (50, 60]   \n",
       "99                   5.0                  2          4  (40, 50]   \n",
       "100                  1.0                  5          1  (30, 40]   \n",
       "101                  1.0                  3          2  (18, 25]   \n",
       "\n",
       "    family_size_class  income_class  \n",
       "0          (3.0, 5.0]  (2000, 3000]  \n",
       "1        (0.999, 3.0]   (500, 1000]  \n",
       "2        (0.999, 3.0]  (3000, 4000]  \n",
       "3        (0.999, 3.0]   (500, 1000]  \n",
       "4          (3.0, 5.0]  (3000, 4000]  \n",
       "..                ...           ...  \n",
       "97       (0.999, 3.0]  (1000, 2000]  \n",
       "98       (0.999, 3.0]  (1000, 2000]  \n",
       "99         (3.0, 5.0]  (4000, 5000]  \n",
       "100      (0.999, 3.0]  (1000, 2000]  \n",
       "101      (0.999, 3.0]  (1000, 2000]  \n",
       "\n",
       "[102 rows x 13 columns]"
      ]
     },
     "execution_count": 37,
     "metadata": {},
     "output_type": "execute_result"
    }
   ],
   "source": [
    "income_bins = [500, 1000, 2000, 3000, 4000, 5000]\n",
    "df['income_class'] = pd.cut(df['income'], bins = income_bins)\n",
    "df"
   ]
  },
  {
   "cell_type": "markdown",
   "id": "85cab105",
   "metadata": {},
   "source": [
    "# - Using that classifications generate frequency distributions for the variables\n",
    "# - Also create histograms using the counts and using percentages"
   ]
  },
  {
   "cell_type": "markdown",
   "id": "ac8e0767",
   "metadata": {},
   "source": [
    "### Age"
   ]
  },
  {
   "cell_type": "code",
   "execution_count": 38,
   "id": "aea28c36",
   "metadata": {},
   "outputs": [
    {
     "data": {
      "text/html": [
       "<div>\n",
       "<style scoped>\n",
       "    .dataframe tbody tr th:only-of-type {\n",
       "        vertical-align: middle;\n",
       "    }\n",
       "\n",
       "    .dataframe tbody tr th {\n",
       "        vertical-align: top;\n",
       "    }\n",
       "\n",
       "    .dataframe thead th {\n",
       "        text-align: right;\n",
       "    }\n",
       "</style>\n",
       "<table border=\"1\" class=\"dataframe\">\n",
       "  <thead>\n",
       "    <tr style=\"text-align: right;\">\n",
       "      <th></th>\n",
       "      <th>Count</th>\n",
       "      <th>%</th>\n",
       "    </tr>\n",
       "    <tr>\n",
       "      <th>age_class</th>\n",
       "      <th></th>\n",
       "      <th></th>\n",
       "    </tr>\n",
       "  </thead>\n",
       "  <tbody>\n",
       "    <tr>\n",
       "      <th>(18, 25]</th>\n",
       "      <td>10</td>\n",
       "      <td>9.803922</td>\n",
       "    </tr>\n",
       "    <tr>\n",
       "      <th>(25, 30]</th>\n",
       "      <td>15</td>\n",
       "      <td>14.705882</td>\n",
       "    </tr>\n",
       "    <tr>\n",
       "      <th>(30, 40]</th>\n",
       "      <td>30</td>\n",
       "      <td>29.411765</td>\n",
       "    </tr>\n",
       "    <tr>\n",
       "      <th>(40, 50]</th>\n",
       "      <td>22</td>\n",
       "      <td>21.568627</td>\n",
       "    </tr>\n",
       "    <tr>\n",
       "      <th>(50, 60]</th>\n",
       "      <td>17</td>\n",
       "      <td>16.666667</td>\n",
       "    </tr>\n",
       "    <tr>\n",
       "      <th>(60, 70]</th>\n",
       "      <td>7</td>\n",
       "      <td>6.862745</td>\n",
       "    </tr>\n",
       "    <tr>\n",
       "      <th>(70, 80]</th>\n",
       "      <td>1</td>\n",
       "      <td>0.980392</td>\n",
       "    </tr>\n",
       "  </tbody>\n",
       "</table>\n",
       "</div>"
      ],
      "text/plain": [
       "           Count          %\n",
       "age_class                  \n",
       "(18, 25]      10   9.803922\n",
       "(25, 30]      15  14.705882\n",
       "(30, 40]      30  29.411765\n",
       "(40, 50]      22  21.568627\n",
       "(50, 60]      17  16.666667\n",
       "(60, 70]       7   6.862745\n",
       "(70, 80]       1   0.980392"
      ]
     },
     "execution_count": 38,
     "metadata": {},
     "output_type": "execute_result"
    }
   ],
   "source": [
    "age_df_1 = pd.crosstab(df['age_class'], 'Count')\n",
    "n = age_df_1['Count'].sum()\n",
    "age_df_1['%'] = age_df_1 / n * 100\n",
    "age_df_1.columns.name = ''\n",
    "age_df_1.index.astype(str)\n",
    "#age_df_1.loc['Total'] = age_df_1.sum()\n",
    "age_df_1"
   ]
  },
  {
   "cell_type": "code",
   "execution_count": 39,
   "id": "86150327",
   "metadata": {},
   "outputs": [
    {
     "data": {
      "image/png": "[encoded data removed]",
      "text/plain": [
       "<Figure size 432x288 with 1 Axes>"
      ]
     },
     "metadata": {
      "needs_background": "light"
     },
     "output_type": "display_data"
    }
   ],
   "source": [
    "df['age'].plot.hist(bins = age_bins, zorder = 3)\n",
    "plt.xlabel('Age')\n",
    "plt.ylabel('Count')\n",
    "plt.grid(True, zorder = 0)"
   ]
  },
  {
   "cell_type": "code",
   "execution_count": 40,
   "id": "422a6cbd",
   "metadata": {},
   "outputs": [
    {
     "data": {
      "image/png": "[encoded data removed]",
      "text/plain": [
       "<Figure size 432x288 with 1 Axes>"
      ]
     },
     "metadata": {
      "needs_background": "light"
     },
     "output_type": "display_data"
    }
   ],
   "source": [
    "df['age'].plot.hist(bins = age_bins, weights = np.ones(n) / n, zorder = 3)\n",
    "plt.gca().yaxis.set_major_formatter(PercentFormatter(1))\n",
    "plt.ylabel('')\n",
    "plt.xlabel('Age')\n",
    "plt.grid(True, zorder = 0)"
   ]
  },
  {
   "cell_type": "markdown",
   "id": "0b74101f",
   "metadata": {},
   "source": [
    "### Family"
   ]
  },
  {
   "cell_type": "code",
   "execution_count": 41,
   "id": "fc14eb97",
   "metadata": {},
   "outputs": [
    {
     "data": {
      "text/html": [
       "<div>\n",
       "<style scoped>\n",
       "    .dataframe tbody tr th:only-of-type {\n",
       "        vertical-align: middle;\n",
       "    }\n",
       "\n",
       "    .dataframe tbody tr th {\n",
       "        vertical-align: top;\n",
       "    }\n",
       "\n",
       "    .dataframe thead th {\n",
       "        text-align: right;\n",
       "    }\n",
       "</style>\n",
       "<table border=\"1\" class=\"dataframe\">\n",
       "  <thead>\n",
       "    <tr style=\"text-align: right;\">\n",
       "      <th></th>\n",
       "      <th>Count</th>\n",
       "      <th>%</th>\n",
       "    </tr>\n",
       "    <tr>\n",
       "      <th>family_size_class</th>\n",
       "      <th></th>\n",
       "      <th></th>\n",
       "    </tr>\n",
       "  </thead>\n",
       "  <tbody>\n",
       "    <tr>\n",
       "      <th>(0.999, 3.0]</th>\n",
       "      <td>70.0</td>\n",
       "      <td>68.627451</td>\n",
       "    </tr>\n",
       "    <tr>\n",
       "      <th>(3.0, 5.0]</th>\n",
       "      <td>26.0</td>\n",
       "      <td>25.490196</td>\n",
       "    </tr>\n",
       "    <tr>\n",
       "      <th>(5.0, 7.0]</th>\n",
       "      <td>6.0</td>\n",
       "      <td>5.882353</td>\n",
       "    </tr>\n",
       "    <tr>\n",
       "      <th>Total</th>\n",
       "      <td>102.0</td>\n",
       "      <td>100.000000</td>\n",
       "    </tr>\n",
       "  </tbody>\n",
       "</table>\n",
       "</div>"
      ],
      "text/plain": [
       "                   Count           %\n",
       "family_size_class                   \n",
       "(0.999, 3.0]        70.0   68.627451\n",
       "(3.0, 5.0]          26.0   25.490196\n",
       "(5.0, 7.0]           6.0    5.882353\n",
       "Total              102.0  100.000000"
      ]
     },
     "execution_count": 41,
     "metadata": {},
     "output_type": "execute_result"
    }
   ],
   "source": [
    "family_size_df_1 = pd.crosstab(df['family_size_class'], 'Count')\n",
    "n = family_size_df_1['Count'].sum()\n",
    "family_size_df_1['%'] = family_size_df_1 / n * 100\n",
    "family_size_df_1.columns.name = ''\n",
    "family_size_df_1.index.astype(str)\n",
    "family_size_df_1.loc['Total'] = family_size_df_1.sum()\n",
    "family_size_df_1"
   ]
  },
  {
   "cell_type": "code",
   "execution_count": 42,
   "id": "28de2f41",
   "metadata": {},
   "outputs": [
    {
     "data": {
      "image/png": "[encoded data removed]",
      "text/plain": [
       "<Figure size 432x288 with 1 Axes>"
      ]
     },
     "metadata": {
      "needs_background": "light"
     },
     "output_type": "display_data"
    }
   ],
   "source": [
    "df['family_size'].plot.hist(bins = family_bins, zorder = 3)\n",
    "plt.xlabel('Family size')\n",
    "plt.ylabel('Count')\n",
    "plt.grid(True, zorder = 0)"
   ]
  },
  {
   "cell_type": "code",
   "execution_count": 43,
   "id": "41fea3be",
   "metadata": {},
   "outputs": [
    {
     "data": {
      "image/png": "[encoded data removed]",
      "text/plain": [
       "<Figure size 432x288 with 1 Axes>"
      ]
     },
     "metadata": {
      "needs_background": "light"
     },
     "output_type": "display_data"
    }
   ],
   "source": [
    "df['family_size'].plot.hist(bins = family_bins, weights = np.ones(n) / n, zorder = 3)\n",
    "plt.gca().yaxis.set_major_formatter(PercentFormatter(1))\n",
    "plt.ylabel('')\n",
    "plt.xlabel('Family size')\n",
    "plt.grid(True, zorder = 0)"
   ]
  },
  {
   "cell_type": "markdown",
   "id": "2b971246",
   "metadata": {},
   "source": [
    "### Income"
   ]
  },
  {
   "cell_type": "code",
   "execution_count": 44,
   "id": "223ed2dd",
   "metadata": {},
   "outputs": [
    {
     "data": {
      "text/html": [
       "<div>\n",
       "<style scoped>\n",
       "    .dataframe tbody tr th:only-of-type {\n",
       "        vertical-align: middle;\n",
       "    }\n",
       "\n",
       "    .dataframe tbody tr th {\n",
       "        vertical-align: top;\n",
       "    }\n",
       "\n",
       "    .dataframe thead th {\n",
       "        text-align: right;\n",
       "    }\n",
       "</style>\n",
       "<table border=\"1\" class=\"dataframe\">\n",
       "  <thead>\n",
       "    <tr style=\"text-align: right;\">\n",
       "      <th></th>\n",
       "      <th>Count</th>\n",
       "      <th>%</th>\n",
       "    </tr>\n",
       "    <tr>\n",
       "      <th>income_class</th>\n",
       "      <th></th>\n",
       "      <th></th>\n",
       "    </tr>\n",
       "  </thead>\n",
       "  <tbody>\n",
       "    <tr>\n",
       "      <th>(500, 1000]</th>\n",
       "      <td>6.0</td>\n",
       "      <td>6.0</td>\n",
       "    </tr>\n",
       "    <tr>\n",
       "      <th>(1000, 2000]</th>\n",
       "      <td>34.0</td>\n",
       "      <td>34.0</td>\n",
       "    </tr>\n",
       "    <tr>\n",
       "      <th>(2000, 3000]</th>\n",
       "      <td>36.0</td>\n",
       "      <td>36.0</td>\n",
       "    </tr>\n",
       "    <tr>\n",
       "      <th>(3000, 4000]</th>\n",
       "      <td>17.0</td>\n",
       "      <td>17.0</td>\n",
       "    </tr>\n",
       "    <tr>\n",
       "      <th>(4000, 5000]</th>\n",
       "      <td>7.0</td>\n",
       "      <td>7.0</td>\n",
       "    </tr>\n",
       "    <tr>\n",
       "      <th>Total</th>\n",
       "      <td>100.0</td>\n",
       "      <td>100.0</td>\n",
       "    </tr>\n",
       "  </tbody>\n",
       "</table>\n",
       "</div>"
      ],
      "text/plain": [
       "              Count      %\n",
       "income_class              \n",
       "(500, 1000]     6.0    6.0\n",
       "(1000, 2000]   34.0   34.0\n",
       "(2000, 3000]   36.0   36.0\n",
       "(3000, 4000]   17.0   17.0\n",
       "(4000, 5000]    7.0    7.0\n",
       "Total         100.0  100.0"
      ]
     },
     "execution_count": 44,
     "metadata": {},
     "output_type": "execute_result"
    }
   ],
   "source": [
    "income_df_1 = pd.crosstab(df['income_class'], 'Count')\n",
    "n = income_df_1['Count'].sum()\n",
    "income_df_1['%'] = income_df_1 / n * 100\n",
    "income_df_1.columns.name = ''\n",
    "income_df_1.index.astype(str)\n",
    "income_df_1.loc['Total'] = income_df_1.sum()\n",
    "income_df_1"
   ]
  },
  {
   "cell_type": "code",
   "execution_count": 45,
   "id": "8f595873",
   "metadata": {},
   "outputs": [
    {
     "data": {
      "image/png": "[encoded data removed]",
      "text/plain": [
       "<Figure size 432x288 with 1 Axes>"
      ]
     },
     "metadata": {
      "needs_background": "light"
     },
     "output_type": "display_data"
    }
   ],
   "source": [
    "df['income'].plot.hist(bins = income_bins, zorder = 3)\n",
    "plt.xlabel('Income')\n",
    "plt.ylabel('Count')\n",
    "plt.grid(True, zorder = 0)"
   ]
  },
  {
   "cell_type": "code",
   "execution_count": 46,
   "id": "3d6aa5b4",
   "metadata": {},
   "outputs": [
    {
     "data": {
      "image/png": "[encoded data removed]",
      "text/plain": [
       "<Figure size 432x288 with 1 Axes>"
      ]
     },
     "metadata": {
      "needs_background": "light"
     },
     "output_type": "display_data"
    }
   ],
   "source": [
    "df['income'].plot.hist(bins = income_bins, weights = np.ones(n) / n, zorder = 3)\n",
    "plt.gca().yaxis.set_major_formatter(PercentFormatter(1))\n",
    "plt.ylabel('')\n",
    "plt.xlabel('Income')\n",
    "plt.grid(True, zorder = 0)"
   ]
  },
  {
   "cell_type": "markdown",
   "id": "43b567fc",
   "metadata": {},
   "source": [
    "### Purchases household"
   ]
  },
  {
   "cell_type": "code",
   "execution_count": 47,
   "id": "f55df618",
   "metadata": {},
   "outputs": [
    {
     "data": {
      "text/html": [
       "<div>\n",
       "<style scoped>\n",
       "    .dataframe tbody tr th:only-of-type {\n",
       "        vertical-align: middle;\n",
       "    }\n",
       "\n",
       "    .dataframe tbody tr th {\n",
       "        vertical-align: top;\n",
       "    }\n",
       "\n",
       "    .dataframe thead th {\n",
       "        text-align: right;\n",
       "    }\n",
       "</style>\n",
       "<table border=\"1\" class=\"dataframe\">\n",
       "  <thead>\n",
       "    <tr style=\"text-align: right;\">\n",
       "      <th></th>\n",
       "      <th>Count</th>\n",
       "      <th>%</th>\n",
       "    </tr>\n",
       "  </thead>\n",
       "  <tbody>\n",
       "    <tr>\n",
       "      <th>[0, 250)</th>\n",
       "      <td>17.0</td>\n",
       "      <td>16.831683</td>\n",
       "    </tr>\n",
       "    <tr>\n",
       "      <th>[250, 500)</th>\n",
       "      <td>39.0</td>\n",
       "      <td>38.613861</td>\n",
       "    </tr>\n",
       "    <tr>\n",
       "      <th>[500, 750)</th>\n",
       "      <td>20.0</td>\n",
       "      <td>19.801980</td>\n",
       "    </tr>\n",
       "    <tr>\n",
       "      <th>[750, 999)</th>\n",
       "      <td>19.0</td>\n",
       "      <td>18.811881</td>\n",
       "    </tr>\n",
       "    <tr>\n",
       "      <th>[1000, inf)</th>\n",
       "      <td>6.0</td>\n",
       "      <td>5.940594</td>\n",
       "    </tr>\n",
       "    <tr>\n",
       "      <th>Total</th>\n",
       "      <td>101.0</td>\n",
       "      <td>100.000000</td>\n",
       "    </tr>\n",
       "  </tbody>\n",
       "</table>\n",
       "</div>"
      ],
      "text/plain": [
       "             Count           %\n",
       "[0, 250)      17.0   16.831683\n",
       "[250, 500)    39.0   38.613861\n",
       "[500, 750)    20.0   19.801980\n",
       "[750, 999)    19.0   18.811881\n",
       "[1000, inf)    6.0    5.940594\n",
       "Total        101.0  100.000000"
      ]
     },
     "execution_count": 47,
     "metadata": {},
     "output_type": "execute_result"
    }
   ],
   "source": [
    "purchases_household_df_1 = pd.crosstab(df['purchases_household'], 'Count')\n",
    "n = purchases_household_df_1['Count'].sum()\n",
    "purchases_household_df_1['%'] = purchases_household_df_1 / n * 100\n",
    "purchases_household_df_1.columns.name = ''\n",
    "purchases_household_df_1.index.astype(str)\n",
    "purchases_household_df_1.index = ['[0, 250)', '[250, 500)', '[500, 750)', '[750, 999)', '[1000, inf)']\n",
    "purchases_household_df_1.loc['Total'] = purchases_household_df_1.sum()\n",
    "purchases_household_df_1"
   ]
  },
  {
   "cell_type": "code",
   "execution_count": 103,
   "id": "9d34c33d",
   "metadata": {},
   "outputs": [
    {
     "data": {
      "image/png": "[encoded data removed]",
      "text/plain": [
       "<Figure size 432x288 with 1 Axes>"
      ]
     },
     "metadata": {
      "needs_background": "light"
     },
     "output_type": "display_data"
    }
   ],
   "source": [
    "df['purchases_household'].plot.hist(zorder = 3)\n",
    "plt.xlabel('Purchases household')\n",
    "plt.ylabel('Count')\n",
    "plt.xticks(np.arange(min(df['purchases_household']) , max(df['purchases_household']) + 1, 1.0))\n",
    "plt.grid(True, zorder = 0)\n",
    "# fix bars placement"
   ]
  },
  {
   "cell_type": "code",
   "execution_count": 49,
   "id": "b12ec54a",
   "metadata": {},
   "outputs": [
    {
     "data": {
      "image/png": "[encoded data removed]",
      "text/plain": [
       "<Figure size 432x288 with 1 Axes>"
      ]
     },
     "metadata": {
      "needs_background": "light"
     },
     "output_type": "display_data"
    }
   ],
   "source": [
    "df['purchases_household'].plot.hist(weights = np.ones(n) / n, zorder = 3)\n",
    "plt.gca().yaxis.set_major_formatter(PercentFormatter(1))\n",
    "plt.ylabel('')\n",
    "plt.xlabel('Purchases household')\n",
    "plt.xticks(np.arange(min(df['purchases_household']) , max(df['purchases_household']) + 1, 1.0))\n",
    "plt.grid(True, zorder = 0)\n",
    "# fix bars placement"
   ]
  },
  {
   "cell_type": "markdown",
   "id": "3d46aad7",
   "metadata": {},
   "source": [
    "# Edit other parts of the figures so that the figure shows the necessary information, remember what has been said"
   ]
  },
  {
   "cell_type": "code",
   "execution_count": null,
   "id": "3178f05b",
   "metadata": {},
   "outputs": [],
   "source": []
  },
  {
   "cell_type": "markdown",
   "id": "3492e92a",
   "metadata": {},
   "source": [
    "# - Select variables for two different cross-tabulations. Investigate whether there is a dependency between the variables.\n",
    "# - Present the results of the cross-tabulations in tables and graphically"
   ]
  },
  {
   "cell_type": "markdown",
   "id": "65831b81",
   "metadata": {},
   "source": [
    "### Housing and age"
   ]
  },
  {
   "cell_type": "code",
   "execution_count": 50,
   "id": "6ee05834",
   "metadata": {},
   "outputs": [
    {
     "data": {
      "text/html": [
       "<div>\n",
       "<style scoped>\n",
       "    .dataframe tbody tr th:only-of-type {\n",
       "        vertical-align: middle;\n",
       "    }\n",
       "\n",
       "    .dataframe tbody tr th {\n",
       "        vertical-align: top;\n",
       "    }\n",
       "\n",
       "    .dataframe thead th {\n",
       "        text-align: right;\n",
       "    }\n",
       "</style>\n",
       "<table border=\"1\" class=\"dataframe\">\n",
       "  <thead>\n",
       "    <tr style=\"text-align: right;\">\n",
       "      <th></th>\n",
       "      <th>own apartment</th>\n",
       "      <th>rental apartment</th>\n",
       "      <th>employee housing</th>\n",
       "    </tr>\n",
       "    <tr>\n",
       "      <th>age_class</th>\n",
       "      <th></th>\n",
       "      <th></th>\n",
       "      <th></th>\n",
       "    </tr>\n",
       "  </thead>\n",
       "  <tbody>\n",
       "    <tr>\n",
       "      <th>(18, 25]</th>\n",
       "      <td>2</td>\n",
       "      <td>8</td>\n",
       "      <td>0</td>\n",
       "    </tr>\n",
       "    <tr>\n",
       "      <th>(25, 30]</th>\n",
       "      <td>2</td>\n",
       "      <td>13</td>\n",
       "      <td>0</td>\n",
       "    </tr>\n",
       "    <tr>\n",
       "      <th>(30, 40]</th>\n",
       "      <td>12</td>\n",
       "      <td>14</td>\n",
       "      <td>4</td>\n",
       "    </tr>\n",
       "    <tr>\n",
       "      <th>(40, 50]</th>\n",
       "      <td>8</td>\n",
       "      <td>7</td>\n",
       "      <td>7</td>\n",
       "    </tr>\n",
       "    <tr>\n",
       "      <th>(50, 60]</th>\n",
       "      <td>10</td>\n",
       "      <td>4</td>\n",
       "      <td>3</td>\n",
       "    </tr>\n",
       "    <tr>\n",
       "      <th>(60, 70]</th>\n",
       "      <td>5</td>\n",
       "      <td>2</td>\n",
       "      <td>0</td>\n",
       "    </tr>\n",
       "    <tr>\n",
       "      <th>(70, 80]</th>\n",
       "      <td>1</td>\n",
       "      <td>0</td>\n",
       "      <td>0</td>\n",
       "    </tr>\n",
       "  </tbody>\n",
       "</table>\n",
       "</div>"
      ],
      "text/plain": [
       "           own apartment  rental apartment  employee housing\n",
       "age_class                                                   \n",
       "(18, 25]               2                 8                 0\n",
       "(25, 30]               2                13                 0\n",
       "(30, 40]              12                14                 4\n",
       "(40, 50]               8                 7                 7\n",
       "(50, 60]              10                 4                 3\n",
       "(60, 70]               5                 2                 0\n",
       "(70, 80]               1                 0                 0"
      ]
     },
     "execution_count": 50,
     "metadata": {},
     "output_type": "execute_result"
    }
   ],
   "source": [
    "housing_age_df = pd.crosstab(df['age_class'], df['house'])\n",
    "housing_age_df.columns = ['own apartment', 'rental apartment', 'employee housing']\n",
    "housing_age_df"
   ]
  },
  {
   "cell_type": "code",
   "execution_count": 77,
   "id": "e58b55a4",
   "metadata": {},
   "outputs": [
    {
     "data": {
      "text/plain": [
       "(array([0, 1, 2, 3, 4, 5, 6]),\n",
       " [Text(0, 0, '(18, 25]'),\n",
       "  Text(1, 0, '(25, 30]'),\n",
       "  Text(2, 0, '(30, 40]'),\n",
       "  Text(3, 0, '(40, 50]'),\n",
       "  Text(4, 0, '(50, 60]'),\n",
       "  Text(5, 0, '(60, 70]'),\n",
       "  Text(6, 0, '(70, 80]')])"
      ]
     },
     "execution_count": 77,
     "metadata": {},
     "output_type": "execute_result"
    },
    {
     "data": {
      "image/png": "[encoded data removed]",
      "text/plain": [
       "<Figure size 432x288 with 1 Axes>"
      ]
     },
     "metadata": {
      "needs_background": "light"
     },
     "output_type": "display_data"
    }
   ],
   "source": [
    "housing_age_df.plot.bar(zorder = 3)\n",
    "plt.grid(True, zorder = 0)\n",
    "plt.xlabel('Age')\n",
    "plt.ylabel('Count n = ' + str(n))\n",
    "plt.xticks(rotation = 0)"
   ]
  },
  {
   "cell_type": "markdown",
   "id": "331fd5db",
   "metadata": {},
   "source": [
    "### Education and income"
   ]
  },
  {
   "cell_type": "code",
   "execution_count": 52,
   "id": "e65cde61",
   "metadata": {},
   "outputs": [
    {
     "data": {
      "text/html": [
       "<div>\n",
       "<style scoped>\n",
       "    .dataframe tbody tr th:only-of-type {\n",
       "        vertical-align: middle;\n",
       "    }\n",
       "\n",
       "    .dataframe tbody tr th {\n",
       "        vertical-align: top;\n",
       "    }\n",
       "\n",
       "    .dataframe thead th {\n",
       "        text-align: right;\n",
       "    }\n",
       "</style>\n",
       "<table border=\"1\" class=\"dataframe\">\n",
       "  <thead>\n",
       "    <tr style=\"text-align: right;\">\n",
       "      <th>income_class</th>\n",
       "      <th>(500, 1000]</th>\n",
       "      <th>(1000, 2000]</th>\n",
       "      <th>(2000, 3000]</th>\n",
       "      <th>(3000, 4000]</th>\n",
       "      <th>(4000, 5000]</th>\n",
       "    </tr>\n",
       "  </thead>\n",
       "  <tbody>\n",
       "    <tr>\n",
       "      <th>primary school</th>\n",
       "      <td>1</td>\n",
       "      <td>11</td>\n",
       "      <td>4</td>\n",
       "      <td>0</td>\n",
       "      <td>0</td>\n",
       "    </tr>\n",
       "    <tr>\n",
       "      <th>vocational school</th>\n",
       "      <td>0</td>\n",
       "      <td>9</td>\n",
       "      <td>13</td>\n",
       "      <td>0</td>\n",
       "      <td>0</td>\n",
       "    </tr>\n",
       "    <tr>\n",
       "      <th>secondary school</th>\n",
       "      <td>5</td>\n",
       "      <td>0</td>\n",
       "      <td>2</td>\n",
       "      <td>1</td>\n",
       "      <td>0</td>\n",
       "    </tr>\n",
       "    <tr>\n",
       "      <th>applied science university</th>\n",
       "      <td>0</td>\n",
       "      <td>9</td>\n",
       "      <td>13</td>\n",
       "      <td>10</td>\n",
       "      <td>1</td>\n",
       "    </tr>\n",
       "    <tr>\n",
       "      <th>other university</th>\n",
       "      <td>0</td>\n",
       "      <td>5</td>\n",
       "      <td>4</td>\n",
       "      <td>6</td>\n",
       "      <td>6</td>\n",
       "    </tr>\n",
       "  </tbody>\n",
       "</table>\n",
       "</div>"
      ],
      "text/plain": [
       "income_class                (500, 1000]  (1000, 2000]  (2000, 3000]  \\\n",
       "primary school                        1            11             4   \n",
       "vocational school                     0             9            13   \n",
       "secondary school                      5             0             2   \n",
       "applied science university            0             9            13   \n",
       "other university                      0             5             4   \n",
       "\n",
       "income_class                (3000, 4000]  (4000, 5000]  \n",
       "primary school                         0             0  \n",
       "vocational school                      0             0  \n",
       "secondary school                       1             0  \n",
       "applied science university            10             1  \n",
       "other university                       6             6  "
      ]
     },
     "execution_count": 52,
     "metadata": {},
     "output_type": "execute_result"
    }
   ],
   "source": [
    "education_income_df = pd.crosstab(df['education'], df['income_class'])\n",
    "education_income_df.index = ['primary school', 'vocational school', 'secondary school', 'applied science university', 'other university']\n",
    "education_income_df"
   ]
  },
  {
   "cell_type": "code",
   "execution_count": 76,
   "id": "02a84c25",
   "metadata": {},
   "outputs": [
    {
     "data": {
      "text/plain": [
       "(array([0, 1, 2, 3, 4]),\n",
       " [Text(0, 0, 'primary school'),\n",
       "  Text(1, 0, 'vocational school'),\n",
       "  Text(2, 0, 'secondary school'),\n",
       "  Text(3, 0, 'applied science university'),\n",
       "  Text(4, 0, 'other university')])"
      ]
     },
     "execution_count": 76,
     "metadata": {},
     "output_type": "execute_result"
    },
    {
     "data": {
      "image/png": "[encoded data removed]",
      "text/plain": [
       "<Figure size 432x288 with 1 Axes>"
      ]
     },
     "metadata": {
      "needs_background": "light"
     },
     "output_type": "display_data"
    }
   ],
   "source": [
    "education_income_df.plot.bar(zorder = 3)\n",
    "plt.grid(True, zorder = 0)\n",
    "plt.xlabel('Education')\n",
    "plt.ylabel('Count n = ' + str(n))\n",
    "plt.xticks(rotation = 25)"
   ]
  },
  {
   "cell_type": "markdown",
   "id": "80e1e448",
   "metadata": {},
   "source": [
    "### Purchase houshold and product range satisfaction\n",
    "\n",
    "### Note: add range to product satisfaction in above visuals"
   ]
  },
  {
   "cell_type": "code",
   "execution_count": 54,
   "id": "9b06b724",
   "metadata": {},
   "outputs": [
    {
     "data": {
      "text/html": [
       "<div>\n",
       "<style scoped>\n",
       "    .dataframe tbody tr th:only-of-type {\n",
       "        vertical-align: middle;\n",
       "    }\n",
       "\n",
       "    .dataframe tbody tr th {\n",
       "        vertical-align: top;\n",
       "    }\n",
       "\n",
       "    .dataframe thead th {\n",
       "        text-align: right;\n",
       "    }\n",
       "</style>\n",
       "<table border=\"1\" class=\"dataframe\">\n",
       "  <thead>\n",
       "    <tr style=\"text-align: right;\">\n",
       "      <th></th>\n",
       "      <th>[0, 250)</th>\n",
       "      <th>[250, 500)</th>\n",
       "      <th>[500, 750)</th>\n",
       "      <th>[750, 999)</th>\n",
       "      <th>[1000, inf)</th>\n",
       "    </tr>\n",
       "  </thead>\n",
       "  <tbody>\n",
       "    <tr>\n",
       "      <th>Very unsatisfied</th>\n",
       "      <td>0</td>\n",
       "      <td>1</td>\n",
       "      <td>0</td>\n",
       "      <td>0</td>\n",
       "      <td>1</td>\n",
       "    </tr>\n",
       "    <tr>\n",
       "      <th>Unsatisfied</th>\n",
       "      <td>0</td>\n",
       "      <td>7</td>\n",
       "      <td>3</td>\n",
       "      <td>7</td>\n",
       "      <td>4</td>\n",
       "    </tr>\n",
       "    <tr>\n",
       "      <th>Neutral</th>\n",
       "      <td>2</td>\n",
       "      <td>11</td>\n",
       "      <td>8</td>\n",
       "      <td>8</td>\n",
       "      <td>1</td>\n",
       "    </tr>\n",
       "    <tr>\n",
       "      <th>Satisfied</th>\n",
       "      <td>2</td>\n",
       "      <td>11</td>\n",
       "      <td>5</td>\n",
       "      <td>3</td>\n",
       "      <td>0</td>\n",
       "    </tr>\n",
       "    <tr>\n",
       "      <th>Very satisfied</th>\n",
       "      <td>13</td>\n",
       "      <td>9</td>\n",
       "      <td>4</td>\n",
       "      <td>1</td>\n",
       "      <td>0</td>\n",
       "    </tr>\n",
       "  </tbody>\n",
       "</table>\n",
       "</div>"
      ],
      "text/plain": [
       "                  [0, 250)  [250, 500)  [500, 750)  [750, 999)  [1000, inf)\n",
       "Very unsatisfied         0           1           0           0            1\n",
       "Unsatisfied              0           7           3           7            4\n",
       "Neutral                  2          11           8           8            1\n",
       "Satisfied                2          11           5           3            0\n",
       "Very satisfied          13           9           4           1            0"
      ]
     },
     "execution_count": 54,
     "metadata": {},
     "output_type": "execute_result"
    }
   ],
   "source": [
    "purchase_prod_sat_df = pd.crosstab(df['sat_product_range'], df['purchases_household'])\n",
    "purchase_prod_sat_df.index = ['Very unsatisfied', 'Unsatisfied', 'Neutral', 'Satisfied', 'Very satisfied']\n",
    "purchase_prod_sat_df.columns = ['[0, 250)', '[250, 500)', '[500, 750)', '[750, 999)', '[1000, inf)']\n",
    "purchase_prod_sat_df"
   ]
  },
  {
   "cell_type": "code",
   "execution_count": 72,
   "id": "bd4808c7",
   "metadata": {},
   "outputs": [
    {
     "data": {
      "text/plain": [
       "(array([0, 1, 2, 3, 4]),\n",
       " [Text(0, 0, 'Very unsatisfied'),\n",
       "  Text(1, 0, 'Unsatisfied'),\n",
       "  Text(2, 0, 'Neutral'),\n",
       "  Text(3, 0, 'Satisfied'),\n",
       "  Text(4, 0, 'Very satisfied')])"
      ]
     },
     "execution_count": 72,
     "metadata": {},
     "output_type": "execute_result"
    },
    {
     "data": {
      "image/png": "[encoded data removed]",
      "text/plain": [
       "<Figure size 432x288 with 1 Axes>"
      ]
     },
     "metadata": {
      "needs_background": "light"
     },
     "output_type": "display_data"
    }
   ],
   "source": [
    "purchase_prod_sat_df.plot.bar(zorder = 3)\n",
    "plt.grid(True, zorder = 0)\n",
    "plt.xlabel('Product range satisfaction')\n",
    "plt.ylabel('Count n = ' + str(n))\n",
    "plt.xticks(rotation = 0)"
   ]
  },
  {
   "cell_type": "markdown",
   "id": "08959c20",
   "metadata": {},
   "source": [
    "### Purchase household and price satisfaction"
   ]
  },
  {
   "cell_type": "code",
   "execution_count": 56,
   "id": "06cd5cc5",
   "metadata": {},
   "outputs": [
    {
     "data": {
      "text/html": [
       "<div>\n",
       "<style scoped>\n",
       "    .dataframe tbody tr th:only-of-type {\n",
       "        vertical-align: middle;\n",
       "    }\n",
       "\n",
       "    .dataframe tbody tr th {\n",
       "        vertical-align: top;\n",
       "    }\n",
       "\n",
       "    .dataframe thead th {\n",
       "        text-align: right;\n",
       "    }\n",
       "</style>\n",
       "<table border=\"1\" class=\"dataframe\">\n",
       "  <thead>\n",
       "    <tr style=\"text-align: right;\">\n",
       "      <th></th>\n",
       "      <th>[0, 250)</th>\n",
       "      <th>[250, 500)</th>\n",
       "      <th>[500, 750)</th>\n",
       "      <th>[750, 999)</th>\n",
       "      <th>[1000, inf)</th>\n",
       "    </tr>\n",
       "  </thead>\n",
       "  <tbody>\n",
       "    <tr>\n",
       "      <th>Very unsatisfied</th>\n",
       "      <td>5</td>\n",
       "      <td>3</td>\n",
       "      <td>3</td>\n",
       "      <td>0</td>\n",
       "      <td>0</td>\n",
       "    </tr>\n",
       "    <tr>\n",
       "      <th>Unsatisfied</th>\n",
       "      <td>5</td>\n",
       "      <td>10</td>\n",
       "      <td>5</td>\n",
       "      <td>5</td>\n",
       "      <td>0</td>\n",
       "    </tr>\n",
       "    <tr>\n",
       "      <th>Neutral</th>\n",
       "      <td>5</td>\n",
       "      <td>18</td>\n",
       "      <td>10</td>\n",
       "      <td>9</td>\n",
       "      <td>1</td>\n",
       "    </tr>\n",
       "    <tr>\n",
       "      <th>Satisfied</th>\n",
       "      <td>2</td>\n",
       "      <td>7</td>\n",
       "      <td>2</td>\n",
       "      <td>4</td>\n",
       "      <td>5</td>\n",
       "    </tr>\n",
       "    <tr>\n",
       "      <th>Very satisfied</th>\n",
       "      <td>0</td>\n",
       "      <td>1</td>\n",
       "      <td>0</td>\n",
       "      <td>1</td>\n",
       "      <td>0</td>\n",
       "    </tr>\n",
       "  </tbody>\n",
       "</table>\n",
       "</div>"
      ],
      "text/plain": [
       "                  [0, 250)  [250, 500)  [500, 750)  [750, 999)  [1000, inf)\n",
       "Very unsatisfied         5           3           3           0            0\n",
       "Unsatisfied              5          10           5           5            0\n",
       "Neutral                  5          18          10           9            1\n",
       "Satisfied                2           7           2           4            5\n",
       "Very satisfied           0           1           0           1            0"
      ]
     },
     "execution_count": 56,
     "metadata": {},
     "output_type": "execute_result"
    }
   ],
   "source": [
    "purchase_price_sat_df = pd.crosstab(df['sat_price'], df['purchases_household'])\n",
    "purchase_price_sat_df.index = ['Very unsatisfied', 'Unsatisfied', 'Neutral', 'Satisfied', 'Very satisfied']\n",
    "purchase_price_sat_df.columns = ['[0, 250)', '[250, 500)', '[500, 750)', '[750, 999)', '[1000, inf)']\n",
    "purchase_price_sat_df"
   ]
  },
  {
   "cell_type": "code",
   "execution_count": 75,
   "id": "2a44cd7d",
   "metadata": {},
   "outputs": [
    {
     "data": {
      "text/plain": [
       "(array([0, 1, 2, 3, 4]),\n",
       " [Text(0, 0, 'Very unsatisfied'),\n",
       "  Text(1, 0, 'Unsatisfied'),\n",
       "  Text(2, 0, 'Neutral'),\n",
       "  Text(3, 0, 'Satisfied'),\n",
       "  Text(4, 0, 'Very satisfied')])"
      ]
     },
     "execution_count": 75,
     "metadata": {},
     "output_type": "execute_result"
    },
    {
     "data": {
      "image/png": "[encoded data removed]",
      "text/plain": [
       "<Figure size 432x288 with 1 Axes>"
      ]
     },
     "metadata": {
      "needs_background": "light"
     },
     "output_type": "display_data"
    }
   ],
   "source": [
    "purchase_price_sat_df.plot.bar(zorder = 3)\n",
    "plt.grid(True, zorder = 0)\n",
    "plt.xlabel('Price satisfaction')\n",
    "plt.ylabel('Count n = ' + str(n))\n",
    "plt.xticks(rotation = 0)"
   ]
  },
  {
   "cell_type": "markdown",
   "id": "3aaab1aa",
   "metadata": {},
   "source": [
    "# Use the Chi2 test to interpret whether there is a dependency between variables"
   ]
  },
  {
   "cell_type": "markdown",
   "id": "e9005f36",
   "metadata": {},
   "source": [
    "### Housing and age"
   ]
  },
  {
   "cell_type": "code",
   "execution_count": 58,
   "id": "6dca7a4f",
   "metadata": {},
   "outputs": [],
   "source": [
    "house_age_chi2, house_age_p, house_age_dof, house_age_expected = chi2_contingency(housing_age_df)"
   ]
  },
  {
   "cell_type": "code",
   "execution_count": 59,
   "id": "847e1c4c",
   "metadata": {},
   "outputs": [
    {
     "name": "stdout",
     "output_type": "stream",
     "text": [
      "p = 0.0034853975444914293\n"
     ]
    }
   ],
   "source": [
    "print('p = {}'.format(house_age_p))"
   ]
  },
  {
   "cell_type": "markdown",
   "id": "4d6b14e9",
   "metadata": {},
   "source": [
    "### Education and income"
   ]
  },
  {
   "cell_type": "code",
   "execution_count": 60,
   "id": "689c32f2",
   "metadata": {},
   "outputs": [],
   "source": [
    "education_income_chi2, education_income_p, education_income_dof, education_income_expected = chi2_contingency(education_income_df)"
   ]
  },
  {
   "cell_type": "code",
   "execution_count": 61,
   "id": "3ab6eb33",
   "metadata": {},
   "outputs": [
    {
     "name": "stdout",
     "output_type": "stream",
     "text": [
      "p = 9.285659701260166e-13\n",
      "The number is (9.285659701260166 * 10**-13)\n"
     ]
    }
   ],
   "source": [
    "print('p = {}'.format(education_income_p))\n",
    "print('The number is (9.285659701260166 * 10**-13)')"
   ]
  },
  {
   "cell_type": "markdown",
   "id": "884ce132",
   "metadata": {},
   "source": [
    "### Purchase houshold and product range satisfaction"
   ]
  },
  {
   "cell_type": "code",
   "execution_count": 62,
   "id": "480a670a",
   "metadata": {},
   "outputs": [],
   "source": [
    "purchase_product_range_chi2, purchase_product_range_p, purchase_product_range_dof, purchase_product_range_expected = chi2_contingency(purchase_prod_sat_df)"
   ]
  },
  {
   "cell_type": "code",
   "execution_count": 63,
   "id": "26d390bc",
   "metadata": {},
   "outputs": [
    {
     "name": "stdout",
     "output_type": "stream",
     "text": [
      "p = 3.8925510710773616e-05\n",
      "The number is (3.8925510710773616 * 10**-05)\n"
     ]
    }
   ],
   "source": [
    "print('p = {}'.format(purchase_product_range_p))\n",
    "print('The number is (3.8925510710773616 * 10**-05)')"
   ]
  },
  {
   "cell_type": "markdown",
   "id": "88f5a3ee",
   "metadata": {},
   "source": [
    "### Purchase household and price satisfaction"
   ]
  },
  {
   "cell_type": "code",
   "execution_count": 64,
   "id": "6492eec5",
   "metadata": {},
   "outputs": [],
   "source": [
    "purchase_price_sat_chi2, purchase_price_sat_p, purchase_price_sat_dof, purchase_price_sat_expected = chi2_contingency(purchase_price_sat_df)"
   ]
  },
  {
   "cell_type": "code",
   "execution_count": 65,
   "id": "50991510",
   "metadata": {},
   "outputs": [
    {
     "name": "stdout",
     "output_type": "stream",
     "text": [
      "p = 0.028896086371048624\n"
     ]
    }
   ],
   "source": [
    "print('p = {}'.format(purchase_price_sat_p))"
   ]
  },
  {
   "cell_type": "code",
   "execution_count": null,
   "id": "220c50b2",
   "metadata": {},
   "outputs": [],
   "source": []
  }
 ],
 "metadata": {
  "kernelspec": {
   "display_name": "Python 3 (ipykernel)",
   "language": "python",
   "name": "python3"
  },
  "language_info": {
   "codemirror_mode": {
    "name": "ipython",
    "version": 3
   },
   "file_extension": ".py",
   "mimetype": "text/x-python",
   "name": "python",
   "nbconvert_exporter": "python",
   "pygments_lexer": "ipython3",
   "version": "3.8.5"
  }
 },
 "nbformat": 4,
 "nbformat_minor": 5
}
